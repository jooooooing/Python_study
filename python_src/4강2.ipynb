{
 "cells": [
  {
   "cell_type": "code",
   "execution_count": 1,
   "id": "a4b01d1a",
   "metadata": {},
   "outputs": [
    {
     "data": {
      "text/plain": [
       "29"
      ]
     },
     "execution_count": 1,
     "metadata": {},
     "output_type": "execute_result"
    }
   ],
   "source": [
    "import sys\n",
    "a = 123 #a = 123이라고 정의\n",
    "sys.getrefcount(123) # 123을 어느 공간에 만들어놓고 참조"
   ]
  },
  {
   "cell_type": "code",
   "execution_count": 2,
   "id": "91ea02a7",
   "metadata": {},
   "outputs": [
    {
     "data": {
      "text/plain": [
       "30"
      ]
     },
     "execution_count": 2,
     "metadata": {},
     "output_type": "execute_result"
    }
   ],
   "source": [
    "b=123;sys.getrefcount(123) # b = 123을 만나면 참조횟수가 증가"
   ]
  },
  {
   "cell_type": "code",
   "execution_count": 4,
   "id": "b0691f50",
   "metadata": {},
   "outputs": [
    {
     "data": {
      "text/plain": [
       "31"
      ]
     },
     "execution_count": 4,
     "metadata": {},
     "output_type": "execute_result"
    }
   ],
   "source": [
    "c=123;sys.getrefcount(123) # c = 123을 만나면 참조횟수가 증가"
   ]
  },
  {
   "cell_type": "code",
   "execution_count": 7,
   "id": "4e5387aa",
   "metadata": {},
   "outputs": [
    {
     "data": {
      "text/plain": [
       "2.5"
      ]
     },
     "execution_count": 7,
     "metadata": {},
     "output_type": "execute_result"
    }
   ],
   "source": [
    "1+2*3/4 #사칙연산 순으로 계산"
   ]
  },
  {
   "cell_type": "code",
   "execution_count": 8,
   "id": "d7aed3de",
   "metadata": {},
   "outputs": [
    {
     "data": {
      "text/plain": [
       "8"
      ]
     },
     "execution_count": 8,
     "metadata": {},
     "output_type": "execute_result"
    }
   ],
   "source": [
    "2**3 #거듭제곱"
   ]
  },
  {
   "cell_type": "code",
   "execution_count": 9,
   "id": "e07626b9",
   "metadata": {},
   "outputs": [
    {
     "data": {
      "text/plain": [
       "3.3333333333333335"
      ]
     },
     "execution_count": 9,
     "metadata": {},
     "output_type": "execute_result"
    }
   ],
   "source": [
    "10/3 #사칙연산 순으로 계산"
   ]
  },
  {
   "cell_type": "code",
   "execution_count": 10,
   "id": "df842633",
   "metadata": {},
   "outputs": [
    {
     "data": {
      "text/plain": [
       "1.23456789012e+23"
      ]
     },
     "execution_count": 10,
     "metadata": {},
     "output_type": "execute_result"
    }
   ],
   "source": [
    "1e12*123456789012 #사칙연산 순으로 계산"
   ]
  },
  {
   "cell_type": "code",
   "execution_count": 13,
   "id": "9a31eac0",
   "metadata": {},
   "outputs": [
    {
     "data": {
      "text/plain": [
       "(124+14j)"
      ]
     },
     "execution_count": 13,
     "metadata": {},
     "output_type": "execute_result"
    }
   ],
   "source": [
    "a=1+2j #사칙연산 순으로 계산\n",
    "a+(123+12j)\n",
    "(124+14j)"
   ]
  },
  {
   "cell_type": "code",
   "execution_count": 14,
   "id": "e6a53c38",
   "metadata": {},
   "outputs": [
    {
     "data": {
      "text/plain": [
       "2.5"
      ]
     },
     "execution_count": 14,
     "metadata": {},
     "output_type": "execute_result"
    }
   ],
   "source": [
    "5/2 #실수형 계산"
   ]
  },
  {
   "cell_type": "code",
   "execution_count": 15,
   "id": "d65a7ad1",
   "metadata": {},
   "outputs": [
    {
     "data": {
      "text/plain": [
       "2"
      ]
     },
     "execution_count": 15,
     "metadata": {},
     "output_type": "execute_result"
    }
   ],
   "source": [
    "5//2 #정수형 계산"
   ]
  },
  {
   "cell_type": "code",
   "execution_count": 16,
   "id": "0b594f76",
   "metadata": {},
   "outputs": [
    {
     "data": {
      "text/plain": [
       "1"
      ]
     },
     "execution_count": 16,
     "metadata": {},
     "output_type": "execute_result"
    }
   ],
   "source": [
    "5%2 #나머지 계산"
   ]
  },
  {
   "cell_type": "code",
   "execution_count": 17,
   "id": "cf1435dd",
   "metadata": {},
   "outputs": [
    {
     "name": "stdout",
     "output_type": "stream",
     "text": [
      "2\n"
     ]
    }
   ],
   "source": [
    "a=1; a=a+1; print(a) #누적 합계"
   ]
  },
  {
   "cell_type": "code",
   "execution_count": 18,
   "id": "9792a764",
   "metadata": {},
   "outputs": [
    {
     "name": "stdout",
     "output_type": "stream",
     "text": [
      "2\n"
     ]
    }
   ],
   "source": [
    "a=1;a+=1;print(a) #누적 합계"
   ]
  },
  {
   "cell_type": "code",
   "execution_count": 19,
   "id": "95c34309",
   "metadata": {},
   "outputs": [
    {
     "data": {
      "text/plain": [
       "4"
      ]
     },
     "execution_count": 19,
     "metadata": {},
     "output_type": "execute_result"
    }
   ],
   "source": [
    "a*=2;a # 누적 곱"
   ]
  },
  {
   "cell_type": "code",
   "execution_count": 20,
   "id": "c64a2eee",
   "metadata": {},
   "outputs": [
    {
     "data": {
      "text/plain": [
       "8"
      ]
     },
     "execution_count": 20,
     "metadata": {},
     "output_type": "execute_result"
    }
   ],
   "source": [
    "a*=2;a # 누적 곱"
   ]
  },
  {
   "cell_type": "code",
   "execution_count": 21,
   "id": "0fa4f8e9",
   "metadata": {},
   "outputs": [
    {
     "data": {
      "text/plain": [
       "0"
      ]
     },
     "execution_count": 21,
     "metadata": {},
     "output_type": "execute_result"
    }
   ],
   "source": [
    "a=1;a-=1;a #누적 마이너스"
   ]
  },
  {
   "cell_type": "code",
   "execution_count": 22,
   "id": "81f5fbef",
   "metadata": {},
   "outputs": [
    {
     "data": {
      "text/plain": [
       "-1"
      ]
     },
     "execution_count": 22,
     "metadata": {},
     "output_type": "execute_result"
    }
   ],
   "source": [
    "a-=1;a #누적 마이너스"
   ]
  },
  {
   "cell_type": "code",
   "execution_count": 23,
   "id": "a38f9fbb",
   "metadata": {},
   "outputs": [
    {
     "ename": "SyntaxError",
     "evalue": "invalid syntax (1365106215.py, line 2)",
     "output_type": "error",
     "traceback": [
      "\u001b[1;36m  Input \u001b[1;32mIn [23]\u001b[1;36m\u001b[0m\n\u001b[1;33m    a++\u001b[0m\n\u001b[1;37m       ^\u001b[0m\n\u001b[1;31mSyntaxError\u001b[0m\u001b[1;31m:\u001b[0m invalid syntax\n"
     ]
    }
   ],
   "source": [
    "a=1\n",
    "a++"
   ]
  },
  {
   "cell_type": "code",
   "execution_count": 24,
   "id": "855ec3d9",
   "metadata": {},
   "outputs": [
    {
     "ename": "SyntaxError",
     "evalue": "invalid syntax (3472769062.py, line 1)",
     "output_type": "error",
     "traceback": [
      "\u001b[1;36m  Input \u001b[1;32mIn [24]\u001b[1;36m\u001b[0m\n\u001b[1;33m    a --\u001b[0m\n\u001b[1;37m        ^\u001b[0m\n\u001b[1;31mSyntaxError\u001b[0m\u001b[1;31m:\u001b[0m invalid syntax\n"
     ]
    }
   ],
   "source": [
    "a --"
   ]
  },
  {
   "cell_type": "code",
   "execution_count": 31,
   "id": "0b4b1182",
   "metadata": {},
   "outputs": [
    {
     "data": {
      "text/plain": [
       "1"
      ]
     },
     "execution_count": 31,
     "metadata": {},
     "output_type": "execute_result"
    }
   ],
   "source": [
    "a=1\n",
    "a"
   ]
  },
  {
   "cell_type": "code",
   "execution_count": 32,
   "id": "52a405d6",
   "metadata": {},
   "outputs": [
    {
     "ename": "SyntaxError",
     "evalue": "invalid syntax (1365106215.py, line 2)",
     "output_type": "error",
     "traceback": [
      "\u001b[1;36m  Input \u001b[1;32mIn [32]\u001b[1;36m\u001b[0m\n\u001b[1;33m    a++\u001b[0m\n\u001b[1;37m       ^\u001b[0m\n\u001b[1;31mSyntaxError\u001b[0m\u001b[1;31m:\u001b[0m invalid syntax\n"
     ]
    }
   ],
   "source": [
    "a=1 #a++ 사용불가\n",
    "a++"
   ]
  },
  {
   "cell_type": "code",
   "execution_count": 33,
   "id": "d4a4f53f",
   "metadata": {},
   "outputs": [
    {
     "ename": "SyntaxError",
     "evalue": "invalid syntax (1562500846.py, line 1)",
     "output_type": "error",
     "traceback": [
      "\u001b[1;36m  Input \u001b[1;32mIn [33]\u001b[1;36m\u001b[0m\n\u001b[1;33m    a--\u001b[0m\n\u001b[1;37m       ^\u001b[0m\n\u001b[1;31mSyntaxError\u001b[0m\u001b[1;31m:\u001b[0m invalid syntax\n"
     ]
    }
   ],
   "source": [
    "a-- #a-- 사용불가"
   ]
  },
  {
   "cell_type": "code",
   "execution_count": 40,
   "id": "c5ca452a",
   "metadata": {},
   "outputs": [
    {
     "data": {
      "text/plain": [
       "1"
      ]
     },
     "execution_count": 40,
     "metadata": {},
     "output_type": "execute_result"
    }
   ],
   "source": [
    "a =+ 1; # a에 +1 저장\n",
    "a"
   ]
  },
  {
   "cell_type": "code",
   "execution_count": 41,
   "id": "e354deb0",
   "metadata": {},
   "outputs": [
    {
     "data": {
      "text/plain": [
       "-1"
      ]
     },
     "execution_count": 41,
     "metadata": {},
     "output_type": "execute_result"
    }
   ],
   "source": [
    "a =-1; # a에 -1 저장\n",
    "a"
   ]
  },
  {
   "cell_type": "code",
   "execution_count": 42,
   "id": "736f6879",
   "metadata": {},
   "outputs": [
    {
     "data": {
      "text/plain": [
       "'멍멍이고양이'"
      ]
     },
     "execution_count": 42,
     "metadata": {},
     "output_type": "execute_result"
    }
   ],
   "source": [
    "a=\"멍멍이\" #a 변수 저장\n",
    "b=\"고양이\" #b 변수 저장\n",
    "a+b #문자형 변수 덧셈 문자열 붙이기"
   ]
  },
  {
   "cell_type": "code",
   "execution_count": 43,
   "id": "ca9019e7",
   "metadata": {},
   "outputs": [
    {
     "data": {
      "text/plain": [
       "'멍멍이멍멍이멍멍이고양이고양이'"
      ]
     },
     "execution_count": 43,
     "metadata": {},
     "output_type": "execute_result"
    }
   ],
   "source": [
    "a*3+b*2 #문자열 곱셈, 덧셈"
   ]
  },
  {
   "cell_type": "code",
   "execution_count": 44,
   "id": "2d60a04b",
   "metadata": {},
   "outputs": [
    {
     "data": {
      "text/plain": [
       "'--------------------'"
      ]
     },
     "execution_count": 44,
     "metadata": {},
     "output_type": "execute_result"
    }
   ],
   "source": [
    "\"-\"*20 #문자열 곱셈"
   ]
  },
  {
   "cell_type": "code",
   "execution_count": 45,
   "id": "90a9552e",
   "metadata": {},
   "outputs": [
    {
     "ename": "TypeError",
     "evalue": "can only concatenate str (not \"int\") to str",
     "output_type": "error",
     "traceback": [
      "\u001b[1;31m---------------------------------------------------------------------------\u001b[0m",
      "\u001b[1;31mTypeError\u001b[0m                                 Traceback (most recent call last)",
      "Input \u001b[1;32mIn [45]\u001b[0m, in \u001b[0;36m<cell line: 2>\u001b[1;34m()\u001b[0m\n\u001b[0;32m      1\u001b[0m a\u001b[38;5;241m=\u001b[39m\u001b[38;5;241m1\u001b[39m\n\u001b[1;32m----> 2\u001b[0m b\u001b[38;5;241m=\u001b[39m\u001b[38;5;124;43m\"\u001b[39;49m\u001b[38;5;124;43m강아지\u001b[39;49m\u001b[38;5;124;43m\"\u001b[39;49m\u001b[38;5;241;43m+\u001b[39;49m\u001b[43ma\u001b[49m\u001b[38;5;241m+\u001b[39m\u001b[38;5;124m\"\u001b[39m\u001b[38;5;124m마리\u001b[39m\u001b[38;5;124m\"\u001b[39m\n",
      "\u001b[1;31mTypeError\u001b[0m: can only concatenate str (not \"int\") to str"
     ]
    }
   ],
   "source": [
    "a=1 \n",
    "b=\"강아지\"+a+\"마리\" #문자형, 숫자형 덧셈 오류"
   ]
  },
  {
   "cell_type": "code",
   "execution_count": 46,
   "id": "b344e184",
   "metadata": {},
   "outputs": [
    {
     "data": {
      "text/plain": [
       "'강아지1마리'"
      ]
     },
     "execution_count": 46,
     "metadata": {},
     "output_type": "execute_result"
    }
   ],
   "source": [
    "b=\"강아지\"+str(a)+\"마리\" #str함수 사용\n",
    "b"
   ]
  },
  {
   "cell_type": "code",
   "execution_count": 47,
   "id": "f51f8320",
   "metadata": {},
   "outputs": [
    {
     "data": {
      "text/plain": [
       "44032"
      ]
     },
     "execution_count": 47,
     "metadata": {},
     "output_type": "execute_result"
    }
   ],
   "source": [
    "ord(\"가\") #ord 함수"
   ]
  },
  {
   "cell_type": "code",
   "execution_count": 48,
   "id": "40f592b6",
   "metadata": {},
   "outputs": [
    {
     "data": {
      "text/plain": [
       "'0x61'"
      ]
     },
     "execution_count": 48,
     "metadata": {},
     "output_type": "execute_result"
    }
   ],
   "source": [
    "hex(ord(\"a\")) #16진법 ord 함수"
   ]
  },
  {
   "cell_type": "code",
   "execution_count": 49,
   "id": "ab76fa65",
   "metadata": {},
   "outputs": [
    {
     "name": "stdout",
     "output_type": "stream",
     "text": [
      "0x61 = a , 0x62 = b , 0x63 = c , 0x64 = d , 0x65 = e , 0x66 = f , 0x67 = g , 0x68 = h , 0x69 = i , 0x6a = j , 0x6b = k , 0x6c = l , 0x6d = m , 0x6e = n , 0x6f = o , 0x70 = p , 0x71 = q , 0x72 = r , 0x73 = s , 0x74 = t , 0x75 = u , 0x76 = v , 0x77 = w , 0x78 = x , 0x79 = y , 0x7a = z , "
     ]
    }
   ],
   "source": [
    "for c in range (ord('a'), ord('z')+1):#for 반복 a부터 z까지\n",
    "    print(hex(c),\"=\",chr(c),\", \",end=\"\") #출력"
   ]
  },
  {
   "cell_type": "code",
   "execution_count": 50,
   "id": "c316f9f5",
   "metadata": {},
   "outputs": [
    {
     "ename": "TypeError",
     "evalue": "can only concatenate str (not \"int\") to str",
     "output_type": "error",
     "traceback": [
      "\u001b[1;31m---------------------------------------------------------------------------\u001b[0m",
      "\u001b[1;31mTypeError\u001b[0m                                 Traceback (most recent call last)",
      "Input \u001b[1;32mIn [50]\u001b[0m, in \u001b[0;36m<cell line: 1>\u001b[1;34m()\u001b[0m\n\u001b[1;32m----> 1\u001b[0m a\u001b[38;5;241m=\u001b[39m\u001b[38;5;124m\"\u001b[39m\u001b[38;5;124m123\u001b[39m\u001b[38;5;124m\"\u001b[39m; \u001b[43ma\u001b[49m\u001b[38;5;241;43m+\u001b[39;49m\u001b[38;5;241;43m1\u001b[39;49m\n",
      "\u001b[1;31mTypeError\u001b[0m: can only concatenate str (not \"int\") to str"
     ]
    }
   ],
   "source": [
    "a=\"123\"; a+1 #문자형 덧셈 오류"
   ]
  },
  {
   "cell_type": "code",
   "execution_count": 51,
   "id": "da0e9be6",
   "metadata": {},
   "outputs": [
    {
     "data": {
      "text/plain": [
       "124"
      ]
     },
     "execution_count": 51,
     "metadata": {},
     "output_type": "execute_result"
    }
   ],
   "source": [
    "a=\"123\"; int(a)+1 #정수형으로 변환후 덧셈"
   ]
  },
  {
   "cell_type": "code",
   "execution_count": 52,
   "id": "27b3c27f",
   "metadata": {},
   "outputs": [
    {
     "data": {
      "text/plain": [
       "12"
      ]
     },
     "execution_count": 52,
     "metadata": {},
     "output_type": "execute_result"
    }
   ],
   "source": [
    "a=12.3; int(a) #실수형 정수형 변환"
   ]
  },
  {
   "cell_type": "code",
   "execution_count": 53,
   "id": "ee88ffcb",
   "metadata": {},
   "outputs": [
    {
     "ename": "ValueError",
     "evalue": "invalid literal for int() with base 10: '12.3'",
     "output_type": "error",
     "traceback": [
      "\u001b[1;31m---------------------------------------------------------------------------\u001b[0m",
      "\u001b[1;31mValueError\u001b[0m                                Traceback (most recent call last)",
      "Input \u001b[1;32mIn [53]\u001b[0m, in \u001b[0;36m<cell line: 1>\u001b[1;34m()\u001b[0m\n\u001b[1;32m----> 1\u001b[0m a\u001b[38;5;241m=\u001b[39m\u001b[38;5;124m\"\u001b[39m\u001b[38;5;124m12.3\u001b[39m\u001b[38;5;124m\"\u001b[39m;\u001b[38;5;28;43mint\u001b[39;49m\u001b[43m(\u001b[49m\u001b[43ma\u001b[49m\u001b[43m)\u001b[49m\n",
      "\u001b[1;31mValueError\u001b[0m: invalid literal for int() with base 10: '12.3'"
     ]
    }
   ],
   "source": [
    "a=\"12.3\";int(a) #문자형 정수형 변환 오류"
   ]
  },
  {
   "cell_type": "code",
   "execution_count": 54,
   "id": "4483e8cd",
   "metadata": {},
   "outputs": [
    {
     "data": {
      "text/plain": [
       "12.3"
      ]
     },
     "execution_count": 54,
     "metadata": {},
     "output_type": "execute_result"
    }
   ],
   "source": [
    "float(a) #문자형을 숫자형으로 변환할 때는 float"
   ]
  },
  {
   "cell_type": "code",
   "execution_count": 55,
   "id": "e283fed6",
   "metadata": {},
   "outputs": [
    {
     "data": {
      "text/plain": [
       "14.1"
      ]
     },
     "execution_count": 55,
     "metadata": {},
     "output_type": "execute_result"
    }
   ],
   "source": [
    "a=1.1;1+a+12 #실수형이 있으므로 실수형 계산"
   ]
  },
  {
   "cell_type": "code",
   "execution_count": 56,
   "id": "72adffda",
   "metadata": {},
   "outputs": [
    {
     "data": {
      "text/plain": [
       "14"
      ]
     },
     "execution_count": 56,
     "metadata": {},
     "output_type": "execute_result"
    }
   ],
   "source": [
    "1+int(a)+12 #정수형 변환시 소수점 버림"
   ]
  },
  {
   "cell_type": "code",
   "execution_count": 57,
   "id": "4e74558d",
   "metadata": {},
   "outputs": [
    {
     "data": {
      "text/plain": [
       "3"
      ]
     },
     "execution_count": 57,
     "metadata": {},
     "output_type": "execute_result"
    }
   ],
   "source": [
    "int(3.14) #정수형 버림"
   ]
  },
  {
   "cell_type": "code",
   "execution_count": 3,
   "id": "48b87e07",
   "metadata": {},
   "outputs": [
    {
     "data": {
      "text/plain": [
       "3"
      ]
     },
     "execution_count": 3,
     "metadata": {},
     "output_type": "execute_result"
    }
   ],
   "source": [
    "round(3.14) #반올림"
   ]
  },
  {
   "cell_type": "code",
   "execution_count": 2,
   "id": "21b49b71",
   "metadata": {},
   "outputs": [
    {
     "data": {
      "text/plain": [
       "3.1"
      ]
     },
     "execution_count": 2,
     "metadata": {},
     "output_type": "execute_result"
    }
   ],
   "source": [
    "round(3.14,1) #소수 첫째자리까지 반올림"
   ]
  },
  {
   "cell_type": "code",
   "execution_count": 16,
   "id": "db526af5",
   "metadata": {},
   "outputs": [
    {
     "data": {
      "text/plain": [
       "120000"
      ]
     },
     "execution_count": 16,
     "metadata": {},
     "output_type": "execute_result"
    }
   ],
   "source": [
    "round(123456,-4) #1000의자리 반올림"
   ]
  },
  {
   "cell_type": "code",
   "execution_count": 18,
   "id": "494edd00",
   "metadata": {},
   "outputs": [],
   "source": [
    "a=1234567 #a 변수 선언 및 저장"
   ]
  },
  {
   "cell_type": "code",
   "execution_count": 32,
   "id": "3994ed3c",
   "metadata": {},
   "outputs": [],
   "source": [
    "if(a%1000 != 0): #1000으로 나누어 나머지가 있\n",
    "    a=int(a/1000)*1000+1000 #버린값에다 한자리를 올려 줌\n",
    "else:\n",
    "    a=int(a/1000)*1000"
   ]
  },
  {
   "cell_type": "code",
   "execution_count": 33,
   "id": "73e62f90",
   "metadata": {},
   "outputs": [
    {
     "data": {
      "text/plain": [
       "1235000"
      ]
     },
     "execution_count": 33,
     "metadata": {},
     "output_type": "execute_result"
    }
   ],
   "source": [
    "a"
   ]
  },
  {
   "cell_type": "code",
   "execution_count": null,
   "id": "6d11bee5",
   "metadata": {},
   "outputs": [],
   "source": []
  }
 ],
 "metadata": {
  "kernelspec": {
   "display_name": "Python 3 (ipykernel)",
   "language": "python",
   "name": "python3"
  },
  "language_info": {
   "codemirror_mode": {
    "name": "ipython",
    "version": 3
   },
   "file_extension": ".py",
   "mimetype": "text/x-python",
   "name": "python",
   "nbconvert_exporter": "python",
   "pygments_lexer": "ipython3",
   "version": "3.8.8rc1"
  }
 },
 "nbformat": 4,
 "nbformat_minor": 5
}
