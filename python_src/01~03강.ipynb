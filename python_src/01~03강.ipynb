{
 "cells": [
  {
   "cell_type": "code",
   "execution_count": 38,
   "id": "8cca74dd",
   "metadata": {},
   "outputs": [
    {
     "name": "stdout",
     "output_type": "stream",
     "text": [
      "아침 점심 저녁\n",
      "아침먹고 점심먹고 저녁\n",
      "아침먹고 점심먹고 저녁땡"
     ]
    }
   ],
   "source": [
    "a = \"아침\"\n",
    "b = \"점심\"\n",
    "c = \"저녁\"\n",
    "\n",
    "print (a,b,c)\n",
    "print (a,b,c, sep=\"먹고 \")\n",
    "print (a,b,c, sep=\"먹고 \", end =\"땡\")"
   ]
  },
  {
   "cell_type": "code",
   "execution_count": 39,
   "id": "e8d8214a",
   "metadata": {},
   "outputs": [
    {
     "name": "stdout",
     "output_type": "stream",
     "text": [
      "아침 점심 저녁\n",
      "아침먹고 점심먹고 저녁\n",
      "아침먹고 점심먹고 저녁아침자고 점심자고 저녁아침먹고 점심먹고 저녁\n",
      "아침자고 점심자고 저녁\n"
     ]
    }
   ],
   "source": [
    "a = \"아침\"\n",
    "b = \"점심\"\n",
    "c = \"저녁\"\n",
    "print(a,b,c)\n",
    "print(a,b,c, sep = \"먹고 \")\n",
    "print(a,b,c, sep = \"먹고 \" ,end =\"\")\n",
    "print(a,b,c, sep = \"자고 \" ,end =\"\")\n",
    "print(a,b,c, sep = \"먹고 \" ,end =\"\\n\")\n",
    "print(a,b,c, sep = \"자고 \" ,end =\"\\n\")"
   ]
  },
  {
   "cell_type": "code",
   "execution_count": 40,
   "id": "d2e8d347",
   "metadata": {},
   "outputs": [
    {
     "name": "stdout",
     "output_type": "stream",
     "text": [
      "22+33=55\n"
     ]
    }
   ],
   "source": [
    "a= 22\n",
    "b= 33\n",
    "print(a,b, sep=\"+\", end=\"=\")\n",
    "print(a+b)"
   ]
  },
  {
   "cell_type": "code",
   "execution_count": 42,
   "id": "790efeee",
   "metadata": {},
   "outputs": [
    {
     "name": "stdout",
     "output_type": "stream",
     "text": [
      "입력 전 출력내용test\n"
     ]
    }
   ],
   "source": [
    "var = input(\"입력 전 출력내용\")"
   ]
  },
  {
   "cell_type": "code",
   "execution_count": 44,
   "id": "8a9170a4",
   "metadata": {},
   "outputs": [
    {
     "name": "stdout",
     "output_type": "stream",
     "text": [
      "너는 이름이 뭐니?홍길동\n",
      "이름이  홍길동  입니다\n",
      "너는 몇 살이니?12\n",
      "나이가  12 살 입니다\n"
     ]
    }
   ],
   "source": [
    "a= input(\"너는 이름이 뭐니?\")\n",
    "print(\"이름이 \",a,\" 입니다\")\n",
    "b= input(\"너는 몇 살이니?\")\n",
    "print(\"나이가 \",b,\"살 입니다\")"
   ]
  },
  {
   "cell_type": "code",
   "execution_count": 49,
   "id": "e23df8a6",
   "metadata": {},
   "outputs": [
    {
     "name": "stdout",
     "output_type": "stream",
     "text": [
      "a값을 입력하셔요?1\n",
      "b값을 입력하셔요?2\n",
      "1+2=12\n",
      "수치 계산 : 1+2=3\n"
     ]
    }
   ],
   "source": [
    "a= input(\"a값을 입력하셔요?\")\n",
    "b= input(\"b값을 입력하셔요?\")\n",
    "print(a,b, sep=\"+\" ,end=\"=\")\n",
    "print(a+b)\n",
    "print(\"수치 계산\", end =\" : \")\n",
    "print(a,b, sep=\"+\" ,end=\"=\")\n",
    "print(int(a)+int(b))"
   ]
  },
  {
   "cell_type": "code",
   "execution_count": 47,
   "id": "134c7711",
   "metadata": {
    "scrolled": true
   },
   "outputs": [
    {
     "name": "stdout",
     "output_type": "stream",
     "text": [
      "품목?초코파이\n",
      "수량?10\n",
      "단가?100\n",
      "초코파이  :  10 개 *  100 원 = 총  1000 원\n"
     ]
    }
   ],
   "source": [
    "a = input(\"품목?\")\n",
    "b = int(input(\"수량?\"))\n",
    "c = int(input(\"단가?\"))\n",
    "print(a, \" : \",b,\"개 * \",c,\"원 = 총 \", b*c, \"원\")"
   ]
  },
  {
   "cell_type": "code",
   "execution_count": 52,
   "id": "95a9ec76",
   "metadata": {},
   "outputs": [
    {
     "name": "stdout",
     "output_type": "stream",
     "text": [
      "1\n",
      "2\n",
      "3\n",
      "2\n"
     ]
    }
   ],
   "source": [
    "a = 1 # a 변수 선언 및 초기화\n",
    "print(a) # a를 출력\n",
    "\n",
    "a = 2 # a에 2를 대입 \n",
    "print(a) # a를 출력\n",
    "\n",
    "b = 3 # b 변수 선언 및 초기화 //\n",
    "print(b) #b를 출력 3 \n",
    "print(a) #a를 출력 2 "
   ]
  },
  {
   "cell_type": "code",
   "execution_count": 54,
   "id": "20132bb0",
   "metadata": {},
   "outputs": [
    {
     "name": "stdout",
     "output_type": "stream",
     "text": [
      "1122\n",
      "hello\n"
     ]
    },
    {
     "data": {
      "text/plain": [
       "int"
      ]
     },
     "execution_count": 54,
     "metadata": {},
     "output_type": "execute_result"
    }
   ],
   "source": [
    "a = 1122; print(a); type(a) # a 변수에 1122대입, a를 출력 a의 타입을 출력\n",
    "b = \"hello\"; print(b); type(b) # b 변수에 hello 대입, b를 출력, b의 타입을 출력\n",
    "b=12; type(b) # b 변수에 12 대입, b의 타입을 출력"
   ]
  },
  {
   "cell_type": "code",
   "execution_count": 55,
   "id": "557e198f",
   "metadata": {},
   "outputs": [
    {
     "name": "stdout",
     "output_type": "stream",
     "text": [
      "1122\n",
      "11\n"
     ]
    },
    {
     "ename": "NameError",
     "evalue": "name 'a' is not defined",
     "output_type": "error",
     "traceback": [
      "\u001b[1;31m---------------------------------------------------------------------------\u001b[0m",
      "\u001b[1;31mNameError\u001b[0m                                 Traceback (most recent call last)",
      "Input \u001b[1;32mIn [55]\u001b[0m, in \u001b[0;36m<cell line: 4>\u001b[1;34m()\u001b[0m\n\u001b[0;32m      2\u001b[0m a \u001b[38;5;241m=\u001b[39m \u001b[38;5;241m11\u001b[39m; \u001b[38;5;28mprint\u001b[39m(a) \u001b[38;5;66;03m# a 변수에 11d을 대입, a를 출력\u001b[39;00m\n\u001b[0;32m      3\u001b[0m \u001b[38;5;28;01mdel\u001b[39;00m a \u001b[38;5;66;03m# a변수 삭제\u001b[39;00m\n\u001b[1;32m----> 4\u001b[0m \u001b[38;5;28mprint\u001b[39m(\u001b[43ma\u001b[49m)\n",
      "\u001b[1;31mNameError\u001b[0m: name 'a' is not defined"
     ]
    }
   ],
   "source": [
    "a = 1122; print(a); type(a) #a 변수에 1122대입, a를 출력, a의 타입을 출력\n",
    "a = 11; print(a) # a 변수에 11d을 대입, a를 출력\n",
    "del a # a변수 삭제\n",
    "print(a) #a 출력"
   ]
  },
  {
   "cell_type": "code",
   "execution_count": 57,
   "id": "9ae419d3",
   "metadata": {},
   "outputs": [
    {
     "name": "stdout",
     "output_type": "stream",
     "text": [
      "a= 10  b= 1200  c= 1200  d= -1234\n"
     ]
    }
   ],
   "source": [
    "a = 10 #a 변수 선언 및 초기화\n",
    "b = 1200 #b 변수 선언 및 초기화\n",
    "c =+1200 #c 변수 선언 및 초기화\n",
    "d = -1234 #d 변수 선언 및 초기화\n",
    "print (\"a=\",a , \" b=\", b ,\" c=\",c, \" d=\", d)"
   ]
  },
  {
   "cell_type": "code",
   "execution_count": 59,
   "id": "4966deed",
   "metadata": {
    "scrolled": true
   },
   "outputs": [
    {
     "name": "stdout",
     "output_type": "stream",
     "text": [
      "a+b= 255510442125830710419794796092205501516501430550152055055015215205510\n",
      "a*b= 4945662337664182251045508647662854964228779292407290431545377548887919021506299614458775856747962183641984855519033366861090951680866469\n"
     ]
    }
   ],
   "source": [
    "a=21098134232408921340891340984312089423089341208943120934120894312089\n",
    "b=234412307893421789078903455107893412093412089341208934120894320893421\n",
    "print(\"a+b=\", a+b)\n",
    "print(\"a*b=\", a*b)"
   ]
  },
  {
   "cell_type": "code",
   "execution_count": 71,
   "id": "c2ee3e98",
   "metadata": {},
   "outputs": [
    {
     "data": {
      "text/plain": [
       "10"
      ]
     },
     "execution_count": 71,
     "metadata": {},
     "output_type": "execute_result"
    }
   ],
   "source": [
    "0b1010 #2진수"
   ]
  },
  {
   "cell_type": "code",
   "execution_count": 72,
   "id": "85d6c5a4",
   "metadata": {},
   "outputs": [
    {
     "data": {
      "text/plain": [
       "15"
      ]
     },
     "execution_count": 72,
     "metadata": {},
     "output_type": "execute_result"
    }
   ],
   "source": [
    "0b1111 #2진수"
   ]
  },
  {
   "cell_type": "code",
   "execution_count": 73,
   "id": "f717f753",
   "metadata": {},
   "outputs": [
    {
     "data": {
      "text/plain": [
       "1"
      ]
     },
     "execution_count": 73,
     "metadata": {},
     "output_type": "execute_result"
    }
   ],
   "source": [
    "0b0001 #2진수"
   ]
  },
  {
   "cell_type": "code",
   "execution_count": 74,
   "id": "3215a73f",
   "metadata": {},
   "outputs": [
    {
     "ename": "SyntaxError",
     "evalue": "invalid digit '2' in binary literal (4097528594.py, line 1)",
     "output_type": "error",
     "traceback": [
      "\u001b[1;36m  Input \u001b[1;32mIn [74]\u001b[1;36m\u001b[0m\n\u001b[1;33m    0b0201\u001b[0m\n\u001b[1;37m       ^\u001b[0m\n\u001b[1;31mSyntaxError\u001b[0m\u001b[1;31m:\u001b[0m invalid digit '2' in binary literal\n"
     ]
    }
   ],
   "source": [
    "0b0201 #2진수 오류"
   ]
  },
  {
   "cell_type": "code",
   "execution_count": 75,
   "id": "dcc6d06c",
   "metadata": {},
   "outputs": [
    {
     "data": {
      "text/plain": [
       "16"
      ]
     },
     "execution_count": 75,
     "metadata": {},
     "output_type": "execute_result"
    }
   ],
   "source": [
    "0x10 #16진수"
   ]
  },
  {
   "cell_type": "code",
   "execution_count": 76,
   "id": "4d1d10e9",
   "metadata": {},
   "outputs": [
    {
     "data": {
      "text/plain": [
       "26"
      ]
     },
     "execution_count": 76,
     "metadata": {},
     "output_type": "execute_result"
    }
   ],
   "source": [
    "0x1a #16진수"
   ]
  },
  {
   "cell_type": "code",
   "execution_count": 77,
   "id": "72f5da36",
   "metadata": {},
   "outputs": [
    {
     "data": {
      "text/plain": [
       "47"
      ]
     },
     "execution_count": 77,
     "metadata": {},
     "output_type": "execute_result"
    }
   ],
   "source": [
    "0x2f #16진수"
   ]
  },
  {
   "cell_type": "code",
   "execution_count": 78,
   "id": "7707644f",
   "metadata": {},
   "outputs": [
    {
     "ename": "SyntaxError",
     "evalue": "invalid syntax (3986162713.py, line 1)",
     "output_type": "error",
     "traceback": [
      "\u001b[1;36m  Input \u001b[1;32mIn [78]\u001b[1;36m\u001b[0m\n\u001b[1;33m    0x3z\u001b[0m\n\u001b[1;37m       ^\u001b[0m\n\u001b[1;31mSyntaxError\u001b[0m\u001b[1;31m:\u001b[0m invalid syntax\n"
     ]
    }
   ],
   "source": [
    "0x3z #16진수 오류"
   ]
  },
  {
   "cell_type": "code",
   "execution_count": 83,
   "id": "04ea199c",
   "metadata": {},
   "outputs": [
    {
     "ename": "IndentationError",
     "evalue": "unexpected indent (3440547436.py, line 2)",
     "output_type": "error",
     "traceback": [
      "\u001b[1;36m  Input \u001b[1;32mIn [83]\u001b[1;36m\u001b[0m\n\u001b[1;33m    1+2\u001b[0m\n\u001b[1;37m    ^\u001b[0m\n\u001b[1;31mIndentationError\u001b[0m\u001b[1;31m:\u001b[0m unexpected indent\n"
     ]
    }
   ],
   "source": [
    "#\n",
    "  1+2"
   ]
  },
  {
   "cell_type": "code",
   "execution_count": 84,
   "id": "86d07014",
   "metadata": {},
   "outputs": [
    {
     "name": "stdout",
     "output_type": "stream",
     "text": [
      "0xc\n",
      "0o26\n",
      "0b100001\n"
     ]
    }
   ],
   "source": [
    "print(hex(12));print(oct(22));print(bin(33)) #16진수 변환, 8진수 변환, 2진수 변환"
   ]
  },
  {
   "cell_type": "code",
   "execution_count": 85,
   "id": "87de9e0a",
   "metadata": {},
   "outputs": [
    {
     "data": {
      "text/plain": [
       "9460000000000.0"
      ]
     },
     "execution_count": 85,
     "metadata": {},
     "output_type": "execute_result"
    }
   ],
   "source": [
    "9.46e12 #9.46 * 10 ^ 12 km (10의12승)"
   ]
  },
  {
   "cell_type": "code",
   "execution_count": 86,
   "id": "2db7257a",
   "metadata": {},
   "outputs": [
    {
     "data": {
      "text/plain": [
       "1.2131232417683412e+32"
      ]
     },
     "execution_count": 86,
     "metadata": {},
     "output_type": "execute_result"
    }
   ],
   "source": [
    "9.46e12 + 121312324176834127678963412341298 #실수형과 정수형의 연산을 수행하면 유효숫자만큼만 표현되는데 주의해야 함"
   ]
  },
  {
   "cell_type": "code",
   "execution_count": 96,
   "id": "f7a54082",
   "metadata": {},
   "outputs": [
    {
     "ename": "SyntaxError",
     "evalue": "invalid syntax (1681953706.py, line 1)",
     "output_type": "error",
     "traceback": [
      "\u001b[1;36m  Input \u001b[1;32mIn [96]\u001b[1;36m\u001b[0m\n\u001b[1;33m    a=1+2i\u001b[0m\n\u001b[1;37m         ^\u001b[0m\n\u001b[1;31mSyntaxError\u001b[0m\u001b[1;31m:\u001b[0m invalid syntax\n"
     ]
    }
   ],
   "source": [
    "a=1+2i #복소수 연산"
   ]
  },
  {
   "cell_type": "code",
   "execution_count": 100,
   "id": "16bb81ed",
   "metadata": {},
   "outputs": [
    {
     "name": "stdout",
     "output_type": "stream",
     "text": [
      "(2+0j) (5+0j)\n"
     ]
    }
   ],
   "source": [
    "a=1+2j #파이썬에서 복소수는 j로 표현\n",
    "b=1-2j \n",
    "print(a+b, a*b) #출력"
   ]
  },
  {
   "cell_type": "code",
   "execution_count": 105,
   "id": "37e73d32",
   "metadata": {},
   "outputs": [
    {
     "data": {
      "text/plain": [
       "'aaabbb'"
      ]
     },
     "execution_count": 105,
     "metadata": {},
     "output_type": "execute_result"
    }
   ],
   "source": [
    "a=\"aaa\" # a는 \"aaa\" 대입\n",
    "b=\"bbb\" # b는 \"bbb\" 대입\n",
    "a+b #a+b 출력"
   ]
  },
  {
   "cell_type": "code",
   "execution_count": 106,
   "id": "003b6b4e",
   "metadata": {},
   "outputs": [
    {
     "ename": "TypeError",
     "evalue": "can't multiply sequence by non-int of type 'str'",
     "output_type": "error",
     "traceback": [
      "\u001b[1;31m---------------------------------------------------------------------------\u001b[0m",
      "\u001b[1;31mTypeError\u001b[0m                                 Traceback (most recent call last)",
      "Input \u001b[1;32mIn [106]\u001b[0m, in \u001b[0;36m<cell line: 3>\u001b[1;34m()\u001b[0m\n\u001b[0;32m      1\u001b[0m a\u001b[38;5;241m=\u001b[39m\u001b[38;5;124m\"\u001b[39m\u001b[38;5;124maaa\u001b[39m\u001b[38;5;124m\"\u001b[39m \u001b[38;5;66;03m# a는 \"aaa\" 대입\u001b[39;00m\n\u001b[0;32m      2\u001b[0m b\u001b[38;5;241m=\u001b[39m\u001b[38;5;124m\"\u001b[39m\u001b[38;5;124mbbb\u001b[39m\u001b[38;5;124m\"\u001b[39m \u001b[38;5;66;03m# b는 \"bbb\" 대입\u001b[39;00m\n\u001b[1;32m----> 3\u001b[0m \u001b[43ma\u001b[49m\u001b[38;5;241;43m*\u001b[39;49m\u001b[43mb\u001b[49m\n",
      "\u001b[1;31mTypeError\u001b[0m: can't multiply sequence by non-int of type 'str'"
     ]
    }
   ],
   "source": [
    "a=\"aaa\" # a는 \"aaa\" 대입\n",
    "b=\"bbb\" # b는 \"bbb\" 대입\n",
    "a*b #a*b 존재하지 않음"
   ]
  },
  {
   "cell_type": "code",
   "execution_count": 111,
   "id": "3d097385",
   "metadata": {},
   "outputs": [
    {
     "data": {
      "text/plain": [
       "'aaaaaaaaa'"
      ]
     },
     "execution_count": 111,
     "metadata": {},
     "output_type": "execute_result"
    }
   ],
   "source": [
    "a=\"aaa\" # a는 \"aaa\" 대입\n",
    "b=\"bbb\" # b는 \"bbb\" 대입\n",
    "a*3 # a 3번 반복"
   ]
  },
  {
   "cell_type": "code",
   "execution_count": 112,
   "id": "e78c901d",
   "metadata": {},
   "outputs": [
    {
     "data": {
      "text/plain": [
       "'bbbbbbbbbbbbbbb'"
      ]
     },
     "execution_count": 112,
     "metadata": {},
     "output_type": "execute_result"
    }
   ],
   "source": [
    "a=\"aaa\" # a는 \"aaa\" 대입\n",
    "b=\"bbb\" # b는 \"bbb\" 대입\n",
    "b*5 # b 5번 반복"
   ]
  },
  {
   "cell_type": "code",
   "execution_count": 123,
   "id": "d6be0a16",
   "metadata": {},
   "outputs": [
    {
     "name": "stdout",
     "output_type": "stream",
     "text": [
      "호랑이가 \"떡하나 주면 안잡아 먹지\" 라고 말했습니다.\n",
      "호랑이가 \"떡하나 주면 안잡아 먹지\" 라고 말했습니다.\n",
      "I say \"I Love You\"\n"
     ]
    }
   ],
   "source": [
    "#호랑이가 \"떡하나 주면 안잡아 먹지\" 라고 말했습니다.\n",
    "print ('호랑이가 \"떡하나 주면 안잡아 먹지\" 라고 말했습니다.')\n",
    "\n",
    "print(\"호랑이가 \\\"떡하나 주면 안잡아 먹지\\\" 라고 말했습니다.\")\n",
    "\n",
    "#I say \" I Love You\"\n",
    "print(\"I say \\\"I Love You\\\"\")"
   ]
  },
  {
   "cell_type": "code",
   "execution_count": 124,
   "id": "ae23c6ac",
   "metadata": {},
   "outputs": [
    {
     "ename": "SyntaxError",
     "evalue": "invalid syntax (4294271992.py, line 1)",
     "output_type": "error",
     "traceback": [
      "\u001b[1;36m  Input \u001b[1;32mIn [124]\u001b[1;36m\u001b[0m\n\u001b[1;33m    print (\"I say \"I Love You\"\")\u001b[0m\n\u001b[1;37m                   ^\u001b[0m\n\u001b[1;31mSyntaxError\u001b[0m\u001b[1;31m:\u001b[0m invalid syntax\n"
     ]
    }
   ],
   "source": [
    " print (\"I say \"I Love You\"\")"
   ]
  },
  {
   "cell_type": "code",
   "execution_count": 125,
   "id": "f04b4acb",
   "metadata": {},
   "outputs": [
    {
     "name": "stdout",
     "output_type": "stream",
     "text": [
      "오늘 열심히 파이썬을 공부했습니다. \n",
      "내일도 열심히 파이썬을 공부할 것 입니다.\n",
      "그래서 일등할 것입니다.\n"
     ]
    }
   ],
   "source": [
    "print(\"\"\"오늘 열심히 파이썬을 공부했습니다. \n",
    "내일도 열심히 파이썬을 공부할 것 입니다.\n",
    "그래서 일등할 것입니다.\"\"\")"
   ]
  },
  {
   "cell_type": "code",
   "execution_count": 127,
   "id": "afe4241e",
   "metadata": {},
   "outputs": [
    {
     "name": "stdout",
     "output_type": "stream",
     "text": [
      "오늘 열심히 파이썬을 공부했습니다. 내일도 열심히 파이썬을 공부할 것입니다. 그래서 일등할 것입니다\n"
     ]
    }
   ],
   "source": [
    "print(\"오늘 열심히 파이썬을 공부했습니다. \\\n",
    "내일도 열심히 파이썬을 공부할 것입니다. \\\n",
    "그래서 일등할 것입니다\")"
   ]
  },
  {
   "cell_type": "code",
   "execution_count": 128,
   "id": "a9124ced",
   "metadata": {},
   "outputs": [
    {
     "name": "stdout",
     "output_type": "stream",
     "text": [
      "오늘은즐거운일요일\n",
      "오늘 열심히 파이썬을 공부했습니다. \n",
      "내일도 열심히 파이썬을 공부할 것입니다. \n",
      "그래서 일등할 것입니다\n"
     ]
    }
   ],
   "source": [
    "a = \"오늘은\" \"즐거운\" \"일요일\" #작은 문자열 나열\n",
    "\n",
    "print(a) #a 출력\n",
    "\n",
    "print(\"오늘 열심히 파이썬을 공부했습니다. \\n\" #출력\n",
    "\"내일도 열심히 파이썬을 공부할 것입니다. \\n\"\n",
    "\"그래서 일등할 것입니다\")"
   ]
  },
  {
   "cell_type": "code",
   "execution_count": 135,
   "id": "453db9d7",
   "metadata": {},
   "outputs": [
    {
     "data": {
      "text/plain": [
       "False"
      ]
     },
     "execution_count": 135,
     "metadata": {},
     "output_type": "execute_result"
    }
   ],
   "source": [
    "a = True # a 변수 Ture 대입\n",
    "b = False # b변수 False 대입\n",
    "a and b #a와 b"
   ]
  },
  {
   "cell_type": "code",
   "execution_count": 136,
   "id": "c45d8194",
   "metadata": {},
   "outputs": [
    {
     "data": {
      "text/plain": [
       "True"
      ]
     },
     "execution_count": 136,
     "metadata": {},
     "output_type": "execute_result"
    }
   ],
   "source": [
    "a = True # a 변수 Ture 대입\n",
    "b = False # b변수 False 대입\n",
    "a or b #a와 b"
   ]
  },
  {
   "cell_type": "code",
   "execution_count": 138,
   "id": "59a66776",
   "metadata": {},
   "outputs": [
    {
     "data": {
      "text/plain": [
       "True"
      ]
     },
     "execution_count": 138,
     "metadata": {},
     "output_type": "execute_result"
    }
   ],
   "source": [
    "a = 0 # a 변수 0 대입\n",
    "b = a == 0 # b = a ==0이다\n",
    "b #b 출력"
   ]
  },
  {
   "cell_type": "code",
   "execution_count": 144,
   "id": "0327244c",
   "metadata": {},
   "outputs": [
    {
     "name": "stdout",
     "output_type": "stream",
     "text": [
      "참\n"
     ]
    }
   ],
   "source": [
    "a = True # a 변수 Ture 대입\n",
    "b = False # b변수 False 대입\n",
    "\n",
    "if 1>2 and a and b or b or a: #조건문 1이 2보다 크고 a가 참이고 b가 참이거나 b가 참이거나 a가 참이면\n",
    "    print(\"참\") # 참 출력\n",
    "else: # 그렇지 않으면\n",
    "    print(\"거짓\") # 거짓 출력"
   ]
  },
  {
   "cell_type": "code",
   "execution_count": 146,
   "id": "b44e7f62",
   "metadata": {},
   "outputs": [
    {
     "name": "stdout",
     "output_type": "stream",
     "text": [
      "['빨', '주', '노', '초', '파', '남', '보']\n"
     ]
    },
    {
     "data": {
      "text/plain": [
       "True"
      ]
     },
     "execution_count": 146,
     "metadata": {},
     "output_type": "execute_result"
    }
   ],
   "source": [
    "rainbow = [\"빨\", \"주\", \"노\", \"초\", \"파\", \"남\", \"보\"] #컬렉션 리스트 저장\n",
    "\n",
    "print (rainbow) # rainbow 출력\n",
    "\n",
    "True"
   ]
  },
  {
   "cell_type": "code",
   "execution_count": 150,
   "id": "349e872b",
   "metadata": {},
   "outputs": [
    {
     "name": "stdout",
     "output_type": "stream",
     "text": [
      "빨강 색\n",
      "주황 색\n",
      "노랑 색\n",
      "초록 색\n",
      "파랑 색\n",
      "남색 색\n",
      "보라 색\n"
     ]
    }
   ],
   "source": [
    "rainbow = [\"빨강\",\"주황\",\"노랑\",\"초록\",\"파랑\",\"남색\",\"보라\"] #컬렉션 리스트 저장\n",
    "for color in rainbow : # color라는 변수에 rainbow를 입력하고\n",
    "    print ( color, \"색\")  # 출력"
   ]
  },
  {
   "cell_type": "code",
   "execution_count": 151,
   "id": "62f69a20",
   "metadata": {},
   "outputs": [
    {
     "name": "stdout",
     "output_type": "stream",
     "text": [
      "빨강 색\n",
      "주황 색\n",
      "노랑 색\n",
      "초록 색\n",
      "파랑 색\n",
      "남색 색\n",
      "보라 색\n"
     ]
    }
   ],
   "source": [
    "rainbow = (\"빨강\",\"주황\",\"노랑\",\"초록\",\"파랑\",\"남색\",\"보라\") #컬렉션 리스트 저장\n",
    "for color in rainbow : # color라는 변수에 rainbow를 입력하고\n",
    "    print ( color, \"색\")  # 출력"
   ]
  },
  {
   "cell_type": "code",
   "execution_count": null,
   "id": "7edca92e",
   "metadata": {},
   "outputs": [],
   "source": []
  }
 ],
 "metadata": {
  "kernelspec": {
   "display_name": "Python 3 (ipykernel)",
   "language": "python",
   "name": "python3"
  },
  "language_info": {
   "codemirror_mode": {
    "name": "ipython",
    "version": 3
   },
   "file_extension": ".py",
   "mimetype": "text/x-python",
   "name": "python",
   "nbconvert_exporter": "python",
   "pygments_lexer": "ipython3",
   "version": "3.8.8rc1"
  }
 },
 "nbformat": 4,
 "nbformat_minor": 5
}
