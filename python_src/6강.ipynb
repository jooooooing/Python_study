{
 "cells": [
  {
   "cell_type": "code",
   "execution_count": 1,
   "id": "a5e24e5f",
   "metadata": {},
   "outputs": [
    {
     "name": "stdout",
     "output_type": "stream",
     "text": [
      "sum= 5050\n"
     ]
    }
   ],
   "source": [
    "i=0 #반복 카운터, 초기화\n",
    "sum=0 #누적할 변수, 초기화\n",
    "while i <100 : #0부터 100까지 실행,만일 실행횟수는 100회\n",
    "    i+=1 #i=0+1, i=1+1, i=2+1, i=3+1,i는 1씩 증가\n",
    "    sum = sum + i #sum=0+1, sum=1+2, sum=3+3,sum=6+4 #sum은 더한 값이 누적됨\n",
    "print(\"sum=\",sum) #while 반복을 빠져 나와서 출력"
   ]
  },
  {
   "cell_type": "code",
   "execution_count": 2,
   "id": "e3c8d796",
   "metadata": {},
   "outputs": [
    {
     "name": "stdout",
     "output_type": "stream",
     "text": [
      "a[ 0 ] 자료형: <class 'str'>  값: 1\n",
      "a[ 1 ] 자료형: <class 'int'>  값: 2\n",
      "a[ 2 ] 자료형: <class 'str'>  값: 3\n",
      "a[ 3 ] 자료형: <class 'int'>  값: 55\n"
     ]
    }
   ],
   "source": [
    "i=0 #i 변수 및 초기화\n",
    "for a in [\"1\",2,\"3\",55]: #for 반복문 컬렉션 인에서 반복\n",
    "    print(\"a[\",i,\"] 자료형:\",type(a),\" 값:\",a) #출력, type, 값\n",
    "    i+=1"
   ]
  },
  {
   "cell_type": "code",
   "execution_count": 4,
   "id": "59f0b35b",
   "metadata": {},
   "outputs": [
    {
     "name": "stdout",
     "output_type": "stream",
     "text": [
      "1 ,2 ,3 ,4 ,5 ,6 ,7 ,8 ,9 ,"
     ]
    }
   ],
   "source": [
    "for i in range(1,10,1): #for 반복문 1부터 10까지 1씩 증가\n",
    "    print(i,\",\",end=\"\") # 출력 i"
   ]
  },
  {
   "cell_type": "code",
   "execution_count": 5,
   "id": "88b3f681",
   "metadata": {},
   "outputs": [
    {
     "name": "stdout",
     "output_type": "stream",
     "text": [
      "0 ,1 ,2 ,3 ,4 ,5 ,6 ,7 ,8 ,9 ,"
     ]
    }
   ],
   "source": [
    "for i in range(10): #for 반복문 0부터 10까지 1씩 증가(시작, 증가 생략)\n",
    "    print(i,\",\",end=\"\") # 출력 i"
   ]
  },
  {
   "cell_type": "code",
   "execution_count": 7,
   "id": "783fcaac",
   "metadata": {},
   "outputs": [
    {
     "name": "stdout",
     "output_type": "stream",
     "text": [
      "1 ,2 ,3 ,4 ,5 ,6 ,7 ,8 ,9 ,"
     ]
    }
   ],
   "source": [
    "for i in range(1,10): #for 반복문 1부터 10까지 1씩 증가(시작, 증가 생략)\n",
    "    print(i,\",\",end=\"\") # 출력 i"
   ]
  },
  {
   "cell_type": "code",
   "execution_count": 9,
   "id": "76aaf870",
   "metadata": {},
   "outputs": [
    {
     "name": "stdout",
     "output_type": "stream",
     "text": [
      "1 ,3 ,5 ,7 ,9 ,"
     ]
    }
   ],
   "source": [
    "for i in range(1,10,2): #for 반복문 1부터 10까지 2씩 증가\n",
    "    print(i,\",\",end=\"\") # 출력 i"
   ]
  },
  {
   "cell_type": "code",
   "execution_count": 10,
   "id": "2b06ae02",
   "metadata": {},
   "outputs": [
    {
     "name": "stdout",
     "output_type": "stream",
     "text": [
      "10 ,9 ,8 ,7 ,6 ,5 ,4 ,3 ,2 ,1 ,"
     ]
    }
   ],
   "source": [
    "for i in range(10,0,-1):#for 반복문 10부터 0까지 -1씩 감소\n",
    "    print(i,\",\",end=\"\") # 출력 i"
   ]
  },
  {
   "cell_type": "code",
   "execution_count": 11,
   "id": "9ebf9a38",
   "metadata": {},
   "outputs": [
    {
     "name": "stdout",
     "output_type": "stream",
     "text": [
      "0 ,1 ,2 ,"
     ]
    }
   ],
   "source": [
    "for i in range(10): #for 반복문 1부터 10까지 1씩 증가(시작, 증가 생략)\n",
    "    if(i==3): #i가 3이되면 \n",
    "        break #반복 종료\n",
    "    print(i,\",\",end=\"\") #i 출력"
   ]
  },
  {
   "cell_type": "code",
   "execution_count": 12,
   "id": "c787b9f7",
   "metadata": {},
   "outputs": [
    {
     "name": "stdout",
     "output_type": "stream",
     "text": [
      "0 ,1 ,2 ,4 ,5 ,6 ,7 ,8 ,9 ,"
     ]
    }
   ],
   "source": [
    "for i in range(10): #for 반복문 1부터 10까지 1씩 증가(시작, 증가 생략)\n",
    "    if(i==3): #i가 3이되면 \n",
    "        continue #문장 아래를 실행하지 않고 처음으로 이동 후 반복\n",
    "    print(i,\",\",end=\"\") #i 출력"
   ]
  },
  {
   "cell_type": "code",
   "execution_count": 15,
   "id": "ef09644a",
   "metadata": {},
   "outputs": [
    {
     "name": "stdout",
     "output_type": "stream",
     "text": [
      "i= 100 sum= 5050\n"
     ]
    }
   ],
   "source": [
    "i=0;sum=0 #i, sum 변수 선언 및 초기화\n",
    "while True: #while 반복\n",
    "    i+=1;sum+=i #누적 합계\n",
    "    if(i==100): break #i가 100이 도달하면  break\n",
    "print(\"i=\",i,\"sum=\",sum) #출력 i, sum"
   ]
  },
  {
   "cell_type": "code",
   "execution_count": 22,
   "id": "79dddb74",
   "metadata": {},
   "outputs": [
    {
     "name": "stdout",
     "output_type": "stream",
     "text": [
      "******************************\n",
      "******************************\n",
      "******************************\n",
      "******************************\n"
     ]
    }
   ],
   "source": [
    "for i in range(1,121): #for i 반복 i는 1부터 121까지 1씩 증가\n",
    "    print(\"*\",end=\"\") #*을 출력\n",
    "    if(i%30==0): print(end=\"\\n\") #i가 30으로 나눈 나머지가 0이면 개행"
   ]
  },
  {
   "cell_type": "code",
   "execution_count": 23,
   "id": "8eb9e280",
   "metadata": {},
   "outputs": [
    {
     "name": "stdout",
     "output_type": "stream",
     "text": [
      "1 * 1 = 1\n",
      "1 * 2 = 2\n",
      "1 * 3 = 3\n",
      "1 * 4 = 4\n",
      "1 * 5 = 5\n",
      "1 * 6 = 6\n",
      "1 * 7 = 7\n",
      "1 * 8 = 8\n",
      "1 * 9 = 9\n",
      "********************\n",
      "2 * 1 = 2\n",
      "2 * 2 = 4\n",
      "2 * 3 = 6\n",
      "2 * 4 = 8\n",
      "2 * 5 = 10\n",
      "2 * 6 = 12\n",
      "2 * 7 = 14\n",
      "2 * 8 = 16\n",
      "2 * 9 = 18\n",
      "********************\n",
      "3 * 1 = 3\n",
      "3 * 2 = 6\n",
      "3 * 3 = 9\n",
      "3 * 4 = 12\n",
      "3 * 5 = 15\n",
      "3 * 6 = 18\n",
      "3 * 7 = 21\n",
      "3 * 8 = 24\n",
      "3 * 9 = 27\n",
      "********************\n",
      "4 * 1 = 4\n",
      "4 * 2 = 8\n",
      "4 * 3 = 12\n",
      "4 * 4 = 16\n",
      "4 * 5 = 20\n",
      "4 * 6 = 24\n",
      "4 * 7 = 28\n",
      "4 * 8 = 32\n",
      "4 * 9 = 36\n",
      "********************\n",
      "5 * 1 = 5\n",
      "5 * 2 = 10\n",
      "5 * 3 = 15\n",
      "5 * 4 = 20\n",
      "5 * 5 = 25\n",
      "5 * 6 = 30\n",
      "5 * 7 = 35\n",
      "5 * 8 = 40\n",
      "5 * 9 = 45\n",
      "********************\n",
      "6 * 1 = 6\n",
      "6 * 2 = 12\n",
      "6 * 3 = 18\n",
      "6 * 4 = 24\n",
      "6 * 5 = 30\n",
      "6 * 6 = 36\n",
      "6 * 7 = 42\n",
      "6 * 8 = 48\n",
      "6 * 9 = 54\n",
      "********************\n",
      "7 * 1 = 7\n",
      "7 * 2 = 14\n",
      "7 * 3 = 21\n",
      "7 * 4 = 28\n",
      "7 * 5 = 35\n",
      "7 * 6 = 42\n",
      "7 * 7 = 49\n",
      "7 * 8 = 56\n",
      "7 * 9 = 63\n",
      "********************\n",
      "8 * 1 = 8\n",
      "8 * 2 = 16\n",
      "8 * 3 = 24\n",
      "8 * 4 = 32\n",
      "8 * 5 = 40\n",
      "8 * 6 = 48\n",
      "8 * 7 = 56\n",
      "8 * 8 = 64\n",
      "8 * 9 = 72\n",
      "********************\n",
      "9 * 1 = 9\n",
      "9 * 2 = 18\n",
      "9 * 3 = 27\n",
      "9 * 4 = 36\n",
      "9 * 5 = 45\n",
      "9 * 6 = 54\n",
      "9 * 7 = 63\n",
      "9 * 8 = 72\n",
      "9 * 9 = 81\n",
      "********************\n"
     ]
    }
   ],
   "source": [
    "for i in range(1,10): #for 반복 i는 1부터 10까지 1씩 증가\n",
    "    for j in range(1,10): #for 반복 j는 1부터 10까지 1씩 증가\n",
    "        print( i,\"*\",j,\"=\",i*j) #출력 i * j\n",
    "    print(\"********************\") #단 변경 구분"
   ]
  },
  {
   "cell_type": "code",
   "execution_count": 24,
   "id": "a55e4792",
   "metadata": {},
   "outputs": [
    {
     "name": "stdout",
     "output_type": "stream",
     "text": [
      "*********\n",
      "********\n",
      "*******\n",
      "******\n",
      "*****\n",
      "****\n",
      "***\n",
      "**\n",
      "*\n"
     ]
    }
   ],
   "source": [
    "for i in range(1,10):#for i 반복 i는 1부터 10까지 1씩 증가\n",
    "    for j in range(i,10): #for j 반복 j는 1부터 10까지 1씩 증가\n",
    "        print( \"*\",end=\"\") # *출력\n",
    "    print(end=\"\\n\") # 개행"
   ]
  },
  {
   "cell_type": "code",
   "execution_count": 25,
   "id": "58a290dc",
   "metadata": {},
   "outputs": [
    {
     "name": "stdout",
     "output_type": "stream",
     "text": [
      "*********\n",
      "********\n",
      "*******\n",
      "******\n",
      "*****\n",
      "****\n",
      "***\n",
      "**\n",
      "*\n"
     ]
    }
   ],
   "source": [
    "i=1 #i 변수 선언 및 초기화\n",
    "while True: #while 반복문\n",
    "    j=i #j변수 선언 및 초기화\n",
    "    while True: #while 반복\n",
    "        if(j==10): break #j가 10이되면 break\n",
    "        print( \"*\",end=\"\")  #*출력\n",
    "        j+=1  #j는 1씩 증가\n",
    "    if(i==10): break #i가 10이되면\n",
    "    print(end=\"\\n\") #개행\n",
    "    i+=1 #i는 1씩 증가"
   ]
  },
  {
   "cell_type": "code",
   "execution_count": 27,
   "id": "8dcc6280",
   "metadata": {},
   "outputs": [
    {
     "name": "stdout",
     "output_type": "stream",
     "text": [
      "1 월 :1,2,3,4,5,6,7,8,9,10,11,12,13,14,15,16,17,18,19,20,21,22,23,24,25,26,27,28,29,30,31,\n",
      "2 월 :1,2,3,4,5,6,7,8,9,10,11,12,13,14,15,16,17,18,19,20,21,22,23,24,25,26,27,28,\n",
      "3 월 :1,2,3,4,5,6,7,8,9,10,11,12,13,14,15,16,17,18,19,20,21,22,23,24,25,26,27,28,29,30,31,\n",
      "4 월 :1,2,3,4,5,6,7,8,9,10,11,12,13,14,15,16,17,18,19,20,21,22,23,24,25,26,27,28,29,30,\n",
      "5 월 :1,2,3,4,5,6,7,8,9,10,11,12,13,14,15,16,17,18,19,20,21,22,23,24,25,26,27,28,29,30,31,\n",
      "6 월 :1,2,3,4,5,6,7,8,9,10,11,12,13,14,15,16,17,18,19,20,21,22,23,24,25,26,27,28,29,30,\n",
      "7 월 :1,2,3,4,5,6,7,8,9,10,11,12,13,14,15,16,17,18,19,20,21,22,23,24,25,26,27,28,29,30,31,\n",
      "8 월 :1,2,3,4,5,6,7,8,9,10,11,12,13,14,15,16,17,18,19,20,21,22,23,24,25,26,27,28,29,30,31,\n",
      "9 월 :1,2,3,4,5,6,7,8,9,10,11,12,13,14,15,16,17,18,19,20,21,22,23,24,25,26,27,28,29,30,\n",
      "10 월 :1,2,3,4,5,6,7,8,9,10,11,12,13,14,15,16,17,18,19,20,21,22,23,24,25,26,27,28,29,30,31,\n",
      "11 월 :1,2,3,4,5,6,7,8,9,10,11,12,13,14,15,16,17,18,19,20,21,22,23,24,25,26,27,28,29,30,\n",
      "12 월 :1,2,3,4,5,6,7,8,9,10,11,12,13,14,15,16,17,18,19,20,21,22,23,24,25,26,27,28,29,30,31,\n"
     ]
    }
   ],
   "source": [
    "Mon=1 #Mon 변수 선언 및 초기화\n",
    "for LastDay in [31,28,31,30,31,30,31,31,30,31,30,31]: #for 반복 lastday 컬렉션\n",
    "    print(Mon,\"월 :\",end=\"\") #print 월\n",
    "    for Day in range(1,LastDay+1): #for 반복 day는 1부터 lastaday+1까지 반복\n",
    "        print(Day,end=\",\") #출력 day\n",
    "    print(end=\"\\n\") #개행\n",
    "    Mon+=1  #Mon +1 누적"
   ]
  },
  {
   "cell_type": "code",
   "execution_count": 28,
   "id": "a789a9c6",
   "metadata": {},
   "outputs": [
    {
     "name": "stdout",
     "output_type": "stream",
     "text": [
      "2 * 2 = 4\t3 * 2 = 4\t4 * 2 = 4\n",
      "2 * 3 = 6\t3 * 3 = 6\t4 * 3 = 6\n",
      "2 * 4 = 8\t3 * 4 = 8\t4 * 4 = 8\n",
      "2 * 5 = 10\t3 * 5 = 10\t4 * 5 = 10\n",
      "2 * 6 = 12\t3 * 6 = 12\t4 * 6 = 12\n",
      "2 * 7 = 14\t3 * 7 = 14\t4 * 7 = 14\n",
      "2 * 8 = 16\t3 * 8 = 16\t4 * 8 = 16\n",
      "2 * 9 = 18\t3 * 9 = 18\t4 * 9 = 18\n",
      "\n",
      "5 * 2 = 10\t6 * 2 = 10\t7 * 2 = 10\n",
      "5 * 3 = 15\t6 * 3 = 15\t7 * 3 = 15\n",
      "5 * 4 = 20\t6 * 4 = 20\t7 * 4 = 20\n",
      "5 * 5 = 25\t6 * 5 = 25\t7 * 5 = 25\n",
      "5 * 6 = 30\t6 * 6 = 30\t7 * 6 = 30\n",
      "5 * 7 = 35\t6 * 7 = 35\t7 * 7 = 35\n",
      "5 * 8 = 40\t6 * 8 = 40\t7 * 8 = 40\n",
      "5 * 9 = 45\t6 * 9 = 45\t7 * 9 = 45\n",
      "\n",
      "8 * 2 = 16\t9 * 2 = 16\t\n",
      "8 * 3 = 24\t9 * 3 = 24\t\n",
      "8 * 4 = 32\t9 * 4 = 32\t\n",
      "8 * 5 = 40\t9 * 5 = 40\t\n",
      "8 * 6 = 48\t9 * 6 = 48\t\n",
      "8 * 7 = 56\t9 * 7 = 56\t\n",
      "8 * 8 = 64\t9 * 8 = 64\t\n",
      "8 * 9 = 72\t9 * 9 = 72\t\n",
      "\n"
     ]
    }
   ],
   "source": [
    "for i in range(2,10,3): #for 반복 i는 2부터 10까지 3씩 증가\n",
    "    for j in range(2,10): #for 반복 j는 2부터 10까지 1씩 증가\n",
    "        print(i,\"*\",j,\"=\",i*j,end=\"\\t\") #출력\n",
    "        print(i+1,\"*\",j,\"=\",i*j,end=\"\\t\") #출력\n",
    "        if(i+2!=10): print(i+2,\"*\",j,\"=\",i*j,end=\"\\n\") #조건 i+2가 10이 아니면 출력\n",
    "        else: print(end=\"\\n\") # 그렇지 않으면 개행\n",
    "    print(end=\"\\n\") #개행"
   ]
  },
  {
   "cell_type": "code",
   "execution_count": 29,
   "id": "d45fc3eb",
   "metadata": {},
   "outputs": [
    {
     "name": "stdout",
     "output_type": "stream",
     "text": [
      "2 * 2 = 4\t5 * 2 = 4\t8 * 2 = 4\n",
      "2 * 3 = 6\t5 * 3 = 6\t8 * 3 = 6\n",
      "2 * 4 = 8\t5 * 4 = 8\t8 * 4 = 8\n",
      "2 * 5 = 10\t5 * 5 = 10\t8 * 5 = 10\n",
      "2 * 6 = 12\t5 * 6 = 12\t8 * 6 = 12\n",
      "2 * 7 = 14\t5 * 7 = 14\t8 * 7 = 14\n",
      "2 * 8 = 16\t5 * 8 = 16\t8 * 8 = 16\n",
      "2 * 9 = 18\t5 * 9 = 18\t8 * 9 = 18\n",
      "\n",
      "3 * 2 = 6\t6 * 2 = 6\t9 * 2 = 6\n",
      "3 * 3 = 9\t6 * 3 = 9\t9 * 3 = 9\n",
      "3 * 4 = 12\t6 * 4 = 12\t9 * 4 = 12\n",
      "3 * 5 = 15\t6 * 5 = 15\t9 * 5 = 15\n",
      "3 * 6 = 18\t6 * 6 = 18\t9 * 6 = 18\n",
      "3 * 7 = 21\t6 * 7 = 21\t9 * 7 = 21\n",
      "3 * 8 = 24\t6 * 8 = 24\t9 * 8 = 24\n",
      "3 * 9 = 27\t6 * 9 = 27\t9 * 9 = 27\n",
      "\n",
      "4 * 2 = 8\t7 * 2 = 8\t\n",
      "4 * 3 = 12\t7 * 3 = 12\t\n",
      "4 * 4 = 16\t7 * 4 = 16\t\n",
      "4 * 5 = 20\t7 * 5 = 20\t\n",
      "4 * 6 = 24\t7 * 6 = 24\t\n",
      "4 * 7 = 28\t7 * 7 = 28\t\n",
      "4 * 8 = 32\t7 * 8 = 32\t\n",
      "4 * 9 = 36\t7 * 9 = 36\t\n",
      "\n"
     ]
    }
   ],
   "source": [
    "for i in range(2,5): #for 반복 i 2부터 5까지 1씩 증가\n",
    "    for j in range(2,10): #for 반복 j 2부터 5까지 1씩 증가\n",
    "        print(i,\"*\",j,\"=\",i*j,end=\"\\t\") #출력\n",
    "        print(i+3,\"*\",j,\"=\",i*j,end=\"\\t\") #출력\n",
    "        if(i+6!=10): print(i+6,\"*\",j,\"=\",i*j,end=\"\\n\") #i+6이 10이 아니라면 출력\n",
    "        else: print(end=\"\\n\") #그렇지않으면 개행\n",
    "    print(end=\"\\n\") #개행"
   ]
  },
  {
   "cell_type": "code",
   "execution_count": null,
   "id": "c7968c33",
   "metadata": {},
   "outputs": [],
   "source": []
  }
 ],
 "metadata": {
  "kernelspec": {
   "display_name": "Python 3 (ipykernel)",
   "language": "python",
   "name": "python3"
  },
  "language_info": {
   "codemirror_mode": {
    "name": "ipython",
    "version": 3
   },
   "file_extension": ".py",
   "mimetype": "text/x-python",
   "name": "python",
   "nbconvert_exporter": "python",
   "pygments_lexer": "ipython3",
   "version": "3.8.8rc1"
  }
 },
 "nbformat": 4,
 "nbformat_minor": 5
}
