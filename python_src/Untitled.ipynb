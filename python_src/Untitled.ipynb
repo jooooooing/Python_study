{
 "cells": [
  {
   "cell_type": "code",
   "execution_count": 1,
   "id": "887263aa",
   "metadata": {},
   "outputs": [
    {
     "name": "stdout",
     "output_type": "stream",
     "text": [
      "1~10까지의 합: 55\n",
      "100~1000까지의 합: 495550\n",
      "5000~10000까지의 합: 37507500\n"
     ]
    }
   ],
   "source": [
    "def intsum(x,y): #함수선언, 인수로 x와y를 받는다\n",
    "    sum=0; #sum 선언후 0입력\n",
    "    for i in range(x,y+1,1): #i에 x부터 y까지 1씩 증가하며 입력\n",
    "        sum+=i #sum에 i를 더한다.\n",
    "    return sum #sum을 반환\n",
    "\n",
    "print(\"1~10까지의 합:\",intsum(1,10)) #1부터 10까지의 합\n",
    "print(\"100~1000까지의 합:\",intsum(100,1000)) #100부터 1000까지의 합\n",
    "print(\"5000~10000까지의 합:\",intsum(5000,10000)) #5000부터 10000까지의 합"
   ]
  },
  {
   "cell_type": "code",
   "execution_count": 2,
   "id": "787bbb14",
   "metadata": {},
   "outputs": [
    {
     "name": "stdout",
     "output_type": "stream",
     "text": [
      "1~10까지의 합에 5를 더함: 60\n",
      "100~1000까지의 합에 33을 곱함: 16353150\n"
     ]
    }
   ],
   "source": [
    "def intsum(x,y): #함수 선언, x y 를 인수로 받는다\n",
    "    sum=0; # sum 선언후 0입력\n",
    "    for i in range(x,y+1,1): #x부터 y까지 1씩 증가하며 입력하는 for문 작성\n",
    "        sum+=i #sum에 i를 더한다. \n",
    "    return sum #sum 반환\n",
    "\n",
    "print(\"1~10까지의 합에 5를 더함:\",intsum(1,10)+5) #1부터 10까지 합에 5를 더한다\n",
    "i=intsum(100,1000)*33 #100부터 1000까지의 합에 33을 곱한다\n",
    "print(\"100~1000까지의 합에 33을 곱함:\",i) #위 i값을 출력한다"
   ]
  },
  {
   "cell_type": "code",
   "execution_count": 3,
   "id": "63e67487",
   "metadata": {},
   "outputs": [
    {
     "name": "stdout",
     "output_type": "stream",
     "text": [
      "함수내부에서 sum값을 출력: 495550\n",
      "100~1000까지의 합: None\n",
      "100~1000까지의 합에 33을 곱함: None\n"
     ]
    }
   ],
   "source": [
    "def intsum(x,y): #함수 선언, x y를 인수로 받는다\n",
    "    sum=0; #sum 선언 후, 0 입력\n",
    "    for i in range(x,y+1,1): #i에 x부터 y까지 1씩 증가하는 for문 작상\n",
    "        sum+=i #sum에 i를 더한다\n",
    "    print(\"함수내부에서 sum값을 출력:\",sum) #sum을 형식에 맞게 출력한다.\n",
    "\n",
    "i=intsum(100,1000) #i에 리턴값이 없는 함수를 넣는다.(None이 뜸)\n",
    "print(\"100~1000까지의 합:\",i) #i를 출력\n",
    "print(\"100~1000까지의 합에 33을 곱함:\",i) #i를 출력"
   ]
  },
  {
   "cell_type": "code",
   "execution_count": 4,
   "id": "de50cdb5",
   "metadata": {},
   "outputs": [
    {
     "name": "stdout",
     "output_type": "stream",
     "text": [
      "별10개 찍기\n",
      "**********\n",
      "\n",
      "별3개 찍기\n",
      "***\n",
      "\n",
      "별5개 찍기\n",
      "*****\n",
      "\n"
     ]
    }
   ],
   "source": [
    "print(\"별10개 찍기\") #메세지 출력\n",
    "for i in range(10): #0부터 9까지 반복한다.\n",
    "    print(\"*\",end=\"\") #for문에서 별 찍기\n",
    "print(\"\\n\") #줄바꿈\n",
    "\n",
    "print(\"별3개 찍기\") #메세지 출력\n",
    "for i in range(3): #0부터 9까지 반복한다.\n",
    "    print(\"*\",end=\"\") #for문에서 별 찍기\n",
    "print(\"\\n\") #줄바꿈\n",
    "\n",
    "print(\"별5개 찍기\") #메세지 출력\n",
    "for i in range(5): #0부터 9까지 반복한다.\n",
    "    print(\"*\",end=\"\") #for문에서 별 찍기\n",
    "print(\"\\n\") #줄바꿈"
   ]
  },
  {
   "cell_type": "code",
   "execution_count": 5,
   "id": "0efcec56",
   "metadata": {},
   "outputs": [
    {
     "name": "stdout",
     "output_type": "stream",
     "text": [
      "별10개 찍기\n",
      "**********\n",
      "\n",
      "별3개 찍기\n",
      "***\n",
      "\n",
      "별5개 찍기\n",
      "*****\n",
      "\n"
     ]
    }
   ],
   "source": [
    "def starprint(n): #함수 선언. n을 인수로 받음\n",
    "    for i in range(n): # 0부터 변수로 받은 n-1까지 입력하는 for문\n",
    "        print(\"*\",end=\"\") #별출력(줄은 바꾸지않는다)\n",
    "    print(\"\\n\") #줄바꿈\n",
    "\n",
    "print(\"별10개 찍기\");starprint(10) #n에 10 넣고 함수 실행\n",
    "print(\"별3개 찍기\");starprint(3) #n에 3 넣고 함수 실행\n",
    "print(\"별5개 찍기\");starprint(5) #n에 5 넣고 함수 실행"
   ]
  },
  {
   "cell_type": "code",
   "execution_count": 6,
   "id": "40081d34",
   "metadata": {},
   "outputs": [
    {
     "name": "stdout",
     "output_type": "stream",
     "text": [
      "1~10까지의 합: 55\n",
      "1~1000까지의 합: 500500\n",
      "1~10000까지의 합: 50005000\n"
     ]
    }
   ],
   "source": [
    "def intsum(n): #함수 선언, n을 인수로 받음\n",
    "    sum=0; #sum 선언후 0 지정\n",
    "    for i in range(1,n+1,1): #i에 1부터 n까지 입력하는 for문 작성\n",
    "        sum+=i #sum에 i를 더한다(1 2 3 .. i) \n",
    "    return sum #sum을 반환한다.\n",
    "\n",
    "print(\"1~10까지의 합:\",intsum(10)) #1부터 10까지 합을 반환한다.\n",
    "print(\"1~1000까지의 합:\",intsum(1000)) #1부터 1000까지 합을 반환한다.\n",
    "print(\"1~10000까지의 합:\",intsum(10000)) #1부터 10000까지 합을 반환한다."
   ]
  },
  {
   "cell_type": "code",
   "execution_count": 7,
   "id": "a6d2f12e",
   "metadata": {},
   "outputs": [
    {
     "name": "stdout",
     "output_type": "stream",
     "text": [
      "==================================================\n",
      "이름\t국어\t영어\t수학\t총점\t평균\n",
      "==================================================\n",
      "나연 \t 100 \t 90 \t 90 \t 280 \t 93\n",
      "정연 \t 90 \t 70 \t 80 \t 240 \t 80\n",
      "모모 \t 90 \t 100 \t 70 \t 260 \t 86\n",
      "사나 \t 100 \t 100 \t 100 \t 300 \t 100\n",
      "지효 \t 80 \t 70 \t 90 \t 240 \t 80\n",
      "미나 \t 80 \t 70 \t 90 \t 240 \t 80\n",
      "다현 \t 70 \t 60 \t 100 \t 230 \t 76\n",
      "채영 \t 80 \t 90 \t 90 \t 260 \t 86\n",
      "쯔위 \t 80 \t 90 \t 80 \t 250 \t 83\n",
      "==================================================\n",
      "반총점\t 770 \t 740 \t 790 \t 2300 \t 85.0\n",
      "==================================================\n"
     ]
    }
   ],
   "source": [
    "def titleprint(): #함수를 선언해둔다\n",
    "    print(\"=\"*50) #구분선 50개 출력\n",
    "    print(\"이름\\t국어\\t영어\\t수학\\t총점\\t평균\") #이름 과목별 성적 칸 만들기\n",
    "    print(\"=\"*50) #구분선 50개 출력\n",
    "\n",
    "def itemprint(name,kor,eng,mat): #함수를 선언해둔다.(인수4개)\n",
    "    print(name,\"\\t\",kor,\"\\t\",eng,\"\\t\",mat,\"\\t\",kor+eng+mat,\"\\t\",(kor+eng+mat)//3)\n",
    "    #인수로 받아온 이름 국어,영어,수학(성적)과 합계 평균을 계산해서 출력한다.\n",
    "    \n",
    "def tailprint(): #함수를 선언해둔다.\n",
    "    totkor=0 #국어성적 합계 변수\n",
    "    for i in ckor: #국어 배열을 돌면서 성적 합계 계산\n",
    "        totkor+=i\n",
    "        \n",
    "    toteng=0 #영어성적 합계 변수\n",
    "    for i in ceng: #영어 배열을 돌면서 성적 합계 계산\n",
    "        toteng+=i\n",
    "        \n",
    "    totmat=0 #수학성적 합계 변수\n",
    "    for i in cmat: #수학 배열을 돌면서 성적 합계 계산\n",
    "        totmat+=i\n",
    "    print(\"=\"*50) #구분선 출력\n",
    "    #반 인원의 성적 총점 계산\n",
    "    print(\"반총점\\t\",totkor,\"\\t\",toteng,\"\\t\",totmat,\"\\t\" \\\n",
    "        ,(totkor+toteng+totmat),\"\\t\",(totkor+toteng+totmat)/3//9)\n",
    "    print(\"=\"*50) #구분선 출력\n",
    "\n",
    "#데이터 입력\n",
    "cname=[\"나연\",\"정연\",\"모모\",\"사나\",\"지효\",\"미나\",\"다현\",\"채영\",\"쯔위\"]\n",
    "ckor=[100, 90, 90, 100, 80, 80, 70, 80, 80]\n",
    "ceng=[90, 70, 100, 100, 70, 70, 60, 90, 90]\n",
    "cmat=[90, 80, 70, 100, 90, 90, 100, 90, 80]\n",
    "\n",
    "#프로그램 실행구간\n",
    "titleprint()\n",
    "for i in range(9):\n",
    "    itemprint(cname[i],ckor[i],ceng[i],cmat[i])\n",
    "    \n",
    "tailprint()"
   ]
  },
  {
   "cell_type": "code",
   "execution_count": 8,
   "id": "c14e71bf",
   "metadata": {},
   "outputs": [
    {
     "name": "stdout",
     "output_type": "stream",
     "text": [
      "case 1: 1\n",
      "case 2: 7\n",
      "case 3: 9505\n"
     ]
    }
   ],
   "source": [
    "def sumsum(*num): #num 여러개를 인수로 받는 함수 선언\n",
    "    sum=0 #합계를 구할 변수선언\n",
    "    for i in num: #인수로 받은 num들을 for에 하나씩 넣는다\n",
    "        sum+=i #받은 인수를 모두 더한다.\n",
    "    return sum #합계를 반환한다.\n",
    "\n",
    "print(\"case 1:\", sumsum(1)) #1를 더한 값 출력\n",
    "print(\"case 2:\", sumsum(1,2,4)) #1 2 4를 더한 값 출력\n",
    "print(\"case 3:\", sumsum(1,2,34,567,8901)) # 1 2 34 567 8910을 더한 값 출력"
   ]
  },
  {
   "cell_type": "code",
   "execution_count": 9,
   "id": "ac563549",
   "metadata": {},
   "outputs": [
    {
     "name": "stdout",
     "output_type": "stream",
     "text": [
      "case 1: 1\n",
      "case 2: 7\n",
      "case 3: 9505\n"
     ]
    }
   ],
   "source": [
    "def sumsum(num): #num 1개를 인수로 받는다(배열로 받으면 배열값 모두 더함)\n",
    "    sum=0 #합계를 구할 변수 선언\n",
    "    for i in num: #num의 모든 수를 더하는 for문 작성\n",
    "        sum+=i\n",
    "    return sum #더한 값을 반환한다\n",
    "\n",
    "print(\"case 1:\", sumsum([1])) #1을 더한 값 출력\n",
    "print(\"case 2:\", sumsum([1,2,4])) #1 2 4를 모두 더한 값 출력\n",
    "print(\"case 3:\", sumsum([1,2,34,567,8901]))#1 2 34 567 8910을 모두 더한 값 출력"
   ]
  },
  {
   "cell_type": "code",
   "execution_count": 10,
   "id": "292c0d70",
   "metadata": {},
   "outputs": [
    {
     "name": "stdout",
     "output_type": "stream",
     "text": [
      "case 1: 55\n",
      "case 2: 3825\n",
      "case 3: 495550\n"
     ]
    }
   ],
   "source": [
    "def defaultest(start,end=1000,step=1): #함수 선언, 1씩 증가하고 마지막은 1000\n",
    "    sum=0 #합을 구할 변수선언\n",
    "    for i in range(start,end+1,step): #시작 값부터 끝값까지 step만큼 증가한 for문\n",
    "        sum+=i # 받아온 값들을 모두 더한다\n",
    "    return sum #더한 결과를 반환한다\n",
    "\n",
    "print(\"case 1:\", defaultest(0,10,1)) #0부터 10까지 1씩 증가한 값들을 더한다(55)\n",
    "#step 생략, 맨뒤 step의 기본값(1)로 처리\n",
    "print(\"case 2:\", defaultest(50,100))  # 50부터 100까지 1씩 증가하며 더함\n",
    "#end 생략, 기본 값(1000)으로 처리\n",
    "print(\"case 3:\", defaultest(100)) #100부터 1씩 증가, 1000까지 증가하며 더함"
   ]
  },
  {
   "cell_type": "code",
   "execution_count": 16,
   "id": "3d267ae1",
   "metadata": {},
   "outputs": [
    {
     "name": "stdout",
     "output_type": "stream",
     "text": [
      "case 1: 55\n",
      "case 2: 55\n",
      "case 3: 55\n",
      "case 4: 55\n",
      "case 5: 55\n"
     ]
    }
   ],
   "source": [
    "def defaultest(start,end=1000,step=1): #인수3개를 받는 함수, 디폴트 1000, 1 지정\n",
    "    sum=0 #합을 구할 변수 선언\n",
    "    for i in range(start,end+1,step): #start부터 end까지 step만큼 증가한 값을 모두 더함\n",
    "        sum+=i \n",
    "    return sum #더한 값을 반환한다.\n",
    "\n",
    "print(\"case 1:\", defaultest(0,10,1)) #0부터 10까지 1씩증가하며 더한 값을 출력\n",
    "print(\"case 2:\", defaultest(start=0,end=10,step=1)) #키워드를 지정, 0부터 10까지 1씩 증가하며 모두 더함\n",
    "print(\"case 3:\", defaultest(step=1,end=10,start=0)) #키워드 지정, 순서를 바꿨지만 위와 같은 결과\n",
    "print(\"case 4:\", defaultest(0,10,step=1)) #맨뒤로부터만 키워드인수를 사용하고 앞은 일반인수\n",
    "print(\"case 5:\", defaultest(0,step=1,end=10)) #맨뒤 2개로부터만 키워드인수를 사용하고 앞은 일반인수"
   ]
  },
  {
   "cell_type": "code",
   "execution_count": 12,
   "id": "8a3d932d",
   "metadata": {},
   "outputs": [
    {
     "name": "stdout",
     "output_type": "stream",
     "text": [
      "case 1: 55\n",
      "case 2: 5005\n"
     ]
    }
   ],
   "source": [
    "def testfunc(**args): #키워드 가변 인수 정의, 함수 선언\n",
    "    start=args[\"start\"] # 키워드 가변 (start)\n",
    "    end=args[\"end\"] # 키워드가변 (end)\n",
    "    step=args[\"step\"] # 키워드가변 (step)\n",
    "    sum=0 #합을 구할 변수 선언\n",
    "    for i in range(start,end+1,step): #start부터 end까지 step만큼 증가하며 더하는 for문 지정\n",
    "        sum+=i \n",
    "    return sum #값을 반환한다.\n",
    "\n",
    "print(\"case 1:\", testfunc(start=0,end=10,step=1)) #0부터 10까지 1씩 증가하며 더한 값을 출력한다.\n",
    "print(\"case 2:\", testfunc(end=100,step=1,start=10)) #10부터 100까지 1씩 증가하며 더한 값을 출력한다."
   ]
  },
  {
   "cell_type": "code",
   "execution_count": 13,
   "id": "dd7b6d7d",
   "metadata": {},
   "outputs": [
    {
     "name": "stdout",
     "output_type": "stream",
     "text": [
      "==============================\n",
      "***********\n",
      "\n",
      "&&&&&&&&&&&\n",
      "\n",
      "===========\n",
      "\n",
      "==============================\n",
      "   ********\n",
      "\n",
      "   ????????\n",
      "\n",
      "   ========\n",
      "\n",
      "   %%%%%%%%\n",
      "\n"
     ]
    }
   ],
   "source": [
    "def testfunc(*s, **args): #가변 인수s 와 가변 키워드 인수 args를 선언\n",
    "    start=args[\"start\"] #가변 키워드 인수 start 지정\n",
    "    end=args[\"end\"] #가변 키워드 인수 end 지정\n",
    "    step=args[\"step\"] #가변 키워드 인수 step 지정\n",
    "    for c in s: #가변인수 s를 출력하는 for문 작성\n",
    "        print(\" \"*start,end=\"\") #공백을 start만큰 출력하고 줄바꿈은 하지 않는다.\n",
    "        for i in range(start,end+1,step): #start부터 end까지 step만큼 증가하는 for문 작성\n",
    "            print(c,end=\"\") #c를 for문을 도는 수 만큼 출력한다. 줄바꿈은 하지 않는다\n",
    "        print(\"\\n\") #for문이 끝나면 줄바꿈을 한다.\n",
    "    \n",
    "print(\"=\"*30) #구분선 표시\n",
    "testfunc(\"*\",\"&\",\"=\",start=0,end=10,step=1) #*, &, = 을 인수로 받고 0부터 10까지 1씩 증가하며 출력한다.(11)\n",
    "print(\"=\"*30) #구분선 표시 #구분선 표시\n",
    "testfunc(\"*\",\"?\",\"=\",\"%\",start=3,end=10,step=1) #* ? = % 을 인수르 받고 3부터 10까지 1씩증가하며 출력(8)"
   ]
  },
  {
   "cell_type": "code",
   "execution_count": 14,
   "id": "c9e9b73b",
   "metadata": {
    "scrolled": true
   },
   "outputs": [
    {
     "ename": "NameError",
     "evalue": "name 'a' is not defined",
     "output_type": "error",
     "traceback": [
      "\u001b[1;31m---------------------------------------------------------------------------\u001b[0m",
      "\u001b[1;31mNameError\u001b[0m                                 Traceback (most recent call last)",
      "Input \u001b[1;32mIn [14]\u001b[0m, in \u001b[0;36m<cell line: 5>\u001b[1;34m()\u001b[0m\n\u001b[0;32m      2\u001b[0m     a\u001b[38;5;241m=\u001b[39m\u001b[38;5;241m1\u001b[39m \u001b[38;5;66;03m#지역변수\u001b[39;00m\n\u001b[0;32m      4\u001b[0m test()\n\u001b[1;32m----> 5\u001b[0m \u001b[38;5;28mprint\u001b[39m(\u001b[43ma\u001b[49m)\n",
      "\u001b[1;31mNameError\u001b[0m: name 'a' is not defined"
     ]
    }
   ],
   "source": [
    "def test():\n",
    "    a=1 #지역변수\n",
    "    \n",
    "test()\n",
    "print(a) #전역변수인 a가 없어서 에러"
   ]
  },
  {
   "cell_type": "code",
   "execution_count": 17,
   "id": "38e5664a",
   "metadata": {},
   "outputs": [
    {
     "ename": "SyntaxError",
     "evalue": "unmatched ')' (2529189695.py, line 12)",
     "output_type": "error",
     "traceback": [
      "\u001b[1;36m  Input \u001b[1;32mIn [17]\u001b[1;36m\u001b[0m\n\u001b[1;33m    defaultest(start=0,step=1,10)) #중간부터 사용하면 에러 발생\u001b[0m\n\u001b[1;37m                                 ^\u001b[0m\n\u001b[1;31mSyntaxError\u001b[0m\u001b[1;31m:\u001b[0m unmatched ')'\n"
     ]
    }
   ],
   "source": [
    "def defaultest(start,end=1000,step=1): #인수3개를 받는 함수, 디폴트 1000, 1 지정\n",
    "    sum=0 #합을 구할 변수 선언\n",
    "    for i in range(start,end+1,step): #start부터 end까지 step만큼 증가한 값을 모두 더함\n",
    "        sum+=i \n",
    "    return sum #더한 값을 반환한다.\n",
    "\n",
    "print(\"case 1:\", defaultest(0,10,1)) #0부터 10까지 1씩증가하며 더한 값을 출력\n",
    "print(\"case 2:\", defaultest(start=0,end=10,step=1)) #키워드를 지정, 0부터 10까지 1씩 증가하며 모두 더함\n",
    "print(\"case 3:\", defaultest(step=1,end=10,start=0)) #키워드 지정, 순서를 바꿨지만 위와 같은 결과\n",
    "print(\"case 4:\", defaultest(0,10,step=1)) #맨뒤로부터만 키워드인수를 사용하고 앞은 일반인수\n",
    "print(\"case 5:\", defaultest(0,step=1,end=10)) #맨뒤 2개로부터만 키워드인수를 사용하고 앞은 일반인수\n",
    "defaultest(start=0,step=1,10)) #중간부터 사용하면 에러 발생"
   ]
  },
  {
   "cell_type": "code",
   "execution_count": 18,
   "id": "00219883",
   "metadata": {},
   "outputs": [
    {
     "name": "stdout",
     "output_type": "stream",
     "text": [
      "testf1: 1\n",
      "testf2: 즐거운실습\n",
      "testf3: 3.141592\n",
      "랄랄라\n"
     ]
    }
   ],
   "source": [
    "def testf1(): #지역변수 a는 다른 함수의 a와는 관계없다\n",
    "    a=1 #정수형 1 입력\n",
    "    print(\"testf1:\",a)\n",
    "    \n",
    "def testf2(): #지역변수 a는 다른 함수의 a와는 관계없다\n",
    "    a=\"즐거운실습\" #문자형 입력\n",
    "    print(\"testf2:\",a)\n",
    "    \n",
    "def testf3(): #지역변수 a는 다른 함수의 a와는 관계없다\n",
    "    a=3.141592 #실수형 입력\n",
    "    print(\"testf3:\",a)\n",
    "    \n",
    "testf1() #함수 실행\n",
    "testf2() #함수 실행\n",
    "testf3() #함수 실행\n",
    "a=\"랄랄라\" #전역변수 a에 랄랄라 선언\n",
    "print(a) #출력"
   ]
  },
  {
   "cell_type": "code",
   "execution_count": 19,
   "id": "888c1228",
   "metadata": {},
   "outputs": [
    {
     "name": "stdout",
     "output_type": "stream",
     "text": [
      "testf1: 현재달러환율은1달러당 1021 원이며\n",
      "testf1: 미화100달러는 102100 원입니다\n",
      "testf1: 현재달러환율은1달러당 1120 원이며\n",
      "testf1: 미화100달러는 112000 원입니다\n",
      "testf2: 현재달러환율은1달러당 1011 원이며\n",
      "testf2: 미화100달러는 101100 원입니다\n",
      "testf1: 현재달러환율은1달러당 1120 원이며\n",
      "testf1: 미화100달러는 112000 원입니다\n"
     ]
    }
   ],
   "source": [
    "def testf1(): #함수 선언 , 변수 선언이 따로 없어 전역변수 exrate의 영향을 받는다.\n",
    "    print(\"testf1: 현재달러환율은1달러당\",exrate,\"원이며\") #메세지 출력\n",
    "    print(\"testf1: 미화100달러는\",100*exrate,\"원입니다\") #100을 곱하고 메세지 출력\n",
    "\n",
    "def testf2(): #지역변수 선언, 전역변수의 영향을 받지 않는다.\n",
    "    exrate=1011 #정수형 변수 선언 후 1011 입력\n",
    "    print(\"testf2: 현재달러환율은1달러당\",exrate,\"원이며\") #메세지 출력 \n",
    "    print(\"testf2: 미화100달러는\",100*exrate,\"원입니다\") #메세지 출력\n",
    "\n",
    "exrate=1021 # 정수형 변수 선언 1021 입력\n",
    "testf1() #함수 실행\n",
    "exrate=1120 #선언했던 변수의 값 변경\n",
    "testf1() #함수실행\n",
    "\n",
    "testf2() #함수 실행\n",
    "testf1() #함수 실행"
   ]
  },
  {
   "cell_type": "code",
   "execution_count": 21,
   "id": "b6b0c1d2",
   "metadata": {},
   "outputs": [
    {
     "name": "stdout",
     "output_type": "stream",
     "text": [
      "Help on function testf1 in module __main__:\n",
      "\n",
      "testf1()\n",
      "    #주석 같이 사용\n",
      "    이 함수는 이주현이 최선을 다하여 멋지게만든함수\n",
      "    인수 값에 숫자만큼 1부터 해당 값을 더한 값을 출력해 준다\n",
      "\n"
     ]
    }
   ],
   "source": [
    "def testf1():\n",
    "    \"\"\" #주석 같이 사용\n",
    "    이 함수는 이주현이 최선을 다하여 멋지게만든함수\n",
    "    인수 값에 숫자만큼 1부터 해당 값을 더한 값을 출력해 준다\n",
    "    \"\"\"\n",
    "    sum=0 #합을 구할 변수 선언\n",
    "    for i in range(n+1): #0부터 n까지 더하는 for문 작성\n",
    "        sum+=i\n",
    "    print(\"합:\",sum) #합을 출력\n",
    "    \n",
    "# help로 함수의 docstring 내용 확인\n",
    "help(testf1)"
   ]
  },
  {
   "cell_type": "code",
   "execution_count": null,
   "id": "9b5daccc",
   "metadata": {},
   "outputs": [],
   "source": []
  }
 ],
 "metadata": {
  "kernelspec": {
   "display_name": "Python 3 (ipykernel)",
   "language": "python",
   "name": "python3"
  },
  "language_info": {
   "codemirror_mode": {
    "name": "ipython",
    "version": 3
   },
   "file_extension": ".py",
   "mimetype": "text/x-python",
   "name": "python",
   "nbconvert_exporter": "python",
   "pygments_lexer": "ipython3",
   "version": "3.8.8rc1"
  }
 },
 "nbformat": 4,
 "nbformat_minor": 5
}
