{
 "cells": [
  {
   "cell_type": "code",
   "execution_count": 7,
   "id": "d53fd4b7",
   "metadata": {},
   "outputs": [
    {
     "name": "stdout",
     "output_type": "stream",
     "text": [
      "파일없음\n",
      "프로그램 끝\n"
     ]
    }
   ],
   "source": [
    "f=0 #변수 선언\n",
    "try: #try - catch - finally 문 실행\n",
    "    f=open(\"LICENSE.txt\",\"rt\") #LICENSE.txt 명의 텍스트 파일 읽기모드로 열기\n",
    "    while True: #무한 루프\n",
    "        r=f.readline() #라인이 없어질때까지 메세지 출력\n",
    "        if not r:\n",
    "            break\n",
    "        print(r) \n",
    "except FileNotFoundError: #파일이 없을경우 메세지 출력\n",
    "    print(\"파일없음\")\n",
    "finally: #다 끝나고 나면 메세지 출력\n",
    "    if(f): f.close()\n",
    "    print(\"프로그램 끝\")"
   ]
  },
  {
   "cell_type": "code",
   "execution_count": 11,
   "id": "8ff6c0ac",
   "metadata": {},
   "outputs": [
    {
     "ename": "NameError",
     "evalue": "name 'r' is not defined",
     "output_type": "error",
     "traceback": [
      "\u001b[1;31m---------------------------------------------------------------------------\u001b[0m",
      "\u001b[1;31mNameError\u001b[0m                                 Traceback (most recent call last)",
      "Input \u001b[1;32mIn [11]\u001b[0m, in \u001b[0;36m<cell line: 3>\u001b[1;34m()\u001b[0m\n\u001b[0;32m      2\u001b[0m f\u001b[38;5;241m=\u001b[39m\u001b[38;5;28mopen\u001b[39m(\u001b[38;5;124m\"\u001b[39m\u001b[38;5;124mscore.txt\u001b[39m\u001b[38;5;124m\"\u001b[39m,\u001b[38;5;124m\"\u001b[39m\u001b[38;5;124mwt\u001b[39m\u001b[38;5;124m\"\u001b[39m) \u001b[38;5;66;03m#score.txt로 파일명 지정, 쓰기 + 텍스트 파일형\u001b[39;00m\n\u001b[0;32m      3\u001b[0m \u001b[38;5;28;01mfor\u001b[39;00m i \u001b[38;5;129;01min\u001b[39;00m \u001b[38;5;28mrange\u001b[39m(\u001b[38;5;241m100\u001b[39m): \u001b[38;5;66;03m#0부터 99까지 i에 입력하는 for문 작성\u001b[39;00m\n\u001b[1;32m----> 4\u001b[0m     one_person\u001b[38;5;241m=\u001b[39m\u001b[38;5;124m\"\u001b[39m\u001b[38;5;124m홍길동\u001b[39m\u001b[38;5;124m\"\u001b[39m\u001b[38;5;241m+\u001b[39m\u001b[38;5;28mstr\u001b[39m(i)\u001b[38;5;241m+\u001b[39m\u001b[38;5;124m\"\u001b[39m\u001b[38;5;124m,\u001b[39m\u001b[38;5;124m\"\u001b[39m\u001b[38;5;241m+\u001b[39m\u001b[38;5;28mstr\u001b[39m(\u001b[43mr\u001b[49m\u001b[38;5;241m.\u001b[39mrandrange(\u001b[38;5;241m0\u001b[39m,\u001b[38;5;241m100\u001b[39m))\u001b[38;5;241m+\u001b[39m\u001b[38;5;124m\"\u001b[39m\u001b[38;5;124m,\u001b[39m\u001b[38;5;124m\"\u001b[39m\u001b[38;5;241m+\u001b[39m\u001b[38;5;28mstr\u001b[39m(r\u001b[38;5;241m.\u001b[39mrandrange(\u001b[38;5;241m0\u001b[39m,\u001b[38;5;241m100\u001b[39m)) \u001b[38;5;241m+\u001b[39m\u001b[38;5;124m\"\u001b[39m\u001b[38;5;124m,\u001b[39m\u001b[38;5;124m\"\u001b[39m\u001b[38;5;241m+\u001b[39m\u001b[38;5;28mstr\u001b[39m(r\u001b[38;5;241m.\u001b[39mrandrange(\u001b[38;5;241m0\u001b[39m,\u001b[38;5;241m100\u001b[39m))\u001b[38;5;241m+\u001b[39m\u001b[38;5;124m\"\u001b[39m\u001b[38;5;130;01m\\n\u001b[39;00m\u001b[38;5;124m\"\u001b[39m\n\u001b[0;32m      5\u001b[0m     \u001b[38;5;66;03m#홍길동+번호, 범위랜덤함수로 성적 무작위 입력\u001b[39;00m\n\u001b[0;32m      6\u001b[0m     f\u001b[38;5;241m.\u001b[39mwrite(one_person) \u001b[38;5;66;03m#한 줄씩 쓴다\u001b[39;00m\n",
      "\u001b[1;31mNameError\u001b[0m: name 'r' is not defined"
     ]
    }
   ],
   "source": [
    "f=0 #변수 선언\n",
    "f=open(\"score.txt\",\"wt\") #score.txt로 파일명 지정, 쓰기 + 텍스트 파일형\n",
    "for i in range(100): #0부터 99까지 i에 입력하는 for문 작성\n",
    "    one_person=\"홍길동\"+str(i)+\",\"+str(r.randrange(0,100))+\",\"+str(r.randrange(0,100)) +\",\"+str(r.randrange(0,100))+\"\\n\"\n",
    "    #홍길동+번호, 범위랜덤함수로 성적 무작위 입력\n",
    "    f.write(one_person) #한 줄씩 쓴다\n",
    "    print(one_person) #값 출력\n",
    "f.close() #파일 작성 종료"
   ]
  }
 ],
 "metadata": {
  "kernelspec": {
   "display_name": "Python 3 (ipykernel)",
   "language": "python",
   "name": "python3"
  },
  "language_info": {
   "codemirror_mode": {
    "name": "ipython",
    "version": 3
   },
   "file_extension": ".py",
   "mimetype": "text/x-python",
   "name": "python",
   "nbconvert_exporter": "python",
   "pygments_lexer": "ipython3",
   "version": "3.8.8rc1"
  }
 },
 "nbformat": 4,
 "nbformat_minor": 5
}
