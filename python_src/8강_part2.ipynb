{
 "cells": [
  {
   "cell_type": "code",
   "execution_count": 13,
   "id": "f2196d0d",
   "metadata": {},
   "outputs": [
    {
     "data": {
      "text/plain": [
       "[1, 2, 3, 3, 4, 4, 5, 6, 7, 7, 7, 7, 8]"
      ]
     },
     "execution_count": 13,
     "metadata": {},
     "output_type": "execute_result"
    }
   ],
   "source": [
    "a=[1,2,3,3,4,4,5,6,7,7,7,7,8] # 리스트 선언\n",
    "a #출력"
   ]
  },
  {
   "cell_type": "code",
   "execution_count": 14,
   "id": "814252d9",
   "metadata": {},
   "outputs": [
    {
     "data": {
      "text/plain": [
       "[1, 2, 3, 3, 4, 4, 5, 6, 7, 7, 7, 8]"
      ]
     },
     "execution_count": 14,
     "metadata": {},
     "output_type": "execute_result"
    }
   ],
   "source": [
    "a.remove(7) #첫 번째 만나는 7값을 가진 리스트 삭제\n",
    "a #a 출력"
   ]
  },
  {
   "cell_type": "code",
   "execution_count": 15,
   "id": "d6bec2fd",
   "metadata": {},
   "outputs": [
    {
     "data": {
      "text/plain": [
       "[1, 2, 3, 3, 4, 4, 5, 6, 7, 7, 8]"
      ]
     },
     "execution_count": 15,
     "metadata": {},
     "output_type": "execute_result"
    }
   ],
   "source": [
    "a.remove(7) #첫 번째 만나는 7값을 가진 리스트 삭제\n",
    "a #a 출력"
   ]
  },
  {
   "cell_type": "code",
   "execution_count": 16,
   "id": "47bbd235",
   "metadata": {},
   "outputs": [
    {
     "data": {
      "text/plain": [
       "[1, 2, 3, 3, 4, [], 5, 6, 7, 7, 8]"
      ]
     },
     "execution_count": 16,
     "metadata": {},
     "output_type": "execute_result"
    }
   ],
   "source": [
    "a[5] = [] #5번째값을 빈 값으로 변경\n",
    "a # a출력"
   ]
  },
  {
   "cell_type": "code",
   "execution_count": 17,
   "id": "2f2994de",
   "metadata": {},
   "outputs": [
    {
     "data": {
      "text/plain": [
       "[1, 2, 4, [], 5, 6, 7, 7, 8]"
      ]
     },
     "execution_count": 17,
     "metadata": {},
     "output_type": "execute_result"
    }
   ],
   "source": [
    "a[2:4] = [] #2~3번째 값을 빈 값으로 변경\n",
    "a #a 출력"
   ]
  },
  {
   "cell_type": "code",
   "execution_count": 18,
   "id": "d43e4d25",
   "metadata": {},
   "outputs": [
    {
     "data": {
      "text/plain": [
       "[1, 2, 4, [], 6, 7, 7, 8]"
      ]
     },
     "execution_count": 18,
     "metadata": {},
     "output_type": "execute_result"
    }
   ],
   "source": [
    "del(a[4]) #4번째 위치의 값 삭제\n",
    "a #출력"
   ]
  },
  {
   "cell_type": "code",
   "execution_count": 19,
   "id": "dc526754",
   "metadata": {},
   "outputs": [
    {
     "data": {
      "text/plain": [
       "[1, 2, 4, 6, 7, 7, 8]"
      ]
     },
     "execution_count": 19,
     "metadata": {},
     "output_type": "execute_result"
    }
   ],
   "source": [
    "del(a[3]) #3번째 위치의 값 삭제\n",
    "a #출력"
   ]
  },
  {
   "cell_type": "code",
   "execution_count": 20,
   "id": "55569f4c",
   "metadata": {},
   "outputs": [
    {
     "data": {
      "text/plain": [
       "[]"
      ]
     },
     "execution_count": 20,
     "metadata": {},
     "output_type": "execute_result"
    }
   ],
   "source": [
    "a.clear() #리스트 안의 모든 값 삭제\n",
    "a #출력, 리스트는 남아있다"
   ]
  },
  {
   "cell_type": "code",
   "execution_count": 21,
   "id": "21bec0a0",
   "metadata": {},
   "outputs": [
    {
     "ename": "NameError",
     "evalue": "name 'a' is not defined",
     "output_type": "error",
     "traceback": [
      "\u001b[1;31m---------------------------------------------------------------------------\u001b[0m",
      "\u001b[1;31mNameError\u001b[0m                                 Traceback (most recent call last)",
      "Input \u001b[1;32mIn [21]\u001b[0m, in \u001b[0;36m<cell line: 2>\u001b[1;34m()\u001b[0m\n\u001b[0;32m      1\u001b[0m \u001b[38;5;28;01mdel\u001b[39;00m(a) \u001b[38;5;66;03m#리스트 정의까지 삭제\u001b[39;00m\n\u001b[1;32m----> 2\u001b[0m \u001b[43ma\u001b[49m\n",
      "\u001b[1;31mNameError\u001b[0m: name 'a' is not defined"
     ]
    }
   ],
   "source": [
    "del(a) #리스트 정의까지 삭제\n",
    "a #출력, 에러가 뜬다"
   ]
  },
  {
   "cell_type": "code",
   "execution_count": 22,
   "id": "472ab1b0",
   "metadata": {},
   "outputs": [
    {
     "data": {
      "text/plain": [
       "8"
      ]
     },
     "execution_count": 22,
     "metadata": {},
     "output_type": "execute_result"
    }
   ],
   "source": [
    "a=[1,2,3,3,4,4,5,6,7,7,7,7,8] #리스트 선언\n",
    "a.pop() #값이 없어서 마지막 8을 리턴한다"
   ]
  },
  {
   "cell_type": "code",
   "execution_count": 23,
   "id": "a1d95634",
   "metadata": {},
   "outputs": [
    {
     "data": {
      "text/plain": [
       "[1, 2, 3, 3, 4, 4, 5, 6, 7, 7, 7, 7]"
      ]
     },
     "execution_count": 23,
     "metadata": {},
     "output_type": "execute_result"
    }
   ],
   "source": [
    "a #출력"
   ]
  },
  {
   "cell_type": "code",
   "execution_count": 24,
   "id": "d6305acd",
   "metadata": {},
   "outputs": [
    {
     "data": {
      "text/plain": [
       "7"
      ]
     },
     "execution_count": 24,
     "metadata": {},
     "output_type": "execute_result"
    }
   ],
   "source": [
    "a.pop() #마지막 값인 7을 리턴"
   ]
  },
  {
   "cell_type": "code",
   "execution_count": 25,
   "id": "a54bdb16",
   "metadata": {},
   "outputs": [
    {
     "data": {
      "text/plain": [
       "3"
      ]
     },
     "execution_count": 25,
     "metadata": {},
     "output_type": "execute_result"
    }
   ],
   "source": [
    "a.pop(3) #4번쨰 값 리턴후 삭제(3)"
   ]
  },
  {
   "cell_type": "code",
   "execution_count": 26,
   "id": "2e5b0eb6",
   "metadata": {},
   "outputs": [
    {
     "data": {
      "text/plain": [
       "[1, 2, 3, 4, 4, 5, 6, 7, 7, 7]"
      ]
     },
     "execution_count": 26,
     "metadata": {},
     "output_type": "execute_result"
    }
   ],
   "source": [
    "a #출력"
   ]
  },
  {
   "cell_type": "code",
   "execution_count": 27,
   "id": "74c9924d",
   "metadata": {},
   "outputs": [
    {
     "data": {
      "text/plain": [
       "6"
      ]
     },
     "execution_count": 27,
     "metadata": {},
     "output_type": "execute_result"
    }
   ],
   "source": [
    "a.pop(6) #6번째 값 리턴후 삭제(6)"
   ]
  },
  {
   "cell_type": "code",
   "execution_count": 28,
   "id": "6e6f20f5",
   "metadata": {},
   "outputs": [
    {
     "data": {
      "text/plain": [
       "[1, 2, 3, 4, 4, 5, 7, 7, 7]"
      ]
     },
     "execution_count": 28,
     "metadata": {},
     "output_type": "execute_result"
    }
   ],
   "source": [
    "a #출력"
   ]
  },
  {
   "cell_type": "code",
   "execution_count": 29,
   "id": "c2c48746",
   "metadata": {},
   "outputs": [
    {
     "data": {
      "text/plain": [
       "7"
      ]
     },
     "execution_count": 29,
     "metadata": {},
     "output_type": "execute_result"
    }
   ],
   "source": [
    "a.pop(6) #7 리턴후 삭제"
   ]
  },
  {
   "cell_type": "code",
   "execution_count": 30,
   "id": "0afddc80",
   "metadata": {},
   "outputs": [
    {
     "data": {
      "text/plain": [
       "1"
      ]
     },
     "execution_count": 30,
     "metadata": {},
     "output_type": "execute_result"
    }
   ],
   "source": [
    "a.pop(0) #첫번째 값 리턴후 삭제(1)"
   ]
  },
  {
   "cell_type": "code",
   "execution_count": 31,
   "id": "2db8a93b",
   "metadata": {},
   "outputs": [
    {
     "data": {
      "text/plain": [
       "[2, 3, 4, 4, 5, 7, 7]"
      ]
     },
     "execution_count": 31,
     "metadata": {},
     "output_type": "execute_result"
    }
   ],
   "source": [
    "a #출력"
   ]
  },
  {
   "cell_type": "code",
   "execution_count": 32,
   "id": "65b38b20",
   "metadata": {},
   "outputs": [
    {
     "data": {
      "text/plain": [
       "8"
      ]
     },
     "execution_count": 32,
     "metadata": {},
     "output_type": "execute_result"
    }
   ],
   "source": [
    "a = [1, 2, 3, 3, 4, 4, 5, 6, 7, 7, 7, 7, 8] #리스트 작성\n",
    "a.index(7) #해당 값이 처음 나오는 위치 반환(8)"
   ]
  },
  {
   "cell_type": "code",
   "execution_count": 33,
   "id": "6b96b625",
   "metadata": {},
   "outputs": [
    {
     "data": {
      "text/plain": [
       "12"
      ]
     },
     "execution_count": 33,
     "metadata": {},
     "output_type": "execute_result"
    }
   ],
   "source": [
    "a.index(8) #8이 처음 나오는 위치 반환(12)"
   ]
  },
  {
   "cell_type": "code",
   "execution_count": 34,
   "id": "5a93b9ba",
   "metadata": {},
   "outputs": [
    {
     "data": {
      "text/plain": [
       "4"
      ]
     },
     "execution_count": 34,
     "metadata": {},
     "output_type": "execute_result"
    }
   ],
   "source": [
    "a.index(4) #4가 처음 나오는 위치 반환(4)"
   ]
  },
  {
   "cell_type": "code",
   "execution_count": 35,
   "id": "75ec531c",
   "metadata": {},
   "outputs": [
    {
     "data": {
      "text/plain": [
       "4"
      ]
     },
     "execution_count": 35,
     "metadata": {},
     "output_type": "execute_result"
    }
   ],
   "source": [
    "a.count(7) #7이 몇번 나오는지 알려줌(4)"
   ]
  },
  {
   "cell_type": "code",
   "execution_count": 38,
   "id": "1077ee6f",
   "metadata": {},
   "outputs": [
    {
     "data": {
      "text/plain": [
       "1"
      ]
     },
     "execution_count": 38,
     "metadata": {},
     "output_type": "execute_result"
    }
   ],
   "source": [
    "a=[1,2,3,3,4,4,5,6,7,7,7,7,8] #리스트 선언\n",
    "min(a) #최소값 출력"
   ]
  },
  {
   "cell_type": "code",
   "execution_count": 39,
   "id": "1ee09d6f",
   "metadata": {},
   "outputs": [
    {
     "data": {
      "text/plain": [
       "8"
      ]
     },
     "execution_count": 39,
     "metadata": {},
     "output_type": "execute_result"
    }
   ],
   "source": [
    "max(a) #최대값 출력"
   ]
  },
  {
   "cell_type": "code",
   "execution_count": 40,
   "id": "5608d481",
   "metadata": {},
   "outputs": [
    {
     "data": {
      "text/plain": [
       "13"
      ]
     },
     "execution_count": 40,
     "metadata": {},
     "output_type": "execute_result"
    }
   ],
   "source": [
    "len(a) #리스트 길이 출력"
   ]
  },
  {
   "cell_type": "code",
   "execution_count": 41,
   "id": "aff2692c",
   "metadata": {},
   "outputs": [
    {
     "data": {
      "text/plain": [
       "[4, 9, 6, 2, 5, 4, 2, 6, 5, 8, 1]"
      ]
     },
     "execution_count": 41,
     "metadata": {},
     "output_type": "execute_result"
    }
   ],
   "source": [
    "a=[1,8,5,6,2,4,5,2,6,9,4] # 리스트 선언\n",
    "a.reverse() #a의 순서를 반대로 바꾼다.\n",
    "a #출력"
   ]
  },
  {
   "cell_type": "code",
   "execution_count": 42,
   "id": "59410796",
   "metadata": {},
   "outputs": [
    {
     "data": {
      "text/plain": [
       "[1, 2, 2, 4, 4, 5, 5, 6, 6, 8, 9]"
      ]
     },
     "execution_count": 42,
     "metadata": {},
     "output_type": "execute_result"
    }
   ],
   "source": [
    "a.sort() #오름차순으로 변경한다\n",
    "a #출력"
   ]
  },
  {
   "cell_type": "code",
   "execution_count": 43,
   "id": "ba6630f6",
   "metadata": {},
   "outputs": [
    {
     "name": "stdout",
     "output_type": "stream",
     "text": [
      "==================================================\n",
      "이름\t국어\t영어\t수학\t총점\t평균\n",
      "==================================================\n",
      "name0 \t 91 \t 97 \t 86 \t 274 \t 91\n",
      "name1 \t 73 \t 84 \t 13 \t 170 \t 56\n",
      "name2 \t 13 \t 23 \t 75 \t 111 \t 37\n",
      "name3 \t 58 \t 60 \t 11 \t 129 \t 43\n",
      "name4 \t 97 \t 29 \t 68 \t 194 \t 64\n",
      "name5 \t 91 \t 21 \t 56 \t 168 \t 56\n",
      "name6 \t 82 \t 58 \t 15 \t 155 \t 51\n",
      "name7 \t 86 \t 97 \t 12 \t 195 \t 65\n",
      "name8 \t 94 \t 32 \t 72 \t 198 \t 66\n",
      "name9 \t 80 \t 18 \t 51 \t 149 \t 49\n",
      "name10 \t 40 \t 18 \t 75 \t 133 \t 44\n",
      "name11 \t 86 \t 83 \t 55 \t 224 \t 74\n",
      "name12 \t 11 \t 83 \t 43 \t 137 \t 45\n",
      "name13 \t 96 \t 52 \t 48 \t 196 \t 65\n",
      "name14 \t 48 \t 95 \t 42 \t 185 \t 61\n",
      "name15 \t 90 \t 85 \t 75 \t 250 \t 83\n",
      "name16 \t 91 \t 65 \t 76 \t 232 \t 77\n",
      "name17 \t 77 \t 75 \t 90 \t 242 \t 80\n",
      "name18 \t 75 \t 59 \t 52 \t 186 \t 62\n",
      "name19 \t 47 \t 98 \t 43 \t 188 \t 62\n",
      "name20 \t 12 \t 21 \t 72 \t 105 \t 35\n",
      "name21 \t 50 \t 98 \t 23 \t 171 \t 57\n",
      "name22 \t 84 \t 68 \t 56 \t 208 \t 69\n",
      "name23 \t 88 \t 38 \t 87 \t 213 \t 71\n",
      "name24 \t 96 \t 88 \t 11 \t 195 \t 65\n",
      "name25 \t 17 \t 93 \t 66 \t 176 \t 58\n",
      "name26 \t 26 \t 23 \t 61 \t 110 \t 36\n",
      "name27 \t 10 \t 71 \t 98 \t 179 \t 59\n",
      "name28 \t 12 \t 53 \t 80 \t 145 \t 48\n",
      "name29 \t 45 \t 53 \t 61 \t 159 \t 53\n",
      "name30 \t 48 \t 29 \t 29 \t 106 \t 35\n",
      "name31 \t 54 \t 95 \t 35 \t 184 \t 61\n",
      "name32 \t 65 \t 55 \t 76 \t 196 \t 65\n",
      "name33 \t 54 \t 61 \t 31 \t 146 \t 48\n",
      "name34 \t 89 \t 97 \t 29 \t 215 \t 71\n",
      "name35 \t 66 \t 36 \t 32 \t 134 \t 44\n",
      "name36 \t 19 \t 35 \t 32 \t 86 \t 28\n",
      "name37 \t 58 \t 82 \t 24 \t 164 \t 54\n",
      "name38 \t 75 \t 82 \t 49 \t 206 \t 68\n",
      "name39 \t 36 \t 37 \t 56 \t 129 \t 43\n",
      "name40 \t 35 \t 47 \t 24 \t 106 \t 35\n",
      "name41 \t 33 \t 41 \t 28 \t 102 \t 34\n",
      "name42 \t 26 \t 19 \t 90 \t 135 \t 45\n",
      "name43 \t 25 \t 12 \t 90 \t 127 \t 42\n",
      "name44 \t 83 \t 19 \t 93 \t 195 \t 65\n",
      "name45 \t 27 \t 33 \t 72 \t 132 \t 44\n",
      "name46 \t 62 \t 23 \t 98 \t 183 \t 61\n",
      "name47 \t 76 \t 19 \t 73 \t 168 \t 56\n",
      "name48 \t 78 \t 35 \t 85 \t 198 \t 66\n",
      "name49 \t 25 \t 79 \t 85 \t 189 \t 63\n",
      "name50 \t 47 \t 96 \t 33 \t 176 \t 58\n",
      "name51 \t 72 \t 17 \t 55 \t 144 \t 48\n",
      "name52 \t 59 \t 43 \t 14 \t 116 \t 38\n",
      "name53 \t 36 \t 60 \t 23 \t 119 \t 39\n",
      "name54 \t 35 \t 21 \t 86 \t 142 \t 47\n",
      "name55 \t 16 \t 19 \t 96 \t 131 \t 43\n",
      "name56 \t 76 \t 82 \t 64 \t 222 \t 74\n",
      "name57 \t 91 \t 84 \t 20 \t 195 \t 65\n",
      "name58 \t 71 \t 64 \t 59 \t 194 \t 64\n",
      "name59 \t 65 \t 59 \t 25 \t 149 \t 49\n",
      "name60 \t 70 \t 52 \t 53 \t 175 \t 58\n",
      "name61 \t 68 \t 10 \t 77 \t 155 \t 51\n",
      "name62 \t 52 \t 28 \t 64 \t 144 \t 48\n",
      "name63 \t 67 \t 71 \t 10 \t 148 \t 49\n",
      "name64 \t 21 \t 42 \t 43 \t 106 \t 35\n",
      "name65 \t 57 \t 11 \t 31 \t 99 \t 33\n",
      "name66 \t 89 \t 15 \t 90 \t 194 \t 64\n",
      "name67 \t 58 \t 55 \t 39 \t 152 \t 50\n",
      "name68 \t 26 \t 78 \t 71 \t 175 \t 58\n",
      "name69 \t 37 \t 45 \t 52 \t 134 \t 44\n",
      "name70 \t 30 \t 48 \t 20 \t 98 \t 32\n",
      "name71 \t 36 \t 11 \t 22 \t 69 \t 23\n",
      "name72 \t 73 \t 87 \t 17 \t 177 \t 59\n",
      "name73 \t 63 \t 58 \t 13 \t 134 \t 44\n",
      "name74 \t 16 \t 96 \t 89 \t 201 \t 67\n",
      "name75 \t 32 \t 39 \t 94 \t 165 \t 55\n",
      "name76 \t 35 \t 57 \t 39 \t 131 \t 43\n",
      "name77 \t 57 \t 61 \t 70 \t 188 \t 62\n",
      "name78 \t 63 \t 20 \t 65 \t 148 \t 49\n",
      "name79 \t 38 \t 81 \t 56 \t 175 \t 58\n",
      "name80 \t 80 \t 10 \t 68 \t 158 \t 52\n",
      "name81 \t 98 \t 81 \t 59 \t 238 \t 79\n",
      "name82 \t 39 \t 79 \t 71 \t 189 \t 63\n",
      "name83 \t 38 \t 56 \t 81 \t 175 \t 58\n",
      "name84 \t 86 \t 67 \t 27 \t 180 \t 60\n",
      "name85 \t 76 \t 20 \t 66 \t 162 \t 54\n",
      "name86 \t 23 \t 27 \t 47 \t 97 \t 32\n",
      "name87 \t 51 \t 61 \t 53 \t 165 \t 55\n",
      "name88 \t 22 \t 53 \t 80 \t 155 \t 51\n",
      "name89 \t 86 \t 72 \t 39 \t 197 \t 65\n",
      "name90 \t 19 \t 95 \t 96 \t 210 \t 70\n",
      "name91 \t 42 \t 77 \t 82 \t 201 \t 67\n",
      "name92 \t 85 \t 65 \t 73 \t 223 \t 74\n",
      "name93 \t 10 \t 80 \t 78 \t 168 \t 56\n",
      "name94 \t 49 \t 11 \t 57 \t 117 \t 39\n",
      "name95 \t 41 \t 26 \t 18 \t 85 \t 28\n",
      "name96 \t 28 \t 53 \t 60 \t 141 \t 47\n",
      "name97 \t 36 \t 22 \t 22 \t 80 \t 26\n",
      "name98 \t 15 \t 63 \t 14 \t 92 \t 30\n",
      "name99 \t 75 \t 81 \t 75 \t 231 \t 77\n",
      "==================================================\n",
      "반총점\t 5455 \t 5383 \t 5460 \t 16298 \t 54.0\n",
      "==================================================\n"
     ]
    }
   ],
   "source": [
    "import random as r #랜덤함수 사용하기 위해 라이브러리 선언\n",
    "\n",
    "def titleprint(): # 상단 부분 출력 구간\n",
    "    print(\"=\"*50) #구분선 출력\n",
    "    print(\"이름\\t국어\\t영어\\t수학\\t총점\\t평균\") #이름 및 과목 총점 평균 칸 생성\n",
    "    print(\"=\"*50) #구분선 출력\n",
    "    \n",
    "def itemprint(name,kor,eng,mat): # 성적 입력하는 함수\n",
    "    print(name,\"\\t\",kor,\"\\t\",eng,\"\\t\",mat,\"\\t\",kor+eng+mat,\"\\t\",(kor+eng+mat)//3)\n",
    "\n",
    "def tailprint(): #합산 부분 출력\n",
    "    totkor=0 #국어합 지정할 변수 선언\n",
    "    toteng=0 #영어합 지정할 변수 선언\n",
    "    totmat=0 #수학합 지정할 변수 선언\n",
    "    for one_student in score: #성적 배열의 각 과목 값을 더한다\n",
    "        totkor+=one_student[kor]\n",
    "        toteng+=one_student[eng]\n",
    "        totmat+=one_student[mat]\n",
    "    print(\"=\"*50) #구분선 출력\n",
    "    print(\"반총점\\t\",totkor,\"\\t\",toteng,\"\\t\",totmat,\"\\t\"\\\n",
    "        ,(totkor+toteng+totmat),\"\\t\",(totkor+toteng+totmat)/3//100) #이름 성적 총합 평균 출력\n",
    "    print(\"=\"*50) #구분선\n",
    "\n",
    "one_person=[] #리스트 선언(인원의 이름, 성적을 추가)\n",
    "score=[] #리스트 선언(위의 one_person의 성적을 하나하나 리스트에 추가)\n",
    "for i in range(100): #10부터 99까지 1씩 증가하며 입력하는 for문 작성\n",
    "    one_person.append(\"name\"+str(i)) #이름 (0 ~ 99)\n",
    "    one_person.append(r.randrange(10,100)) #국어 10부터100까지임의에값을추출\n",
    "    one_person.append(r.randrange(10,100)) #영어 10부터100까지임의에값을추출\n",
    "    one_person.append(r.randrange(10,100)) #수학 10부터100까지임의에값을추출\n",
    "    score.append(one_person[:]) #값을 복사해서 추가함에 주의할것\n",
    "    one_person.clear() #배열을 비운다.\n",
    "\n",
    "# 리스트에서의 위치 입력\n",
    "name=0; kor=1; eng=2; mat=3\n",
    "\n",
    "#함수 실행\n",
    "titleprint() #상단부 출력\n",
    "for one_student in score: #성적 출력\n",
    "    itemprint(one_student[name],one_student[kor],one_student[eng],one_student[mat])\n",
    "tailprint() #집계부분 출력"
   ]
  },
  {
   "cell_type": "code",
   "execution_count": 44,
   "id": "f4655418",
   "metadata": {},
   "outputs": [
    {
     "data": {
      "text/plain": [
       "(1, 8, 5, 6, 2, 4, 5, 2, 6, 9, 4)"
      ]
     },
     "execution_count": 44,
     "metadata": {},
     "output_type": "execute_result"
    }
   ],
   "source": [
    "a = (1, 8, 5, 6, 2, 4, 5, 2, 6, 9, 4) #튜플 a\n",
    "a"
   ]
  },
  {
   "cell_type": "code",
   "execution_count": 45,
   "id": "18a4dc89",
   "metadata": {},
   "outputs": [
    {
     "data": {
      "text/plain": [
       "4"
      ]
     },
     "execution_count": 45,
     "metadata": {},
     "output_type": "execute_result"
    }
   ],
   "source": [
    "a[5] #튜플에서 5번째 뒤의 값을 확인한다.(4)"
   ]
  },
  {
   "cell_type": "code",
   "execution_count": 46,
   "id": "0f5bd666",
   "metadata": {},
   "outputs": [
    {
     "data": {
      "text/plain": [
       "(6, 2)"
      ]
     },
     "execution_count": 46,
     "metadata": {},
     "output_type": "execute_result"
    }
   ],
   "source": [
    "a[3:5] #3 4 값을 출력한다."
   ]
  },
  {
   "cell_type": "code",
   "execution_count": 47,
   "id": "a07fd145",
   "metadata": {},
   "outputs": [
    {
     "data": {
      "text/plain": [
       "(6, 2, 4, 5, 2)"
      ]
     },
     "execution_count": 47,
     "metadata": {},
     "output_type": "execute_result"
    }
   ],
   "source": [
    "a[3:8] #3 4 5 6 7 을 출력한다"
   ]
  },
  {
   "cell_type": "code",
   "execution_count": 48,
   "id": "141c9f17",
   "metadata": {},
   "outputs": [
    {
     "data": {
      "text/plain": [
       "(1, 8, 5, 6, 2, 4, 5, 2, 6, 9, 4, 1, 8, 5, 6, 2, 4, 5, 2, 6, 9, 4)"
      ]
     },
     "execution_count": 48,
     "metadata": {},
     "output_type": "execute_result"
    }
   ],
   "source": [
    "a*2 #a를 두번 출력한다."
   ]
  },
  {
   "cell_type": "code",
   "execution_count": 49,
   "id": "e3861264",
   "metadata": {},
   "outputs": [
    {
     "data": {
      "text/plain": [
       "(1, 8, 5, 6, 2, 4, 5, 2, 6, 9, 4)"
      ]
     },
     "execution_count": 49,
     "metadata": {},
     "output_type": "execute_result"
    }
   ],
   "source": [
    "a #a를 출력한다."
   ]
  },
  {
   "cell_type": "code",
   "execution_count": 50,
   "id": "7deab228",
   "metadata": {},
   "outputs": [
    {
     "data": {
      "text/plain": [
       "(1, 8, 5, 6, 2, 4, 5, 2, 6, 9, 4, 1, 8, 5, 6, 2, 4, 5, 2, 6, 9, 4)"
      ]
     },
     "execution_count": 50,
     "metadata": {},
     "output_type": "execute_result"
    }
   ],
   "source": [
    "a = (1, 8, 5, 6, 2, 4, 5, 2, 6, 9, 4, 1, 8, 5, 6, 2, 4, 5, 2, 6, 9, 4) #튜플선언\n",
    "a #출력 "
   ]
  },
  {
   "cell_type": "code",
   "execution_count": 51,
   "id": "7b6690e2",
   "metadata": {},
   "outputs": [
    {
     "ename": "TypeError",
     "evalue": "'tuple' object does not support item assignment",
     "output_type": "error",
     "traceback": [
      "\u001b[1;31m---------------------------------------------------------------------------\u001b[0m",
      "\u001b[1;31mTypeError\u001b[0m                                 Traceback (most recent call last)",
      "Input \u001b[1;32mIn [51]\u001b[0m, in \u001b[0;36m<cell line: 1>\u001b[1;34m()\u001b[0m\n\u001b[1;32m----> 1\u001b[0m a[\u001b[38;5;241m1\u001b[39m] \u001b[38;5;241m=\u001b[39m \u001b[38;5;241m5\u001b[39m\n",
      "\u001b[1;31mTypeError\u001b[0m: 'tuple' object does not support item assignment"
     ]
    }
   ],
   "source": [
    "a[1] = 5 #값 변경 불가"
   ]
  },
  {
   "cell_type": "code",
   "execution_count": 52,
   "id": "6304f4b0",
   "metadata": {},
   "outputs": [
    {
     "ename": "TypeError",
     "evalue": "'tuple' object doesn't support item deletion",
     "output_type": "error",
     "traceback": [
      "\u001b[1;31m---------------------------------------------------------------------------\u001b[0m",
      "\u001b[1;31mTypeError\u001b[0m                                 Traceback (most recent call last)",
      "Input \u001b[1;32mIn [52]\u001b[0m, in \u001b[0;36m<cell line: 1>\u001b[1;34m()\u001b[0m\n\u001b[1;32m----> 1\u001b[0m \u001b[38;5;28;01mdel\u001b[39;00m a[\u001b[38;5;241m4\u001b[39m]\n",
      "\u001b[1;31mTypeError\u001b[0m: 'tuple' object doesn't support item deletion"
     ]
    }
   ],
   "source": [
    "del a[4] #변수 지우기 불가"
   ]
  },
  {
   "cell_type": "code",
   "execution_count": 53,
   "id": "b2a82e92",
   "metadata": {},
   "outputs": [
    {
     "ename": "AttributeError",
     "evalue": "'tuple' object has no attribute 'append'",
     "output_type": "error",
     "traceback": [
      "\u001b[1;31m---------------------------------------------------------------------------\u001b[0m",
      "\u001b[1;31mAttributeError\u001b[0m                            Traceback (most recent call last)",
      "Input \u001b[1;32mIn [53]\u001b[0m, in \u001b[0;36m<cell line: 1>\u001b[1;34m()\u001b[0m\n\u001b[1;32m----> 1\u001b[0m \u001b[43ma\u001b[49m\u001b[38;5;241;43m.\u001b[39;49m\u001b[43mappend\u001b[49m(\u001b[38;5;241m10\u001b[39m)\n",
      "\u001b[1;31mAttributeError\u001b[0m: 'tuple' object has no attribute 'append'"
     ]
    }
   ],
   "source": [
    "a.append(10) #추가 불가능"
   ]
  },
  {
   "cell_type": "code",
   "execution_count": 54,
   "id": "d9b23850",
   "metadata": {},
   "outputs": [
    {
     "name": "stdout",
     "output_type": "stream",
     "text": [
      "((2, 17403), (41, 40338))\n"
     ]
    }
   ],
   "source": [
    "def location(): #위치 출력하는 함수 선언\n",
    "    latitude = 2, 17403 # 위도 입력\n",
    "    longitude=41,40338 #경도 입력\n",
    "    return latitude,longitude  #이런 방식의 리턴은 튜플로 반환\n",
    "\n",
    "a=location() #함수의 리턴값 입력\n",
    "print(a) #a 출력"
   ]
  },
  {
   "cell_type": "code",
   "execution_count": null,
   "id": "ebb90d45",
   "metadata": {},
   "outputs": [],
   "source": []
  }
 ],
 "metadata": {
  "kernelspec": {
   "display_name": "Python 3 (ipykernel)",
   "language": "python",
   "name": "python3"
  },
  "language_info": {
   "codemirror_mode": {
    "name": "ipython",
    "version": 3
   },
   "file_extension": ".py",
   "mimetype": "text/x-python",
   "name": "python",
   "nbconvert_exporter": "python",
   "pygments_lexer": "ipython3",
   "version": "3.8.8rc1"
  }
 },
 "nbformat": 4,
 "nbformat_minor": 5
}
