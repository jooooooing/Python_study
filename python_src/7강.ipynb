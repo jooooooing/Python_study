{
 "cells": [
  {
   "cell_type": "code",
   "execution_count": 1,
   "id": "d686967d",
   "metadata": {},
   "outputs": [
    {
     "name": "stdout",
     "output_type": "stream",
     "text": [
      "별10개 찍기\n",
      "**********\n",
      "\n",
      "별3개 찍기\n",
      "***\n",
      "\n",
      "별5개 찍기\n",
      "*****\n",
      "\n"
     ]
    }
   ],
   "source": [
    "def starprint(n): #startprint라는 함수 정의\n",
    "    for i in range(n): #for 반복 i는 n만큼\n",
    "        print(\"*\",end=\"\") #* 출력\n",
    "    print(\"\\n\") #개행\n",
    "\n",
    "print(\"별10개 찍기\");starprint(10)\n",
    "print(\"별3개 찍기\");starprint(3)\n",
    "print(\"별5개 찍기\");starprint(5)"
   ]
  },
  {
   "cell_type": "code",
   "execution_count": 2,
   "id": "f1f6b23e",
   "metadata": {},
   "outputs": [
    {
     "name": "stdout",
     "output_type": "stream",
     "text": [
      "1~10까지의 합: 55\n",
      "1~1000까지의 합: 500500\n",
      "1~10000까지의 합: 50005000\n"
     ]
    }
   ],
   "source": [
    "def intsum(n): #intsum라는 함수 정의\n",
    "    sum=0; #sum 변수 정의 및 초기화\n",
    "    for i in range(1,n+1,1): #for 반복 i는 n+1까지 1씩 증가\n",
    "        sum+=i #sum 누적 합 i\n",
    "    return sum #sum retrun\n",
    "print(\"1~10까지의 합:\",intsum(10))\n",
    "print(\"1~1000까지의 합:\",intsum(1000))\n",
    "print(\"1~10000까지의 합:\",intsum(10000))"
   ]
  },
  {
   "cell_type": "code",
   "execution_count": 3,
   "id": "bae496ad",
   "metadata": {},
   "outputs": [
    {
     "name": "stdout",
     "output_type": "stream",
     "text": [
      "1~10까지의 합: 55\n",
      "100~1000까지의 합: 495550\n",
      "5000~10000까지의 합: 37507500\n"
     ]
    }
   ],
   "source": [
    "def intsum(x,y): #intsum라는 함수 정의 변수는 x, y\n",
    "    sum=0; #sum 변수 정의 및 초기화\n",
    "    for i in range(x,y+1,1):\n",
    "        sum+=i\n",
    "    return sum\n",
    "print(\"1~10까지의 합:\",intsum(1,10))\n",
    "print(\"100~1000까지의 합:\",intsum(100,1000))\n",
    "print(\"5000~10000까지의 합:\",intsum(5000,10000))"
   ]
  },
  {
   "cell_type": "code",
   "execution_count": null,
   "id": "7ddb29e5",
   "metadata": {},
   "outputs": [],
   "source": []
  }
 ],
 "metadata": {
  "kernelspec": {
   "display_name": "Python 3 (ipykernel)",
   "language": "python",
   "name": "python3"
  },
  "language_info": {
   "codemirror_mode": {
    "name": "ipython",
    "version": 3
   },
   "file_extension": ".py",
   "mimetype": "text/x-python",
   "name": "python",
   "nbconvert_exporter": "python",
   "pygments_lexer": "ipython3",
   "version": "3.8.8rc1"
  }
 },
 "nbformat": 4,
 "nbformat_minor": 5
}
