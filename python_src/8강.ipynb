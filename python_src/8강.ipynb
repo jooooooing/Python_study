{
 "cells": [
  {
   "cell_type": "code",
   "execution_count": 6,
   "id": "23721695",
   "metadata": {
    "scrolled": true
   },
   "outputs": [
    {
     "data": {
      "text/plain": [
       "(1, 2, 3, 4, 5)"
      ]
     },
     "execution_count": 6,
     "metadata": {},
     "output_type": "execute_result"
    }
   ],
   "source": [
    "a = [1, 2, 3, 4, 5] #리스트 작성\n",
    "a[0], a[1], a[2], a[3], a[4] #리스트의 0 1 2 3 4번째 값 출력"
   ]
  },
  {
   "cell_type": "code",
   "execution_count": 10,
   "id": "9bcec17e",
   "metadata": {
    "scrolled": false
   },
   "outputs": [
    {
     "data": {
      "text/plain": [
       "(11, 'abc', 12.3333, '안녕', (2+3j))"
      ]
     },
     "execution_count": 10,
     "metadata": {},
     "output_type": "execute_result"
    }
   ],
   "source": [
    "a = [11, \"abc\", 12.3333, \"안녕\", 2+3j] #리스트엔 다양한 자료형을 받을 수 있다.\n",
    "a[0], a[1], a[2], a[3], a[4] #리스트의 0 1 2 3 4번째 값 출력"
   ]
  },
  {
   "cell_type": "code",
   "execution_count": 11,
   "id": "3908fa2a",
   "metadata": {},
   "outputs": [
    {
     "data": {
      "text/plain": [
       "[11, 1234, 12.3333, '안녕', '이주현']"
      ]
     },
     "execution_count": 11,
     "metadata": {},
     "output_type": "execute_result"
    }
   ],
   "source": [
    "a[1] = 1234; a[4] = \"이주현\" #리스트의 값도 바꿀 수 있다.\n",
    "a"
   ]
  },
  {
   "cell_type": "code",
   "execution_count": 9,
   "id": "f8594738",
   "metadata": {
    "scrolled": true
   },
   "outputs": [
    {
     "name": "stdout",
     "output_type": "stream",
     "text": [
      "점수( 90 )\n",
      "점수( 80 )\n",
      "점수( 70 )\n",
      "점수( 60 )\n",
      "점수( 30 )\n",
      "총점: 330\n"
     ]
    }
   ],
   "source": [
    "score = [90, 80, 70, 60, 30] #점수를 리스트에 입력\n",
    "sum = 0 #합을 구할 변수 선언\n",
    "for s in score: #s에 score 리스트의 값을 순서대로 입력\n",
    "    print(\"점수(\",s,\")\") # 받아온 값을 포멧에 맞게 출력한다.\n",
    "    sum+=s #점수를 누적한다.\n",
    "print(\"총점:\",sum); #합계를 출력한다."
   ]
  },
  {
   "cell_type": "code",
   "execution_count": 12,
   "id": "1ecf6485",
   "metadata": {},
   "outputs": [
    {
     "data": {
      "text/plain": [
       "(1, 1)"
      ]
     },
     "execution_count": 12,
     "metadata": {},
     "output_type": "execute_result"
    }
   ],
   "source": [
    "a=[1,2,3,4,5] #리스트 선언\n",
    "a[0], a[-5] #0번째 값(1) -5번째값(1) 출력"
   ]
  },
  {
   "cell_type": "code",
   "execution_count": 13,
   "id": "0d7e7abb",
   "metadata": {},
   "outputs": [
    {
     "data": {
      "text/plain": [
       "(2, 2)"
      ]
     },
     "execution_count": 13,
     "metadata": {},
     "output_type": "execute_result"
    }
   ],
   "source": [
    "a[1],a[-4] #1번째 값(2) -4번째값(2) 출력"
   ]
  },
  {
   "cell_type": "code",
   "execution_count": 14,
   "id": "f79b83f6",
   "metadata": {},
   "outputs": [
    {
     "data": {
      "text/plain": [
       "(3, 3)"
      ]
     },
     "execution_count": 14,
     "metadata": {},
     "output_type": "execute_result"
    }
   ],
   "source": [
    "a[2],a[-3] #2번째 값(3) -3번째값(3) 출력"
   ]
  },
  {
   "cell_type": "code",
   "execution_count": 15,
   "id": "bb8d60ad",
   "metadata": {},
   "outputs": [
    {
     "data": {
      "text/plain": [
       "(4, 4)"
      ]
     },
     "execution_count": 15,
     "metadata": {},
     "output_type": "execute_result"
    }
   ],
   "source": [
    "a[3],a[-2] #3번째 값(4) -2번째값(4) 출력"
   ]
  },
  {
   "cell_type": "code",
   "execution_count": 16,
   "id": "4a95c5d3",
   "metadata": {},
   "outputs": [
    {
     "data": {
      "text/plain": [
       "(5, 5)"
      ]
     },
     "execution_count": 16,
     "metadata": {},
     "output_type": "execute_result"
    }
   ],
   "source": [
    "a[4],a[-1] #4번째 값(5) -1번째값(5) 출력"
   ]
  },
  {
   "cell_type": "code",
   "execution_count": 30,
   "id": "303c4c1f",
   "metadata": {},
   "outputs": [
    {
     "data": {
      "text/plain": [
       "[3, 4, 5, 6, 7, 8]"
      ]
     },
     "execution_count": 30,
     "metadata": {},
     "output_type": "execute_result"
    }
   ],
   "source": [
    "a=[1,2,3,4,5,6,7,8,9,10] #리스트 선언\n",
    "a[2:8] # 2번째부터 7번째까지 출력"
   ]
  },
  {
   "cell_type": "code",
   "execution_count": 31,
   "id": "6c320523",
   "metadata": {},
   "outputs": [
    {
     "data": {
      "text/plain": [
       "[1, 2, 3, 4]"
      ]
     },
     "execution_count": 31,
     "metadata": {},
     "output_type": "execute_result"
    }
   ],
   "source": [
    "a[:4] #0번째부터 3번째까지 출력"
   ]
  },
  {
   "cell_type": "code",
   "execution_count": 32,
   "id": "cc65f6fe",
   "metadata": {},
   "outputs": [
    {
     "data": {
      "text/plain": [
       "[6, 7, 8, 9, 10]"
      ]
     },
     "execution_count": 32,
     "metadata": {},
     "output_type": "execute_result"
    }
   ],
   "source": [
    "a[5:] #5번째부터 끝까지"
   ]
  },
  {
   "cell_type": "code",
   "execution_count": 34,
   "id": "1fb64993",
   "metadata": {},
   "outputs": [
    {
     "data": {
      "text/plain": [
       "[1, 4]"
      ]
     },
     "execution_count": 34,
     "metadata": {},
     "output_type": "execute_result"
    }
   ],
   "source": [
    "a[0:6:3] #0부터 6보다 작을때까지 (6은 제외 0,3) 3씩 증가"
   ]
  },
  {
   "cell_type": "code",
   "execution_count": 36,
   "id": "cd621e43",
   "metadata": {},
   "outputs": [
    {
     "data": {
      "text/plain": [
       "[7, 8, 9]"
      ]
     },
     "execution_count": 36,
     "metadata": {},
     "output_type": "execute_result"
    }
   ],
   "source": [
    "a=[[1,2,3],[4,5,6],[7,8,9]] #2차 배열 (배열 속 배열)\n",
    "a[2] #3번째 배열 출력"
   ]
  },
  {
   "cell_type": "code",
   "execution_count": 37,
   "id": "a8f0da09",
   "metadata": {},
   "outputs": [
    {
     "data": {
      "text/plain": [
       "9"
      ]
     },
     "execution_count": 37,
     "metadata": {},
     "output_type": "execute_result"
    }
   ],
   "source": [
    "a[2][2] #3번쨰 배열의 3번째 값 출력(9)"
   ]
  },
  {
   "cell_type": "code",
   "execution_count": 38,
   "id": "030e945b",
   "metadata": {},
   "outputs": [
    {
     "ename": "IndexError",
     "evalue": "list index out of range",
     "output_type": "error",
     "traceback": [
      "\u001b[1;31m---------------------------------------------------------------------------\u001b[0m",
      "\u001b[1;31mIndexError\u001b[0m                                Traceback (most recent call last)",
      "Input \u001b[1;32mIn [38]\u001b[0m, in \u001b[0;36m<cell line: 1>\u001b[1;34m()\u001b[0m\n\u001b[1;32m----> 1\u001b[0m \u001b[43ma\u001b[49m\u001b[43m[\u001b[49m\u001b[38;5;241;43m1\u001b[39;49m\u001b[43m]\u001b[49m\u001b[43m[\u001b[49m\u001b[38;5;241;43m3\u001b[39;49m\u001b[43m]\u001b[49m\n",
      "\u001b[1;31mIndexError\u001b[0m: list index out of range"
     ]
    }
   ],
   "source": [
    "a[1][3] #2번째 배열의 4번째 값 출력 (없으니 오류)"
   ]
  },
  {
   "cell_type": "code",
   "execution_count": 39,
   "id": "9e53dea2",
   "metadata": {},
   "outputs": [
    {
     "data": {
      "text/plain": [
       "6"
      ]
     },
     "execution_count": 39,
     "metadata": {},
     "output_type": "execute_result"
    }
   ],
   "source": [
    "a[1][2] #2번째 배열의 3번째 값 출력"
   ]
  },
  {
   "cell_type": "code",
   "execution_count": 40,
   "id": "dc0fe14c",
   "metadata": {},
   "outputs": [],
   "source": [
    "a=[[1,2],[3,4,5],6] # 가변 형태의 리스트"
   ]
  },
  {
   "cell_type": "code",
   "execution_count": 41,
   "id": "d8820b17",
   "metadata": {},
   "outputs": [
    {
     "data": {
      "text/plain": [
       "[[1, 2], [3, 4, 5], 6]"
      ]
     },
     "execution_count": 41,
     "metadata": {},
     "output_type": "execute_result"
    }
   ],
   "source": [
    "a #a를 출력한다"
   ]
  },
  {
   "cell_type": "code",
   "execution_count": 42,
   "id": "e98ad8e5",
   "metadata": {},
   "outputs": [
    {
     "data": {
      "text/plain": [
       "6"
      ]
     },
     "execution_count": 42,
     "metadata": {},
     "output_type": "execute_result"
    }
   ],
   "source": [
    "a[2] #a의 3번째 값 출력(6)"
   ]
  },
  {
   "cell_type": "code",
   "execution_count": 43,
   "id": "9268fc17",
   "metadata": {},
   "outputs": [
    {
     "data": {
      "text/plain": [
       "[3, 4, 5]"
      ]
     },
     "execution_count": 43,
     "metadata": {},
     "output_type": "execute_result"
    }
   ],
   "source": [
    "a[1] #a의 2번째 값(배열) 출력"
   ]
  },
  {
   "cell_type": "code",
   "execution_count": 44,
   "id": "5bb7e0a0",
   "metadata": {},
   "outputs": [
    {
     "data": {
      "text/plain": [
       "[3, 6, 9, 12, 15, 18, 21, 24, 27]"
      ]
     },
     "execution_count": 44,
     "metadata": {},
     "output_type": "execute_result"
    }
   ],
   "source": [
    "a=[ n * 3 for n in range (1,10)] #a에 n에 대하여 1부터 9까지 입력하며 모든 값에 3을 곱한다\n",
    "a #a 출력"
   ]
  },
  {
   "cell_type": "code",
   "execution_count": 45,
   "id": "3c49585e",
   "metadata": {},
   "outputs": [
    {
     "data": {
      "text/plain": [
       "[6, 12, 18, 24]"
      ]
     },
     "execution_count": 45,
     "metadata": {},
     "output_type": "execute_result"
    }
   ],
   "source": [
    "a=[ n * 3 for n in range (1,10) if n % 2 ==0 ] #n에 1부터 9까지 짝수만 입력하고 그 값에 3을 곱하여 리스트\n",
    "a #출력"
   ]
  },
  {
   "cell_type": "code",
   "execution_count": 46,
   "id": "21197281",
   "metadata": {},
   "outputs": [
    {
     "name": "stdout",
     "output_type": "stream",
     "text": [
      "==================================================\n",
      "이름\t국어\t영어\t수학\t총점\t평균\n",
      "==================================================\n",
      "나연 \t 100 \t 90 \t 100 \t 290 \t 96\n",
      "정연 \t 90 \t 90 \t 100 \t 280 \t 93\n",
      "모모 \t 80 \t 70 \t 90 \t 240 \t 80\n",
      "사나 \t 90 \t 90 \t 80 \t 260 \t 86\n",
      "지효 \t 100 \t 80 \t 80 \t 260 \t 86\n",
      "미나 \t 50 \t 90 \t 90 \t 230 \t 76\n",
      "다현 \t 80 \t 60 \t 100 \t 240 \t 80\n",
      "채영 \t 70 \t 80 \t 90 \t 240 \t 80\n",
      "쯔위 \t 100 \t 90 \t 90 \t 280 \t 93\n",
      "==================================================\n",
      "반총점\t 760 \t 740 \t 820 \t 2320 \t 85.0\n",
      "==================================================\n"
     ]
    }
   ],
   "source": [
    "def titleprint(): # 상단 부분 출력 구간\n",
    "    print(\"=\"*50) #구분선 출력\n",
    "    print(\"이름\\t국어\\t영어\\t수학\\t총점\\t평균\") #이름 및 과목 총점 평균 칸 생성\n",
    "    print(\"=\"*50) #구분선 출력\n",
    "    \n",
    "def itemprint(name,kor,eng,mat): # 성적 입력하는 함수\n",
    "    print(name,\"\\t\",kor,\"\\t\",eng,\"\\t\",mat,\"\\t\",kor+eng+mat,\"\\t\",(kor+eng+mat)//3)\n",
    "\n",
    "def tailprint(): #합산 부분 출력\n",
    "    totkor=0 #국어합 지정할 변수 선언\n",
    "    toteng=0 #영어합 지정할 변수 선언\n",
    "    totmat=0 #수학합 지정할 변수 선언\n",
    "    for one_student in score: #성적 배열의 각 과목 값을 더한다\n",
    "        totkor+=one_student[kor]\n",
    "        toteng+=one_student[eng]\n",
    "        totmat+=one_student[mat]\n",
    "    print(\"=\"*50) #구분선 출력\n",
    "    print(\"반총점\\t\",totkor,\"\\t\",toteng,\"\\t\",totmat,\"\\t\"\\\n",
    "        ,(totkor+toteng+totmat),\"\\t\",(totkor+toteng+totmat)/3//9) #이름 성적 총합 평균 출력\n",
    "    print(\"=\"*50) #구분선\n",
    "\n",
    "#데이터 입력, 2차원 배열 사용\n",
    "score=[[\"나연\",100,90,100],\n",
    "    [\"정연\",90,90,100],\n",
    "    [\"모모\",80,70,90],\n",
    "    [\"사나\",90,90,80],\n",
    "    [\"지효\",100,80,80],\n",
    "    [\"미나\",50,90,90],\n",
    "    [\"다현\",80,60,100],\n",
    "    [\"채영\",70,80,90],\n",
    "    [\"쯔위\",100,90,90]]\n",
    "\n",
    "#상수 정의, 배열에서의 성적 위치\n",
    "name=0;kor=1;eng=2;mat=3\n",
    "\n",
    "#프로그램 부분\n",
    "titleprint() #제목을 출력하는 함수 실행\n",
    "for one_student in score: #리스트의 값을 넣어가며 성적 출력\n",
    "    itemprint(one_student[name],one_student[kor],one_student[eng],one_student[mat])\n",
    "tailprint() #합계 부분 출력"
   ]
  },
  {
   "cell_type": "code",
   "execution_count": 47,
   "id": "7b7d94cb",
   "metadata": {},
   "outputs": [
    {
     "data": {
      "text/plain": [
       "[1, 2, 3, 4, 5]"
      ]
     },
     "execution_count": 47,
     "metadata": {},
     "output_type": "execute_result"
    }
   ],
   "source": [
    "a=[1,2,3,4,5] #리스트 선언\n",
    "a #리스트 출력"
   ]
  },
  {
   "cell_type": "code",
   "execution_count": 48,
   "id": "031fc187",
   "metadata": {},
   "outputs": [
    {
     "data": {
      "text/plain": [
       "[1, 2, 4, 5]"
      ]
     },
     "execution_count": 48,
     "metadata": {},
     "output_type": "execute_result"
    }
   ],
   "source": [
    "del a[2] #3번째 값 삭제\n",
    "a #a출력"
   ]
  },
  {
   "cell_type": "code",
   "execution_count": 49,
   "id": "a5fd05c7",
   "metadata": {},
   "outputs": [
    {
     "data": {
      "text/plain": [
       "[1, 2, 5]"
      ]
     },
     "execution_count": 49,
     "metadata": {},
     "output_type": "execute_result"
    }
   ],
   "source": [
    "del a[2] #3번째 값 삭제\n",
    "a #a출력"
   ]
  },
  {
   "cell_type": "code",
   "execution_count": 50,
   "id": "bf9a1442",
   "metadata": {},
   "outputs": [
    {
     "data": {
      "text/plain": [
       "[]"
      ]
     },
     "execution_count": 50,
     "metadata": {},
     "output_type": "execute_result"
    }
   ],
   "source": [
    "a.clear() #a값 전부 삭제\n",
    "a"
   ]
  },
  {
   "cell_type": "code",
   "execution_count": 51,
   "id": "cc3461f2",
   "metadata": {},
   "outputs": [
    {
     "ename": "NameError",
     "evalue": "name 'a' is not defined",
     "output_type": "error",
     "traceback": [
      "\u001b[1;31m---------------------------------------------------------------------------\u001b[0m",
      "\u001b[1;31mNameError\u001b[0m                                 Traceback (most recent call last)",
      "Input \u001b[1;32mIn [51]\u001b[0m, in \u001b[0;36m<cell line: 2>\u001b[1;34m()\u001b[0m\n\u001b[0;32m      1\u001b[0m \u001b[38;5;28;01mdel\u001b[39;00m a \u001b[38;5;66;03m#a 리스트를 삭제\u001b[39;00m\n\u001b[1;32m----> 2\u001b[0m \u001b[43ma\u001b[49m\n",
      "\u001b[1;31mNameError\u001b[0m: name 'a' is not defined"
     ]
    }
   ],
   "source": [
    "del a #a 리스트를 삭제\n",
    "a"
   ]
  },
  {
   "cell_type": "code",
   "execution_count": 52,
   "id": "9037d555",
   "metadata": {},
   "outputs": [
    {
     "ename": "NameError",
     "evalue": "name 'a' is not defined",
     "output_type": "error",
     "traceback": [
      "\u001b[1;31m---------------------------------------------------------------------------\u001b[0m",
      "\u001b[1;31mNameError\u001b[0m                                 Traceback (most recent call last)",
      "Input \u001b[1;32mIn [52]\u001b[0m, in \u001b[0;36m<cell line: 1>\u001b[1;34m()\u001b[0m\n\u001b[1;32m----> 1\u001b[0m \u001b[38;5;28;01mdel\u001b[39;00m a\n\u001b[0;32m      2\u001b[0m a\u001b[38;5;241m.\u001b[39mappend(\u001b[38;5;241m1\u001b[39m)\n",
      "\u001b[1;31mNameError\u001b[0m: name 'a' is not defined"
     ]
    }
   ],
   "source": [
    "del a\n",
    "a.append(1) #append: 리스트에 값 추가, 리스트가 없으면 추가는 불가능"
   ]
  },
  {
   "cell_type": "code",
   "execution_count": 53,
   "id": "df85586b",
   "metadata": {},
   "outputs": [],
   "source": [
    "a=[] #리스트 선언"
   ]
  },
  {
   "cell_type": "code",
   "execution_count": 54,
   "id": "09575295",
   "metadata": {},
   "outputs": [
    {
     "data": {
      "text/plain": [
       "[1, 3, 5]"
      ]
     },
     "execution_count": 54,
     "metadata": {},
     "output_type": "execute_result"
    }
   ],
   "source": [
    "a.append(1) #1 추가\n",
    "a.append(3) #3 추가\n",
    "a.append(5) #5 추가\n",
    "a # 출력"
   ]
  },
  {
   "cell_type": "code",
   "execution_count": 55,
   "id": "a4385454",
   "metadata": {},
   "outputs": [
    {
     "data": {
      "text/plain": [
       "[4, 5, 6, 10]"
      ]
     },
     "execution_count": 55,
     "metadata": {},
     "output_type": "execute_result"
    }
   ],
   "source": [
    "a=[4,5,6] #a 재정의\n",
    "a.append(10) #a에 10추가\n",
    "a"
   ]
  },
  {
   "cell_type": "code",
   "execution_count": 56,
   "id": "07c2d2b6",
   "metadata": {},
   "outputs": [
    {
     "data": {
      "text/plain": [
       "[1, 2, 3, 4, 5, 6]"
      ]
     },
     "execution_count": 56,
     "metadata": {},
     "output_type": "execute_result"
    }
   ],
   "source": [
    "a=[1,2,3,4,5] #a 리스트 선언\n",
    "a.append(6) #맨뒤에 6추가\n",
    "a #a 출력"
   ]
  },
  {
   "cell_type": "code",
   "execution_count": 57,
   "id": "a4e08de8",
   "metadata": {},
   "outputs": [
    {
     "data": {
      "text/plain": [
       "[1, 2, 3, 12, 4, 5, 6]"
      ]
     },
     "execution_count": 57,
     "metadata": {},
     "output_type": "execute_result"
    }
   ],
   "source": [
    "a.insert(3,12) #a의 4번째 위치에 12 추가\n",
    "a #a 출력"
   ]
  },
  {
   "cell_type": "code",
   "execution_count": 58,
   "id": "c98943eb",
   "metadata": {},
   "outputs": [],
   "source": [
    "a.insert(4,15) #a의 5번째 위치에 15추가"
   ]
  },
  {
   "cell_type": "code",
   "execution_count": 59,
   "id": "5bce6ae6",
   "metadata": {},
   "outputs": [
    {
     "data": {
      "text/plain": [
       "[1, 2, 3, 12, 15, 4, 5, 6]"
      ]
     },
     "execution_count": 59,
     "metadata": {},
     "output_type": "execute_result"
    }
   ],
   "source": [
    "a"
   ]
  },
  {
   "cell_type": "code",
   "execution_count": 60,
   "id": "63e607b9",
   "metadata": {},
   "outputs": [
    {
     "data": {
      "text/plain": [
       "[1, 2, 3, 1, 12, 15, 4, 5, 6]"
      ]
     },
     "execution_count": 60,
     "metadata": {},
     "output_type": "execute_result"
    }
   ],
   "source": [
    "a.insert(3,1) #a의 4번째 위치에 1 추가\n",
    "a"
   ]
  },
  {
   "cell_type": "code",
   "execution_count": 61,
   "id": "2109f7b8",
   "metadata": {},
   "outputs": [
    {
     "data": {
      "text/plain": [
       "[1, 2, 3, 1, 12, 1, 2, 3, 4, 5, 6, 15, 4, 5, 6]"
      ]
     },
     "execution_count": 61,
     "metadata": {},
     "output_type": "execute_result"
    }
   ],
   "source": [
    "a=[1, 2, 3, 1, 12, 15, 4, 5, 6] #리스트 선언\n",
    "a[5:5] = [1, 2, 3, 4, 5, 6] #6번째 위치부터 6번째 위치까지 영역에 해당리스트 값을 입력\n",
    "a"
   ]
  },
  {
   "cell_type": "code",
   "execution_count": 62,
   "id": "a817fd7e",
   "metadata": {},
   "outputs": [],
   "source": [
    "a=[1, 2, 3, 1, 12, 15, 4, 5, 6] # 리스트 선언\n",
    "a[5]=[1,2,3,4,5,6] # 해당 위치에 리스트의 형태로 값 입력"
   ]
  },
  {
   "cell_type": "code",
   "execution_count": 63,
   "id": "d1771587",
   "metadata": {},
   "outputs": [
    {
     "data": {
      "text/plain": [
       "[1, 2, 3, 1, 12, [1, 2, 3, 4, 5, 6], 4, 5, 6]"
      ]
     },
     "execution_count": 63,
     "metadata": {},
     "output_type": "execute_result"
    }
   ],
   "source": [
    "a"
   ]
  },
  {
   "cell_type": "code",
   "execution_count": 64,
   "id": "9e2b7f34",
   "metadata": {},
   "outputs": [
    {
     "data": {
      "text/plain": [
       "[1, 2, 3, 4, 5, 6]"
      ]
     },
     "execution_count": 64,
     "metadata": {},
     "output_type": "execute_result"
    }
   ],
   "source": [
    "a=[1,2,3]; b=[4,5,6] #리스트 a b 선언\n",
    "a=a+b #a에 ab를 병합하여 입력\n",
    "a #a출력"
   ]
  },
  {
   "cell_type": "code",
   "execution_count": 65,
   "id": "bbd38493",
   "metadata": {},
   "outputs": [
    {
     "data": {
      "text/plain": [
       "[1, 2, 3, 4, 5, 6]"
      ]
     },
     "execution_count": 65,
     "metadata": {},
     "output_type": "execute_result"
    }
   ],
   "source": [
    "a=[1,2,3]; b=[4,5,6] #리스트 a b 선언\n",
    "a.extend(b) #a뒤에 b 병합\n",
    "a #a 출력"
   ]
  },
  {
   "cell_type": "code",
   "execution_count": 75,
   "id": "557408cc",
   "metadata": {},
   "outputs": [
    {
     "data": {
      "text/plain": [
       "[1, 2, 3, 3, 4, 4, 5, 6, 7, 7, 7, 7, 8]"
      ]
     },
     "execution_count": 75,
     "metadata": {},
     "output_type": "execute_result"
    }
   ],
   "source": [
    "a=[1,2,3,3,4,4,5,6,7,7,7,7,8] # 리스트 선언\n",
    "a #출력"
   ]
  },
  {
   "cell_type": "code",
   "execution_count": 76,
   "id": "3894e656",
   "metadata": {},
   "outputs": [
    {
     "data": {
      "text/plain": [
       "[1, 2, 3, 3, 4, 4, 5, 6, 7, 7, 7, 8]"
      ]
     },
     "execution_count": 76,
     "metadata": {},
     "output_type": "execute_result"
    }
   ],
   "source": [
    "a.remove(7) #8번째 위치에 있는 값 삭제\n",
    "a #a 출력"
   ]
  },
  {
   "cell_type": "code",
   "execution_count": 78,
   "id": "ea0ebc8a",
   "metadata": {},
   "outputs": [
    {
     "data": {
      "text/plain": [
       "[1, 2, 3, 3, 4, [], 5, 6, 7, 7, 8]"
      ]
     },
     "execution_count": 78,
     "metadata": {},
     "output_type": "execute_result"
    }
   ],
   "source": [
    "a.remove(7) #8번째 위치에 있는 값 삭제\n",
    "a #a 출력"
   ]
  },
  {
   "cell_type": "code",
   "execution_count": 79,
   "id": "b9c815be",
   "metadata": {},
   "outputs": [
    {
     "data": {
      "text/plain": [
       "[1, 2, 3, 3, 4, [], 5, 6, 7, 7, 8]"
      ]
     },
     "execution_count": 79,
     "metadata": {},
     "output_type": "execute_result"
    }
   ],
   "source": [
    "a[5] = [] #5번째 위치 뒤에 빈 배열 추가\n",
    "a #출력"
   ]
  },
  {
   "cell_type": "code",
   "execution_count": 80,
   "id": "970363a1",
   "metadata": {},
   "outputs": [
    {
     "data": {
      "text/plain": [
       "[1, 2, 3, 3, [], 5, 6, 7, 7, 8]"
      ]
     },
     "execution_count": 80,
     "metadata": {},
     "output_type": "execute_result"
    }
   ],
   "source": [
    "del(a[4]) #4번째 위치의 뒤에 값 삭제\n",
    "a #출력"
   ]
  },
  {
   "cell_type": "code",
   "execution_count": 81,
   "id": "ecc4067e",
   "metadata": {},
   "outputs": [
    {
     "data": {
      "text/plain": [
       "[1, 2, 3, [], 5, 6, 7, 7, 8]"
      ]
     },
     "execution_count": 81,
     "metadata": {},
     "output_type": "execute_result"
    }
   ],
   "source": [
    "del(a[3]) #3번째 위치의 뒤에 값 삭제\n",
    "a #출력"
   ]
  },
  {
   "cell_type": "code",
   "execution_count": 82,
   "id": "6766d069",
   "metadata": {
    "scrolled": true
   },
   "outputs": [
    {
     "data": {
      "text/plain": [
       "[]"
      ]
     },
     "execution_count": 82,
     "metadata": {},
     "output_type": "execute_result"
    }
   ],
   "source": [
    "a.clear() #리스트 안의 모든 값 삭제\n",
    "a #출력, 리스트는 남아있다"
   ]
  },
  {
   "cell_type": "code",
   "execution_count": 83,
   "id": "66774df1",
   "metadata": {},
   "outputs": [
    {
     "ename": "NameError",
     "evalue": "name 'a' is not defined",
     "output_type": "error",
     "traceback": [
      "\u001b[1;31m---------------------------------------------------------------------------\u001b[0m",
      "\u001b[1;31mNameError\u001b[0m                                 Traceback (most recent call last)",
      "Input \u001b[1;32mIn [83]\u001b[0m, in \u001b[0;36m<cell line: 2>\u001b[1;34m()\u001b[0m\n\u001b[0;32m      1\u001b[0m \u001b[38;5;28;01mdel\u001b[39;00m(a) \u001b[38;5;66;03m#리스트 정의까지 삭제\u001b[39;00m\n\u001b[1;32m----> 2\u001b[0m \u001b[43ma\u001b[49m\n",
      "\u001b[1;31mNameError\u001b[0m: name 'a' is not defined"
     ]
    }
   ],
   "source": [
    "del(a) #리스트 정의까지 삭제\n",
    "a #출력, 에러가 뜬다"
   ]
  },
  {
   "cell_type": "code",
   "execution_count": null,
   "id": "7d3835b9",
   "metadata": {},
   "outputs": [],
   "source": []
  }
 ],
 "metadata": {
  "kernelspec": {
   "display_name": "Python 3 (ipykernel)",
   "language": "python",
   "name": "python3"
  },
  "language_info": {
   "codemirror_mode": {
    "name": "ipython",
    "version": 3
   },
   "file_extension": ".py",
   "mimetype": "text/x-python",
   "name": "python",
   "nbconvert_exporter": "python",
   "pygments_lexer": "ipython3",
   "version": "3.8.8rc1"
  }
 },
 "nbformat": 4,
 "nbformat_minor": 5
}
