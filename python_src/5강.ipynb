{
 "cells": [
  {
   "cell_type": "code",
   "execution_count": 3,
   "id": "b9aab8b3",
   "metadata": {},
   "outputs": [
    {
     "name": "stdout",
     "output_type": "stream",
     "text": [
      "이름이 뭐니?이주현\n",
      "주인님 어서오십시요\n"
     ]
    }
   ],
   "source": [
    "name = input(\"이름이 뭐니?\") #name input입력 활용\n",
    "if name == \"이주현\" : #조건문 if name이 이주현이라면\n",
    "    print(\"주인님 어서오십시요\") #출력"
   ]
  },
  {
   "cell_type": "code",
   "execution_count": 4,
   "id": "7df8d8b4",
   "metadata": {},
   "outputs": [
    {
     "name": "stdout",
     "output_type": "stream",
     "text": [
      "이름이 뭐니?...\n"
     ]
    }
   ],
   "source": [
    "name = input(\"이름이 뭐니?\") #name input입력 활용\n",
    "if name == \"이주현\" : #조건문 if name이 이주현이라면\n",
    "    print(\"주인님 어서오십시요\") #출력"
   ]
  },
  {
   "cell_type": "code",
   "execution_count": 13,
   "id": "59007fe0",
   "metadata": {},
   "outputs": [
    {
     "name": "stdout",
     "output_type": "stream",
     "text": [
      "성별이 어떻게 되나요?여자\n",
      "립스틱색이 예쁘네요.\n"
     ]
    }
   ],
   "source": [
    "name = input(\"성별이 어떻게 되나요?\") #name input입력 활용\n",
    "if name == \"남자\" : #조건문 if 남자라면\n",
    "    print(\"넥타이가 멋있습니다.\") #출력\n",
    "else: #그렇지 않으면\n",
    "    print(\"립스틱색이 예쁘네요.\") #출력"
   ]
  },
  {
   "cell_type": "code",
   "execution_count": 7,
   "id": "4b98ba24",
   "metadata": {},
   "outputs": [
    {
     "name": "stdout",
     "output_type": "stream",
     "text": [
      "얼마를 구매하셨나요?1000\n",
      "면세입니다.\n"
     ]
    }
   ],
   "source": [
    "price = int(input(\"얼마를 구매하셨나요?\")) #price input입력 활용\n",
    "if price < 10000 : #조건문 price가 10000 미만이라면\n",
    "    print(\"면세입니다.\") #출력\n",
    "else: #그렇지 않으면\n",
    "    print(\"세금은 10%입니다.\") #출력"
   ]
  },
  {
   "cell_type": "code",
   "execution_count": 12,
   "id": "3188124f",
   "metadata": {},
   "outputs": [
    {
     "name": "stdout",
     "output_type": "stream",
     "text": [
      "얼마를 구매하셨나요?100000\n",
      "세금은 10%입니다.\n"
     ]
    }
   ],
   "source": [
    "price = int(input(\"얼마를 구매하셨나요?\")) #price input입력 활용\n",
    "if price < 10000 : #조건문 price가 10000 미만이라면\n",
    "    print(\"면세입니다.\") #출력\n",
    "else: #그렇지 않으면\n",
    "    print(\"세금은 10%입니다.\") #출력"
   ]
  },
  {
   "cell_type": "code",
   "execution_count": 11,
   "id": "1bd28032",
   "metadata": {},
   "outputs": [
    {
     "name": "stdout",
     "output_type": "stream",
     "text": [
      "얼마를 구매하셨나요?100원\n"
     ]
    },
    {
     "ename": "ValueError",
     "evalue": "invalid literal for int() with base 10: '100원'",
     "output_type": "error",
     "traceback": [
      "\u001b[1;31m---------------------------------------------------------------------------\u001b[0m",
      "\u001b[1;31mValueError\u001b[0m                                Traceback (most recent call last)",
      "Input \u001b[1;32mIn [11]\u001b[0m, in \u001b[0;36m<cell line: 1>\u001b[1;34m()\u001b[0m\n\u001b[1;32m----> 1\u001b[0m price \u001b[38;5;241m=\u001b[39m \u001b[38;5;28;43mint\u001b[39;49m\u001b[43m(\u001b[49m\u001b[38;5;28;43minput\u001b[39;49m\u001b[43m(\u001b[49m\u001b[38;5;124;43m\"\u001b[39;49m\u001b[38;5;124;43m얼마를 구매하셨나요?\u001b[39;49m\u001b[38;5;124;43m\"\u001b[39;49m\u001b[43m)\u001b[49m\u001b[43m)\u001b[49m \u001b[38;5;66;03m#price input입력 활용\u001b[39;00m\n\u001b[0;32m      2\u001b[0m \u001b[38;5;28;01mif\u001b[39;00m price \u001b[38;5;241m<\u001b[39m \u001b[38;5;241m10000\u001b[39m : \u001b[38;5;66;03m#조건문 price가 10000 미만이라면\u001b[39;00m\n\u001b[0;32m      3\u001b[0m     \u001b[38;5;28mprint\u001b[39m(\u001b[38;5;124m\"\u001b[39m\u001b[38;5;124m면세입니다.\u001b[39m\u001b[38;5;124m\"\u001b[39m) \u001b[38;5;66;03m#출력\u001b[39;00m\n",
      "\u001b[1;31mValueError\u001b[0m: invalid literal for int() with base 10: '100원'"
     ]
    }
   ],
   "source": [
    "price = int(input(\"얼마를 구매하셨나요?\")) #price input입력 활용\n",
    "if price < 10000 : #조건문 price가 10000 미만이라면\n",
    "    print(\"면세입니다.\") #출력\n",
    "else: #그렇지 않으면\n",
    "    print(\"세금은 10%입니다.\") #출력"
   ]
  },
  {
   "cell_type": "code",
   "execution_count": 15,
   "id": "5c5e107d",
   "metadata": {},
   "outputs": [
    {
     "name": "stdout",
     "output_type": "stream",
     "text": [
      "a는 100입니다\n"
     ]
    }
   ],
   "source": [
    "a = 100 #a 변수 선언 및 초기화\n",
    "if (a==99): print(\"a는 99입니다\") #a가 99라면 출력~\n",
    "if (a==100): print(\"a는 100입니다\") #a가 100이라면 출력~\n"
   ]
  },
  {
   "cell_type": "code",
   "execution_count": 16,
   "id": "3829ab19",
   "metadata": {},
   "outputs": [
    {
     "name": "stdout",
     "output_type": "stream",
     "text": [
      "a는 100이상입니다\n"
     ]
    }
   ],
   "source": [
    "if (a>=100): print(\"a는 100이상입니다\") #a가 100 이상이라면 출력~\n",
    "if (a<100): print(\"a는 100미만입니다\") #a가 100 미만이라면 출력~"
   ]
  },
  {
   "cell_type": "code",
   "execution_count": 17,
   "id": "89765325",
   "metadata": {},
   "outputs": [
    {
     "name": "stdout",
     "output_type": "stream",
     "text": [
      "abc이다\n"
     ]
    }
   ],
   "source": [
    "a=\"abc\"  #a 변수 선언 및 초기화\n",
    "if(a == \"abc\"): print(\"abc이다\") #a가 \"abc\"라면 출력~"
   ]
  },
  {
   "cell_type": "code",
   "execution_count": 20,
   "id": "cf7a1347",
   "metadata": {},
   "outputs": [
    {
     "name": "stdout",
     "output_type": "stream",
     "text": [
      "abc보다 큰문자이다\n"
     ]
    }
   ],
   "source": [
    "a=\"abc\" #a 변수 선언 및 초기화\n",
    "if(a > \"abc\"): print(\"abc보다 큰문자이다\") #a가 \"abc\"보다 크면 출력~\n",
    "\n",
    "a=\"abd\" #a 변수 선언 및 초기화\n",
    "if(a > \"abc\"): print(\"abc보다 큰문자이다\") #a가 \"abc\"보다 크면 출력~\n",
    "    "
   ]
  },
  {
   "cell_type": "code",
   "execution_count": 22,
   "id": "27d1e85e",
   "metadata": {},
   "outputs": [],
   "source": [
    "a = \"abb\" #a 변수 선언 및 초기화\n",
    "if(a > \"abc\"): print(\"abc보다 큰문자이다\") #a가 \"abc\"보다 크면 출력~"
   ]
  },
  {
   "cell_type": "code",
   "execution_count": 23,
   "id": "fe052338",
   "metadata": {},
   "outputs": [
    {
     "name": "stdout",
     "output_type": "stream",
     "text": [
      "점수를 입력하셔요?88\n",
      "학점은 B입니다.\n"
     ]
    }
   ],
   "source": [
    "x = int(input(\"점수를 입력하셔요?\")) #x 변수 선언 및 input 사용(정수형)\n",
    "if 0 <= x and x < 60 : print(\"학점은 F입니다.\") # 0 < x < 60이면 F\n",
    "if 60 <= x and x < 70 : print(\"학점은 D입니다.\") # 60 < x < 70이면 D\n",
    "if 70 <= x and x < 80 : print(\"학점은 C입니다.\") # 70 < x < 80이면 C\n",
    "if 80 <= x and x < 90 : print(\"학점은 B입니다.\") # 80 < x < 90이면 B\n",
    "if 90 <= x and x <= 100 : print(\"학점은 A입니다.\") # 90 < x < 100이면 A "
   ]
  },
  {
   "cell_type": "code",
   "execution_count": 1,
   "id": "80427842",
   "metadata": {},
   "outputs": [
    {
     "name": "stdout",
     "output_type": "stream",
     "text": [
      "영문 알파벳 한글자를 입력하셔요?a\n",
      "소문자 입니다.\n"
     ]
    }
   ],
   "source": [
    "x = input(\"영문 알파벳 한글자를 입력하셔요?\") #x 변수 선언 및 input 사용\n",
    "if \"a\" <= x and x <= \"z\" : print(\"소문자 입니다.\") # a < x < z 면 소문자\n",
    "if \"A\" <= x and x <= \"Z\" : print(\"대문자 입니다.\") # A < x < Z 면 소문자"
   ]
  },
  {
   "cell_type": "code",
   "execution_count": 2,
   "id": "a4e749f7",
   "metadata": {},
   "outputs": [
    {
     "name": "stdout",
     "output_type": "stream",
     "text": [
      "영문 알파벳 한글자를 입력하셔요?A\n",
      "대문자 입니다.\n"
     ]
    }
   ],
   "source": [
    "x = input(\"영문 알파벳 한글자를 입력하셔요?\") #x 변수 선언 및 input 사용\n",
    "if \"a\" <= x and x <= \"z\" : print(\"소문자 입니다.\") # a < x < z 면 소문자\n",
    "if \"A\" <= x and x <= \"Z\" : print(\"대문자 입니다.\") # A < x < Z 면 소문자"
   ]
  },
  {
   "cell_type": "code",
   "execution_count": 6,
   "id": "bad1f3de",
   "metadata": {},
   "outputs": [
    {
     "ename": "IndentationError",
     "evalue": "unexpected indent (1024834554.py, line 4)",
     "output_type": "error",
     "traceback": [
      "\u001b[1;36m  Input \u001b[1;32mIn [6]\u001b[1;36m\u001b[0m\n\u001b[1;33m    a = a - 50\u001b[0m\n\u001b[1;37m    ^\u001b[0m\n\u001b[1;31mIndentationError\u001b[0m\u001b[1;31m:\u001b[0m unexpected indent\n"
     ]
    }
   ],
   "source": [
    "a=100 #a변수 선언 및 초기화\n",
    "if a>50: # a가 50보다 크다면\n",
    "    print (\"50보다 큰수는 50을 빼겠습니다.\") #출력\n",
    "            a = a - 50 # a는 a-50"
   ]
  },
  {
   "cell_type": "code",
   "execution_count": 8,
   "id": "94fd7ac2",
   "metadata": {},
   "outputs": [
    {
     "name": "stdout",
     "output_type": "stream",
     "text": [
      "50보다 큰수는 50을 빼겠습니다.\n"
     ]
    }
   ],
   "source": [
    "a=100 #a변수 선언 및 초기화\n",
    "if a>50:# a가 50보다 크다면\n",
    "    print (\"50보다 큰수는 50을 빼겠습니다.\") #출력\n",
    "    a = a - 50 # a는 a-50"
   ]
  },
  {
   "cell_type": "code",
   "execution_count": 9,
   "id": "02dad2d7",
   "metadata": {},
   "outputs": [
    {
     "name": "stdout",
     "output_type": "stream",
     "text": [
      "50\n"
     ]
    }
   ],
   "source": [
    "print(a) # a출력"
   ]
  },
  {
   "cell_type": "code",
   "execution_count": 10,
   "id": "bcb16281",
   "metadata": {},
   "outputs": [
    {
     "name": "stdout",
     "output_type": "stream",
     "text": [
      "점수를 입력하셔요?(0~100)80\n",
      "학점은 B입니다\n"
     ]
    }
   ],
   "source": [
    "x=int(input(\"점수를 입력하셔요?(0~100)\")) #x 변수 선언 및 input 사용\n",
    "if x >= 90 : print (\"학점은 A입니다\") # x가 90보다 크다면 출력~\n",
    "elif x >= 80 : print (\"학점은 B입니다\") #else if x가 80보다 크다면 출력~\n",
    "elif x >= 70 : print (\"학점은 C입니다\") #else if x가 70보다 크다면 출력~\n",
    "elif x >= 60 : print (\"학점은 D입니다\") #else if x가 60보다 크다면 출력~\n",
    "else : print (\"학점은 F입니다\") #그외에는 F학점 출력"
   ]
  },
  {
   "cell_type": "code",
   "execution_count": 11,
   "id": "8bf198b1",
   "metadata": {},
   "outputs": [
    {
     "name": "stdout",
     "output_type": "stream",
     "text": [
      "숫자를 입력하셔요?12\n",
      "4의 배수인 짝수입니다(당연히 짝수)\n"
     ]
    }
   ],
   "source": [
    "x=int(input(\"숫자를 입력하셔요?\")) #x 변수 선언 및 input 사용\n",
    "if x % 2 == 0 : # x를 2로 나눈 나머지가 0이면(x가 짝수라면)\n",
    "    if x%4==0: #x가 4로 나눈 나머지가 0이면(4의 배수라면) \n",
    "        print(\"4의 배수인 짝수입니다(당연히 짝수)\") #출력\n",
    "    else: #4의 배수가 아니면 \n",
    "        print(\"4의 배수가 아닌 짝수입니다\"); #출력\n",
    "elif x%3==0: # x를 3로 나눈 나머지가 0이면\n",
    "    print(\"3의 배수인 홀수 입니다\") #출력\n",
    "else: #그렇지 않다면 \n",
    "    print (\"3의 배수가 아닌 홀수입니다\") #출력"
   ]
  },
  {
   "cell_type": "code",
   "execution_count": 12,
   "id": "de76d4cc",
   "metadata": {},
   "outputs": [
    {
     "name": "stdout",
     "output_type": "stream",
     "text": [
      "숫자를 입력하셔요?22\n",
      "4의 배수가 아닌 짝수입니다\n"
     ]
    }
   ],
   "source": [
    "x=int(input(\"숫자를 입력하셔요?\")) #x 변수 선언 및 input 사용\n",
    "if x % 2 == 0 : # x를 2로 나눈 나머지가 0이면(x가 짝수라면)\n",
    "    if x%4==0: #x가 4로 나눈 나머지가 0이면(4의 배수라면) \n",
    "        print(\"4의 배수인 짝수입니다(당연히 짝수)\") #출력\n",
    "    else: #4의 배수가 아니면 \n",
    "        print(\"4의 배수가 아닌 짝수입니다\"); #출력\n",
    "elif x%3==0: # x를 3로 나눈 나머지가 0이면\n",
    "    print(\"3의 배수인 홀수 입니다\") #출력\n",
    "else: #그렇지 않다면 \n",
    "    print (\"3의 배수가 아닌 홀수입니다\") #출력"
   ]
  },
  {
   "cell_type": "code",
   "execution_count": 13,
   "id": "7b77ea09",
   "metadata": {},
   "outputs": [
    {
     "name": "stdout",
     "output_type": "stream",
     "text": [
      "숫자를 입력하셔요?9\n",
      "3의 배수인 홀수 입니다\n"
     ]
    }
   ],
   "source": [
    "x=int(input(\"숫자를 입력하셔요?\")) #x 변수 선언 및 input 사용\n",
    "if x % 2 == 0 : # x를 2로 나눈 나머지가 0이면(x가 짝수라면)\n",
    "    if x%4==0: #x가 4로 나눈 나머지가 0이면(4의 배수라면) \n",
    "        print(\"4의 배수인 짝수입니다(당연히 짝수)\") #출력\n",
    "    else: #4의 배수가 아니면 \n",
    "        print(\"4의 배수가 아닌 짝수입니다\"); #출력\n",
    "elif x%3==0: # x를 3로 나눈 나머지가 0이면\n",
    "    print(\"3의 배수인 홀수 입니다\") #출력\n",
    "else: #그렇지 않다면 \n",
    "    print (\"3의 배수가 아닌 홀수입니다\") #출력"
   ]
  },
  {
   "cell_type": "code",
   "execution_count": 14,
   "id": "c641c5ea",
   "metadata": {},
   "outputs": [
    {
     "name": "stdout",
     "output_type": "stream",
     "text": [
      "숫자를 입력하셔요?11\n",
      "3의 배수가 아닌 홀수입니다\n"
     ]
    }
   ],
   "source": [
    "x=int(input(\"숫자를 입력하셔요?\")) #x 변수 선언 및 input 사용\n",
    "if x % 2 == 0 : # x를 2로 나눈 나머지가 0이면(x가 짝수라면)\n",
    "    if x%4==0: #x가 4로 나눈 나머지가 0이면(4의 배수라면) \n",
    "        print(\"4의 배수인 짝수입니다(당연히 짝수)\") #출력\n",
    "    else: #4의 배수가 아니면 \n",
    "        print(\"4의 배수가 아닌 짝수입니다\"); #출력\n",
    "elif x%3==0: # x를 3로 나눈 나머지가 0이면\n",
    "    print(\"3의 배수인 홀수 입니다\") #출력\n",
    "else: #그렇지 않다면 \n",
    "    print (\"3의 배수가 아닌 홀수입니다\") #출력"
   ]
  },
  {
   "cell_type": "code",
   "execution_count": 16,
   "id": "13643c49",
   "metadata": {},
   "outputs": [
    {
     "name": "stdout",
     "output_type": "stream",
     "text": [
      "sum= 5050\n"
     ]
    }
   ],
   "source": [
    "i=0 #반복 카운터, 초기화\n",
    "sum=0 #누적할 변수, 초기화\n",
    "while i <100 : #0부터 100까지 실행,만일 실행횟수는 100회\n",
    "    i+=1 #i=0+1, i=1+1, i=2+1, i=3+1,i는 1씩 증가\n",
    "    sum = sum + i #sum=0+1, sum=1+2, sum=3+3,sum=6+4 #sum은 더한 값이 누적됨\n",
    "print(\"sum=\",sum) #while 반복을 빠져 나와서 출력"
   ]
  },
  {
   "cell_type": "code",
   "execution_count": 1,
   "id": "baf1e480",
   "metadata": {},
   "outputs": [
    {
     "name": "stdout",
     "output_type": "stream",
     "text": [
      "***********************************************\n",
      "총금액: 1000000 원  달러환율: 1010.12 $\n",
      "지급달러: 988 $\n",
      "거스름돈: 5 원  은행수수료: 1996 원\n",
      "***********************************************\n"
     ]
    }
   ],
   "source": [
    "myWon = 1000000 #100만원을 환전한다\n",
    "moneyEx = 1010.12 #1달러 당 환율\n",
    "bankrate = 0.002 #은행수수료(0.002%)\n",
    "usd = int(myWon / (moneyEx * (1 + bankrate))) # 지금할 달러를 계산한다(은행 수수료 미리 포함)\n",
    "commission = ((usd * moneyEx) * bankrate) #은행 수수료를 계산한다.(1단계)\n",
    "#은행수수료를 계산한다 (2단계)\n",
    "if(commission%1 != 0): #소수점 아래가 있으면, 올림한다.\n",
    "    commission = int(commission) + 1\n",
    "else: #소수점이 없으면 정수형으로 변환한다.\n",
    "    commission = int(commission)\n",
    "remain = int(myWon - ((usd * moneyEx) + commission)) #거스름돈 계산(정수형으로 소수점 이하 절삭)\n",
    "print(\"***********************************************\")\n",
    "print(\"총금액:\", myWon,\"원\",\" 달러환율:\", moneyEx,\"$\")\n",
    "print(\"지급달러:\", usd,\"$\", )\n",
    "print(\"거스름돈:\", remain,\"원\", \" 은행수수료:\", commission,\"원\")\n",
    "print(\"***********************************************\")"
   ]
  },
  {
   "cell_type": "code",
   "execution_count": null,
   "id": "64e92b33",
   "metadata": {},
   "outputs": [],
   "source": []
  }
 ],
 "metadata": {
  "kernelspec": {
   "display_name": "Python 3 (ipykernel)",
   "language": "python",
   "name": "python3"
  },
  "language_info": {
   "codemirror_mode": {
    "name": "ipython",
    "version": 3
   },
   "file_extension": ".py",
   "mimetype": "text/x-python",
   "name": "python",
   "nbconvert_exporter": "python",
   "pygments_lexer": "ipython3",
   "version": "3.8.8rc1"
  }
 },
 "nbformat": 4,
 "nbformat_minor": 5
}
