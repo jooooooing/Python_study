{
 "cells": [
  {
   "cell_type": "code",
   "execution_count": 2,
   "id": "3d209c9b",
   "metadata": {},
   "outputs": [
    {
     "data": {
      "text/plain": [
       "(3, 4, 2859)"
      ]
     },
     "execution_count": 2,
     "metadata": {},
     "output_type": "execute_result"
    }
   ],
   "source": [
    "a=3 #a 변수 저장\n",
    "b=4 #b 변수 저장\n",
    "c=123+456*6 #c 변수 수식 저장\n",
    "a,b,c"
   ]
  },
  {
   "cell_type": "code",
   "execution_count": 3,
   "id": "9b47a22a",
   "metadata": {},
   "outputs": [
    {
     "ename": "SyntaxError",
     "evalue": "cannot assign to operator (446279548.py, line 4)",
     "output_type": "error",
     "traceback": [
      "\u001b[1;36m  Input \u001b[1;32mIn [3]\u001b[1;36m\u001b[0m\n\u001b[1;33m    a+b=c\u001b[0m\n\u001b[1;37m    ^\u001b[0m\n\u001b[1;31mSyntaxError\u001b[0m\u001b[1;31m:\u001b[0m cannot assign to operator\n"
     ]
    }
   ],
   "source": [
    "a=3 #a 변수 저장\n",
    "b=4 #b 변수 저장\n",
    "c=123+456*6 #c 변수 수식 저장\n",
    "a+b=c"
   ]
  },
  {
   "cell_type": "code",
   "execution_count": 4,
   "id": "d24420a6",
   "metadata": {},
   "outputs": [
    {
     "ename": "SyntaxError",
     "evalue": "cannot assign to operator (3472724097.py, line 4)",
     "output_type": "error",
     "traceback": [
      "\u001b[1;36m  Input \u001b[1;32mIn [4]\u001b[1;36m\u001b[0m\n\u001b[1;33m    123+456=a\u001b[0m\n\u001b[1;37m    ^\u001b[0m\n\u001b[1;31mSyntaxError\u001b[0m\u001b[1;31m:\u001b[0m cannot assign to operator\n"
     ]
    }
   ],
   "source": [
    "a=3 #a 변수 저장\n",
    "b=4 #b 변수 저장\n",
    "c=123+456*6 #c 변수 수식 저장\n",
    "123+456=a"
   ]
  },
  {
   "cell_type": "code",
   "execution_count": 5,
   "id": "1cd743b0",
   "metadata": {},
   "outputs": [
    {
     "ename": "TypeError",
     "evalue": "unsupported operand type(s) for +: 'int' and 'str'",
     "output_type": "error",
     "traceback": [
      "\u001b[1;31m---------------------------------------------------------------------------\u001b[0m",
      "\u001b[1;31mTypeError\u001b[0m                                 Traceback (most recent call last)",
      "Input \u001b[1;32mIn [5]\u001b[0m, in \u001b[0;36m<cell line: 2>\u001b[1;34m()\u001b[0m\n\u001b[0;32m      1\u001b[0m a\u001b[38;5;241m=\u001b[39m\u001b[38;5;241m1\u001b[39m\n\u001b[1;32m----> 2\u001b[0m a\u001b[38;5;241m=\u001b[39m\u001b[43ma\u001b[49m\u001b[38;5;241;43m+\u001b[39;49m\u001b[38;5;124;43m\"\u001b[39;49m\u001b[38;5;124;43m안녕\u001b[39;49m\u001b[38;5;124;43m\"\u001b[39;49m\n",
      "\u001b[1;31mTypeError\u001b[0m: unsupported operand type(s) for +: 'int' and 'str'"
     ]
    }
   ],
   "source": [
    "a=1 #a 변수 저장\n",
    "a=a+\"안녕\" # a는 수치형"
   ]
  },
  {
   "cell_type": "code",
   "execution_count": 6,
   "id": "f2d9ce60",
   "metadata": {},
   "outputs": [
    {
     "data": {
      "text/plain": [
       "'abc안녕'"
      ]
     },
     "execution_count": 6,
     "metadata": {},
     "output_type": "execute_result"
    }
   ],
   "source": [
    "a=\"abc\" #a에 다시 문자를 대입하는 순간 a는 문자형이 됨\n",
    "a=a+\"안녕\"\n",
    "a"
   ]
  },
  {
   "cell_type": "code",
   "execution_count": 7,
   "id": "2acd042c",
   "metadata": {},
   "outputs": [
    {
     "data": {
      "text/plain": [
       "(1, 2)"
      ]
     },
     "execution_count": 7,
     "metadata": {},
     "output_type": "execute_result"
    }
   ],
   "source": [
    "a = 1 #a 변수 저장\n",
    "b = 2 #b 변수 저장\n",
    "a,b # 출력 a, b"
   ]
  },
  {
   "cell_type": "code",
   "execution_count": 10,
   "id": "472fbb10",
   "metadata": {},
   "outputs": [
    {
     "data": {
      "text/plain": [
       "(2, 1)"
      ]
     },
     "execution_count": 10,
     "metadata": {},
     "output_type": "execute_result"
    }
   ],
   "source": [
    "a, b = b,a #a,b 변수의 값을 서로 바꿀 수 있음\n",
    "a, b #출력 a,b"
   ]
  },
  {
   "cell_type": "code",
   "execution_count": 11,
   "id": "2f646160",
   "metadata": {},
   "outputs": [
    {
     "data": {
      "text/plain": [
       "(1, 2, '안녕', '하셔요', 3, 4)"
      ]
     },
     "execution_count": 11,
     "metadata": {},
     "output_type": "execute_result"
    }
   ],
   "source": [
    "a,b,c,d,e,f=1,2,\"안녕\",\"하셔요\",3,4 #여러 변수 한번에 대입\n",
    "a,b,c,d,e,f #각 변수 출력"
   ]
  },
  {
   "cell_type": "code",
   "execution_count": 15,
   "id": "2a9610b0",
   "metadata": {},
   "outputs": [
    {
     "data": {
      "text/plain": [
       "(1, 1)"
      ]
     },
     "execution_count": 15,
     "metadata": {},
     "output_type": "execute_result"
    }
   ],
   "source": [
    "a=b=1 #a,b 변수에 1 대입\n",
    "a,b #a,b 출력"
   ]
  },
  {
   "cell_type": "code",
   "execution_count": 14,
   "id": "097b5d79",
   "metadata": {},
   "outputs": [
    {
     "data": {
      "text/plain": [
       "(1, 2)"
      ]
     },
     "execution_count": 14,
     "metadata": {},
     "output_type": "execute_result"
    }
   ],
   "source": [
    "b = 2 # b 변수에 2 대입\n",
    "a,b #a, b 출력"
   ]
  },
  {
   "cell_type": "code",
   "execution_count": 18,
   "id": "670adc39",
   "metadata": {},
   "outputs": [
    {
     "data": {
      "text/plain": [
       "([1, 2, 3], [1, 2, 3])"
      ]
     },
     "execution_count": 18,
     "metadata": {},
     "output_type": "execute_result"
    }
   ],
   "source": [
    "a = b = [1,2,3] # a,b 컬렉션 대입\n",
    "a,b #a, b 출력"
   ]
  },
  {
   "cell_type": "code",
   "execution_count": 17,
   "id": "f2b9a4d5",
   "metadata": {},
   "outputs": [
    {
     "data": {
      "text/plain": [
       "([1, 4, 3], [1, 4, 3])"
      ]
     },
     "execution_count": 17,
     "metadata": {},
     "output_type": "execute_result"
    }
   ],
   "source": [
    "a[1] =4 #a컬렉션 1 index에 4 대입\n",
    "a,b #a, b 컬렉션 출력 4대입한게 공유됨"
   ]
  },
  {
   "cell_type": "code",
   "execution_count": 19,
   "id": "daba5cc4",
   "metadata": {},
   "outputs": [
    {
     "data": {
      "text/plain": [
       "([1, 2, 3, 4, 5], [1, 2, 3, 4, 5])"
      ]
     },
     "execution_count": 19,
     "metadata": {},
     "output_type": "execute_result"
    }
   ],
   "source": [
    "a = [1,2,3,4,5] #a 컬렉션 대입\n",
    "b=a[:] #b컬렉션에 a컬렉션 값 복사\n",
    "a,b #a, b 출력\n"
   ]
  },
  {
   "cell_type": "code",
   "execution_count": 21,
   "id": "c780d34b",
   "metadata": {},
   "outputs": [
    {
     "data": {
      "text/plain": [
       "([1, 2, 5, 4, 5], [1, 2, 3, 4, 5])"
      ]
     },
     "execution_count": 21,
     "metadata": {},
     "output_type": "execute_result"
    }
   ],
   "source": [
    "a[2]=5 # a[2]에 5대입\n",
    "a,b #a,b 출력"
   ]
  },
  {
   "cell_type": "code",
   "execution_count": 24,
   "id": "ee961b2c",
   "metadata": {},
   "outputs": [
    {
     "data": {
      "text/plain": [
       "75"
      ]
     },
     "execution_count": 24,
     "metadata": {},
     "output_type": "execute_result"
    }
   ],
   "source": [
    "import sys\n",
    "a= 123\n",
    "sys.getrefcount(123)"
   ]
  },
  {
   "cell_type": "code",
   "execution_count": 23,
   "id": "f1ae4f6d",
   "metadata": {},
   "outputs": [
    {
     "data": {
      "text/plain": [
       "75"
      ]
     },
     "execution_count": 23,
     "metadata": {},
     "output_type": "execute_result"
    }
   ],
   "source": [
    "b=123; sys.getrefcount(123)"
   ]
  },
  {
   "cell_type": "code",
   "execution_count": 25,
   "id": "deefa7b3",
   "metadata": {},
   "outputs": [
    {
     "data": {
      "text/plain": [
       "76"
      ]
     },
     "execution_count": 25,
     "metadata": {},
     "output_type": "execute_result"
    }
   ],
   "source": [
    "c=123; sys.getrefcount(123)"
   ]
  },
  {
   "cell_type": "code",
   "execution_count": null,
   "id": "cd513aab",
   "metadata": {},
   "outputs": [],
   "source": []
  }
 ],
 "metadata": {
  "kernelspec": {
   "display_name": "Python 3 (ipykernel)",
   "language": "python",
   "name": "python3"
  },
  "language_info": {
   "codemirror_mode": {
    "name": "ipython",
    "version": 3
   },
   "file_extension": ".py",
   "mimetype": "text/x-python",
   "name": "python",
   "nbconvert_exporter": "python",
   "pygments_lexer": "ipython3",
   "version": "3.8.8rc1"
  }
 },
 "nbformat": 4,
 "nbformat_minor": 5
}
