{
 "cells": [
  {
   "cell_type": "code",
   "execution_count": 1,
   "id": "09e8549b",
   "metadata": {},
   "outputs": [
    {
     "data": {
      "text/plain": [
       "95"
      ]
     },
     "execution_count": 1,
     "metadata": {},
     "output_type": "execute_result"
    }
   ],
   "source": [
    "a={\"이름\":\"홍길동\", \"국어\":100, \"영어\":88, \"수학\": 95} #a 에 딕셔러니 정의\n",
    "a[\"수학\"] #a의 key가 수학인 값 출력"
   ]
  },
  {
   "cell_type": "code",
   "execution_count": 2,
   "id": "e8008905",
   "metadata": {},
   "outputs": [
    {
     "data": {
      "text/plain": [
       "'홍길동'"
      ]
     },
     "execution_count": 2,
     "metadata": {},
     "output_type": "execute_result"
    }
   ],
   "source": [
    "a[\"이름\"] #a의 key가 이름인 값 출력"
   ]
  },
  {
   "cell_type": "code",
   "execution_count": 3,
   "id": "26961126",
   "metadata": {},
   "outputs": [
    {
     "data": {
      "text/plain": [
       "dict_keys(['이름', '국어', '영어', '수학'])"
      ]
     },
     "execution_count": 3,
     "metadata": {},
     "output_type": "execute_result"
    }
   ],
   "source": [
    "a.keys() #a의 key 값만 출력"
   ]
  },
  {
   "cell_type": "code",
   "execution_count": 4,
   "id": "b5357f8b",
   "metadata": {},
   "outputs": [
    {
     "data": {
      "text/plain": [
       "dict_values(['홍길동', 100, 88, 95])"
      ]
     },
     "execution_count": 4,
     "metadata": {},
     "output_type": "execute_result"
    }
   ],
   "source": [
    "a.values() #a의 values 값 출력"
   ]
  },
  {
   "cell_type": "code",
   "execution_count": 5,
   "id": "7c5f7ae1",
   "metadata": {},
   "outputs": [
    {
     "data": {
      "text/plain": [
       "dict_items([('이름', '홍길동'), ('국어', 100), ('영어', 88), ('수학', 95)])"
      ]
     },
     "execution_count": 5,
     "metadata": {},
     "output_type": "execute_result"
    }
   ],
   "source": [
    "a.items() #a의 키와 벨류 값 모두 출력"
   ]
  },
  {
   "cell_type": "code",
   "execution_count": 6,
   "id": "1a78bb73",
   "metadata": {},
   "outputs": [
    {
     "name": "stdout",
     "output_type": "stream",
     "text": [
      "('이름', '홍길동'),('국어', 100),('영어', 88),('수학', 95),"
     ]
    }
   ],
   "source": [
    "a={\"이름\":\"홍길동\", \"국어\":100, \"영어\":88, \"수학\": 95} #딕셔너리 작성\n",
    "for i in a.items(): # a의 키와 벨류 값을 순서대로 입력하는 for문\n",
    "    print (i,end=\",\") # 값 출력 사이에 콤마로 구분"
   ]
  },
  {
   "cell_type": "code",
   "execution_count": 7,
   "id": "8f347fda",
   "metadata": {},
   "outputs": [
    {
     "name": "stdout",
     "output_type": "stream",
     "text": [
      "이름,국어,영어,수학,"
     ]
    }
   ],
   "source": [
    "for i in a.keys(): #키 값만 넣는 for문 작성\n",
    "    print (i,end=\",\") #키값만 출력"
   ]
  },
  {
   "cell_type": "code",
   "execution_count": 8,
   "id": "d3e83047",
   "metadata": {},
   "outputs": [
    {
     "name": "stdout",
     "output_type": "stream",
     "text": [
      "홍길동,100,88,95,"
     ]
    }
   ],
   "source": [
    "for i in a.values(): #벨류 값만 넣는 for문 작성\n",
    "    print (i,end=\",\") #벨류 값 출력"
   ]
  },
  {
   "cell_type": "code",
   "execution_count": 9,
   "id": "8316ca5f",
   "metadata": {},
   "outputs": [
    {
     "name": "stdout",
     "output_type": "stream",
     "text": [
      "None\n"
     ]
    }
   ],
   "source": [
    "a = {\"이름\":\"홍길동\", \"국어\":100, \"영어\":88, \"수학\": 95} # 딕셔너리정의\n",
    "print(a.get(\"과학\")) #해당 키의 값을 검색, 없음 출력"
   ]
  },
  {
   "cell_type": "code",
   "execution_count": 10,
   "id": "bfbd550f",
   "metadata": {},
   "outputs": [
    {
     "name": "stdout",
     "output_type": "stream",
     "text": [
      "없는 과목입니다\n"
     ]
    }
   ],
   "source": [
    "print(a.get(\"과학\",\"없는 과목입니다\")) #과학이 없다면 과목이 없습니다."
   ]
  },
  {
   "cell_type": "code",
   "execution_count": 11,
   "id": "351e2dab",
   "metadata": {},
   "outputs": [
    {
     "name": "stdout",
     "output_type": "stream",
     "text": [
      "95\n"
     ]
    }
   ],
   "source": [
    "print(a.get(\"수학\",\"없는 과목입니다\")) #수학 없으면 없는과목입니다 출력"
   ]
  },
  {
   "cell_type": "code",
   "execution_count": 12,
   "id": "df21e176",
   "metadata": {},
   "outputs": [
    {
     "name": "stdout",
     "output_type": "stream",
     "text": [
      "{'안': 1, '녕': 1, '하': 1, '셔': 1, '요': 3, '.': 2, ' ': 9, '오': 1, '늘': 1, '은': 2, '날': 1, '씨': 1, '가': 2, '매': 2, '우': 2, '화': 1, '창': 1, '합': 1, '니': 1, '다': 1, '\\n': 2, '그': 1, '래': 1, '서': 1, '기': 2, '분': 2, '이': 2, '좋': 2, '네': 1, '너': 1, '도': 1, '랄': 3, '라': 7, 'a': 1, 'b': 1, 'c': 1, '임': 1, '마': 1}\n"
     ]
    }
   ],
   "source": [
    "text=\"\"\"안녕하셔요. 오늘은날씨가매우화창합니다.\n",
    "    그래서기분이매우좋네요\n",
    "    너도기분이좋은가요랄라랄랄라라라라라라abc임마\"\"\"\n",
    "\n",
    "a=dict() #하나의 딕셔너리 자료형을 정의\n",
    "\n",
    "for c in text: #위에 정의한 텍스트를 하나씩 추출하여 처리\n",
    "    if c not in a: #해당 추출 글자가 지금까지의 딕셔너리에 없다면\n",
    "        a[c]=1 #그때는 최초 1값으로 시작\n",
    "    else: #이 경우는 해당 추출 글자의 딕셔너리가 있다\n",
    "        a[c] +=1 #그럼 해당 딕셔너리 키에 해당 되는 값을 하나 더함\n",
    "print(a)"
   ]
  },
  {
   "cell_type": "code",
   "execution_count": 14,
   "id": "f3f0dd77",
   "metadata": {},
   "outputs": [
    {
     "name": "stdout",
     "output_type": "stream",
     "text": [
      "{'\\n': 2, ' ': 9, '.': 2, 'a': 1, 'b': 1, 'c': 1, '가': 2, '그': 1, '기': 2, '날': 1, '너': 1, '네': 1, '녕': 1, '늘': 1, '니': 1, '다': 1, '도': 1, '라': 7, '랄': 3, '래': 1, '마': 1, '매': 2, '분': 2, '서': 1, '셔': 1, '씨': 1, '안': 1, '오': 1, '요': 3, '우': 2, '은': 2, '이': 2, '임': 1, '좋': 2, '창': 1, '하': 1, '합': 1, '화': 1}\n"
     ]
    }
   ],
   "source": [
    "#글자를 소트\n",
    "b=dict() #딕셔너리 정의\n",
    "l=list(a.keys()) #앞에 딕서너리에 키만 뽑아 리스트를 만든다\n",
    "l.sort() #해당 리스트 정렬\n",
    "for c in l: #각리스트에 대하여(결국 키 값) 하나씩 뽑음\n",
    "    b[c]=a[c] # 새로운 딕셔너리는 키 값 순서로 만든다.\n",
    "print(b) #출력"
   ]
  },
  {
   "cell_type": "code",
   "execution_count": 15,
   "id": "c2ceda2d",
   "metadata": {},
   "outputs": [
    {
     "data": {
      "text/plain": [
       "{1, 2, 3, 4, 5}"
      ]
     },
     "execution_count": 15,
     "metadata": {},
     "output_type": "execute_result"
    }
   ],
   "source": [
    "a={1,2,2,2,2,3,3,3,4,5} #집합 선언\n",
    "a #출력, 중복이 삭제된다."
   ]
  },
  {
   "cell_type": "code",
   "execution_count": 16,
   "id": "88206321",
   "metadata": {},
   "outputs": [
    {
     "data": {
      "text/plain": [
       "{1, 2, 'a'}"
      ]
     },
     "execution_count": 16,
     "metadata": {},
     "output_type": "execute_result"
    }
   ],
   "source": [
    "set((\"a\",1,2)) # 숫자형(1 2)와 문자형(a) 를 집합으로 세팅"
   ]
  },
  {
   "cell_type": "code",
   "execution_count": 17,
   "id": "5fe344cb",
   "metadata": {},
   "outputs": [
    {
     "data": {
      "text/plain": [
       "{'a'}"
      ]
     },
     "execution_count": 17,
     "metadata": {},
     "output_type": "execute_result"
    }
   ],
   "source": [
    "set(\"a\") #문자형(a)를 집합으로 세팅"
   ]
  },
  {
   "cell_type": "code",
   "execution_count": 19,
   "id": "2a1f79cb",
   "metadata": {},
   "outputs": [
    {
     "data": {
      "text/plain": [
       "{'국어', '수학', '영어', '이름'}"
      ]
     },
     "execution_count": 19,
     "metadata": {},
     "output_type": "execute_result"
    }
   ],
   "source": [
    "set({\"이름\":\"홍길동\", \"국어\":100, \"영어\":88, \"수학\": 95})\n",
    "# 키:벨류 형식의 딕셔러니형 자료를 함수로 세팅, 이때 키값만 변환된다."
   ]
  },
  {
   "cell_type": "code",
   "execution_count": 20,
   "id": "25b08812",
   "metadata": {},
   "outputs": [
    {
     "data": {
      "text/plain": [
       "{1, 2, 3, 4, 5}"
      ]
     },
     "execution_count": 20,
     "metadata": {},
     "output_type": "execute_result"
    }
   ],
   "source": [
    "a={1,2,3,4,5} # 집합 선언\n",
    "a #a 출력"
   ]
  },
  {
   "cell_type": "code",
   "execution_count": 21,
   "id": "ce126a77",
   "metadata": {},
   "outputs": [],
   "source": [
    "a.add(0) #a 출력 0추가 숫자가 작아서 제일 앞에 위치할 것으로 추측"
   ]
  },
  {
   "cell_type": "code",
   "execution_count": 22,
   "id": "7da80571",
   "metadata": {},
   "outputs": [
    {
     "data": {
      "text/plain": [
       "{0, 1, 2, 3, 4, 5}"
      ]
     },
     "execution_count": 22,
     "metadata": {},
     "output_type": "execute_result"
    }
   ],
   "source": [
    "a #a 출력"
   ]
  },
  {
   "cell_type": "code",
   "execution_count": 23,
   "id": "a71f2a77",
   "metadata": {},
   "outputs": [],
   "source": [
    "a.add(2.4) #a에 2.4 추가"
   ]
  },
  {
   "cell_type": "code",
   "execution_count": 24,
   "id": "e4631ee1",
   "metadata": {},
   "outputs": [
    {
     "data": {
      "text/plain": [
       "{0, 1, 2, 2.4, 3, 4, 5}"
      ]
     },
     "execution_count": 24,
     "metadata": {},
     "output_type": "execute_result"
    }
   ],
   "source": [
    "a #출력"
   ]
  },
  {
   "cell_type": "code",
   "execution_count": 25,
   "id": "572ecf87",
   "metadata": {},
   "outputs": [
    {
     "data": {
      "text/plain": [
       "{0, 1, 2, 2.4, 4, 5}"
      ]
     },
     "execution_count": 25,
     "metadata": {},
     "output_type": "execute_result"
    }
   ],
   "source": [
    "a.remove(3) #3을 집합에서 제거\n",
    "a #출력"
   ]
  },
  {
   "cell_type": "code",
   "execution_count": 26,
   "id": "6dd079d7",
   "metadata": {},
   "outputs": [
    {
     "data": {
      "text/plain": [
       "{1, 2, 3, 4, 5, 6, 7, 8, 9, 10}"
      ]
     },
     "execution_count": 26,
     "metadata": {},
     "output_type": "execute_result"
    }
   ],
   "source": [
    "A={1,2,3,4,5,6,7} #집합 선언 (A)\n",
    "B={7,8,9,10} # 집합 선언(B)\n",
    "A|B #두 집합의 합을 출력한다."
   ]
  },
  {
   "cell_type": "code",
   "execution_count": 27,
   "id": "fe799764",
   "metadata": {},
   "outputs": [
    {
     "data": {
      "text/plain": [
       "{7}"
      ]
     },
     "execution_count": 27,
     "metadata": {},
     "output_type": "execute_result"
    }
   ],
   "source": [
    "A&B #두 집합의 교집합 출력"
   ]
  },
  {
   "cell_type": "code",
   "execution_count": 28,
   "id": "3157480e",
   "metadata": {},
   "outputs": [
    {
     "data": {
      "text/plain": [
       "{1, 2, 3, 4, 5, 6}"
      ]
     },
     "execution_count": 28,
     "metadata": {},
     "output_type": "execute_result"
    }
   ],
   "source": [
    "A-B #A집합에서 B집합과의 교집합 부분을 삭제"
   ]
  },
  {
   "cell_type": "code",
   "execution_count": 29,
   "id": "7f6f3678",
   "metadata": {},
   "outputs": [
    {
     "data": {
      "text/plain": [
       "False"
      ]
     },
     "execution_count": 29,
     "metadata": {},
     "output_type": "execute_result"
    }
   ],
   "source": [
    "{1,2,3} < {1,2} #거짓"
   ]
  },
  {
   "cell_type": "code",
   "execution_count": 30,
   "id": "3347f932",
   "metadata": {},
   "outputs": [
    {
     "data": {
      "text/plain": [
       "True"
      ]
     },
     "execution_count": 30,
     "metadata": {},
     "output_type": "execute_result"
    }
   ],
   "source": [
    "{1,2,3} > {1,2} #참"
   ]
  },
  {
   "cell_type": "code",
   "execution_count": 31,
   "id": "8e11aab2",
   "metadata": {},
   "outputs": [
    {
     "data": {
      "text/plain": [
       "True"
      ]
     },
     "execution_count": 31,
     "metadata": {},
     "output_type": "execute_result"
    }
   ],
   "source": [
    "{1,2,3} >= {1,2} #참"
   ]
  },
  {
   "cell_type": "code",
   "execution_count": 32,
   "id": "2bd43159",
   "metadata": {},
   "outputs": [
    {
     "data": {
      "text/plain": [
       "False"
      ]
     },
     "execution_count": 32,
     "metadata": {},
     "output_type": "execute_result"
    }
   ],
   "source": [
    "{1,2,3} == {1,2} #거짓"
   ]
  },
  {
   "cell_type": "code",
   "execution_count": 33,
   "id": "1bbc4688",
   "metadata": {},
   "outputs": [
    {
     "data": {
      "text/plain": [
       "True"
      ]
     },
     "execution_count": 33,
     "metadata": {},
     "output_type": "execute_result"
    }
   ],
   "source": [
    "{1,2,3} >= {3,1,2} #참"
   ]
  },
  {
   "cell_type": "code",
   "execution_count": 34,
   "id": "d9f318c9",
   "metadata": {},
   "outputs": [
    {
     "data": {
      "text/plain": [
       "True"
      ]
     },
     "execution_count": 34,
     "metadata": {},
     "output_type": "execute_result"
    }
   ],
   "source": [
    "{1,2,3} == {3,1,2} #참"
   ]
  },
  {
   "cell_type": "code",
   "execution_count": 35,
   "id": "212add93",
   "metadata": {},
   "outputs": [
    {
     "data": {
      "text/plain": [
       "{0: 'a', 1: 'b', 2: 'c', 3: 'd', 4: 'e'}"
      ]
     },
     "execution_count": 35,
     "metadata": {},
     "output_type": "execute_result"
    }
   ],
   "source": [
    "a=[\"a\",\"b\",\"c\",\"d\",\"e\"] # 리스트 선언\n",
    "b={} #빈 딕셔너리 선언\n",
    "for i in range(len(a)):\n",
    "    b[i]=a[i] #a의 값을 딕셔너리로 전환\n",
    "b #출력, 키값은 0 부터 순서대로 지정된다."
   ]
  },
  {
   "cell_type": "code",
   "execution_count": 36,
   "id": "515c74c6",
   "metadata": {},
   "outputs": [
    {
     "data": {
      "text/plain": [
       "<enumerate at 0x1ba3756a100>"
      ]
     },
     "execution_count": 36,
     "metadata": {},
     "output_type": "execute_result"
    }
   ],
   "source": [
    "a=[\"a\",\"b\",\"c\",\"d\",\"e\"] #리스트 선언\n",
    "b=enumerate(a) # 0부터 차례의 숫자로 대입\n",
    "b #출력 (형식을 지정하지 않음)"
   ]
  },
  {
   "cell_type": "code",
   "execution_count": 37,
   "id": "85959b0b",
   "metadata": {},
   "outputs": [
    {
     "data": {
      "text/plain": [
       "{0: 'a', 1: 'b', 2: 'c', 3: 'd', 4: 'e'}"
      ]
     },
     "execution_count": 37,
     "metadata": {},
     "output_type": "execute_result"
    }
   ],
   "source": [
    "b=dict(enumerate(a)); c=list(enumerate(a)) #딕셔너리(b)와 리스트(c)를 만든다\n",
    "b"
   ]
  },
  {
   "cell_type": "code",
   "execution_count": 38,
   "id": "47f839db",
   "metadata": {},
   "outputs": [
    {
     "data": {
      "text/plain": [
       "[(0, 'a'), (1, 'b'), (2, 'c'), (3, 'd'), (4, 'e')]"
      ]
     },
     "execution_count": 38,
     "metadata": {},
     "output_type": "execute_result"
    }
   ],
   "source": [
    "c"
   ]
  },
  {
   "cell_type": "code",
   "execution_count": 39,
   "id": "4c19024c",
   "metadata": {},
   "outputs": [
    {
     "data": {
      "text/plain": [
       "<zip at 0x1ba375b0280>"
      ]
     },
     "execution_count": 39,
     "metadata": {},
     "output_type": "execute_result"
    }
   ],
   "source": [
    "a={1,2,3,4,5,6,7,8} #집합 선언 \n",
    "b={\"a\",\"b\",\"c\",\"d\",\"e\"} #집합 선언\n",
    "zip(a,b) #zip을 실행하면 형태를 지정해줘야한다. 우선 object로 출력 될 예정, ab를 서로 매칭해준다."
   ]
  },
  {
   "cell_type": "code",
   "execution_count": 40,
   "id": "3bf7d3f7",
   "metadata": {},
   "outputs": [
    {
     "data": {
      "text/plain": [
       "{1: 'a', 2: 'c', 3: 'e', 4: 'b', 5: 'd'}"
      ]
     },
     "execution_count": 40,
     "metadata": {},
     "output_type": "execute_result"
    }
   ],
   "source": [
    "c = dict(zip(a,b)); d = list(zip(a,b)) #c d를 각각 딕셔너리, 리스트 형으로 지정해준다.\n",
    "c #c 출력"
   ]
  },
  {
   "cell_type": "code",
   "execution_count": 41,
   "id": "9beb373e",
   "metadata": {},
   "outputs": [
    {
     "data": {
      "text/plain": [
       "[(1, 'a'), (2, 'c'), (3, 'e'), (4, 'b'), (5, 'd')]"
      ]
     },
     "execution_count": 41,
     "metadata": {},
     "output_type": "execute_result"
    }
   ],
   "source": [
    "d #d 출력"
   ]
  },
  {
   "cell_type": "code",
   "execution_count": 42,
   "id": "24b6b5b7",
   "metadata": {},
   "outputs": [
    {
     "data": {
      "text/plain": [
       "{1: 'a', 2: 'b', 3: 'c', 4: 'd', 5: 'e'}"
      ]
     },
     "execution_count": 42,
     "metadata": {},
     "output_type": "execute_result"
    }
   ],
   "source": [
    "a=(1,2,3,4,5,6,7,8) #튜플 선언\n",
    "b=[\"a\",\"b\",\"c\",\"d\",\"e\"] #리스트 선언\n",
    "c=dict(zip(a,b)); #a b를  zip하고 딕셔너리로 지정\n",
    "d=list(zip(a,b)) #a b를 zip하고 리스트로 지정\n",
    "c #c 출력"
   ]
  },
  {
   "cell_type": "code",
   "execution_count": 43,
   "id": "d34200d7",
   "metadata": {},
   "outputs": [
    {
     "data": {
      "text/plain": [
       "[(1, 'a'), (2, 'b'), (3, 'c'), (4, 'd'), (5, 'e')]"
      ]
     },
     "execution_count": 43,
     "metadata": {},
     "output_type": "execute_result"
    }
   ],
   "source": [
    "d #d 출력"
   ]
  },
  {
   "cell_type": "code",
   "execution_count": 48,
   "id": "834e166d",
   "metadata": {},
   "outputs": [
    {
     "name": "stdout",
     "output_type": "stream",
     "text": [
      "1\n",
      "2\n",
      "3\n",
      "4\n",
      "5\n",
      "6\n"
     ]
    }
   ],
   "source": [
    "def func(x): #x를 인수로 받는 함수 선언\n",
    "      return x/2 #리턴값\n",
    "\n",
    "x=(1,2,3,4,5,6) #튜플 선언\n",
    "for i in filter(func,x): #func에 부합하는 x 를 filter\n",
    "    print(i) #출력"
   ]
  },
  {
   "cell_type": "code",
   "execution_count": 49,
   "id": "a949fb9e",
   "metadata": {},
   "outputs": [
    {
     "ename": "TypeError",
     "evalue": "filter expected 2 arguments, got 3",
     "output_type": "error",
     "traceback": [
      "\u001b[1;31m---------------------------------------------------------------------------\u001b[0m",
      "\u001b[1;31mTypeError\u001b[0m                                 Traceback (most recent call last)",
      "Input \u001b[1;32mIn [49]\u001b[0m, in \u001b[0;36m<cell line: 7>\u001b[1;34m()\u001b[0m\n\u001b[0;32m      4\u001b[0m x\u001b[38;5;241m=\u001b[39m(\u001b[38;5;241m1\u001b[39m,\u001b[38;5;241m2\u001b[39m,\u001b[38;5;241m3\u001b[39m,\u001b[38;5;241m4\u001b[39m,\u001b[38;5;241m5\u001b[39m,\u001b[38;5;241m6\u001b[39m) \u001b[38;5;66;03m#튜플 선언 \u001b[39;00m\n\u001b[0;32m      5\u001b[0m y\u001b[38;5;241m=\u001b[39m(\u001b[38;5;241m7\u001b[39m,\u001b[38;5;241m8\u001b[39m,\u001b[38;5;241m9\u001b[39m,\u001b[38;5;241m10\u001b[39m,\u001b[38;5;241m11\u001b[39m,\u001b[38;5;241m12\u001b[39m) \u001b[38;5;66;03m#튜플 선언\u001b[39;00m\n\u001b[1;32m----> 7\u001b[0m \u001b[38;5;28;01mfor\u001b[39;00m i \u001b[38;5;129;01min\u001b[39;00m \u001b[38;5;28;43mfilter\u001b[39;49m\u001b[43m(\u001b[49m\u001b[43mfunc\u001b[49m\u001b[43m,\u001b[49m\u001b[43mx\u001b[49m\u001b[43m,\u001b[49m\u001b[43my\u001b[49m\u001b[43m)\u001b[49m: \u001b[38;5;66;03m#filter 사용시 에러\u001b[39;00m\n\u001b[0;32m      8\u001b[0m     \u001b[38;5;28mprint\u001b[39m(i)\n",
      "\u001b[1;31mTypeError\u001b[0m: filter expected 2 arguments, got 3"
     ]
    }
   ],
   "source": [
    "def func(x,y): #x y를 인수로 받는 함수 선언\n",
    "    return x+y\n",
    "\n",
    "x=(1,2,3,4,5,6) #튜플 선언 \n",
    "y=(7,8,9,10,11,12) #튜플 선언\n",
    "\n",
    "for i in filter(func,x,y): #filter 사용시 에러\n",
    "    print(i)"
   ]
  },
  {
   "cell_type": "code",
   "execution_count": 50,
   "id": "2680a932",
   "metadata": {},
   "outputs": [
    {
     "name": "stdout",
     "output_type": "stream",
     "text": [
      "8\n",
      "10\n",
      "12\n",
      "14\n",
      "16\n",
      "18\n"
     ]
    }
   ],
   "source": [
    "def func(x,y): #x y를 인수로 받는 함수 선언\n",
    "    return x+y\n",
    "\n",
    "x=(1,2,3,4,5,6) #튜플 선언 \n",
    "y=(7,8,9,10,11,12) #튜플 선언\n",
    "\n",
    "for i in map(func,x,y): #인수가 여러개 map 사용\n",
    "    print(i)"
   ]
  },
  {
   "cell_type": "code",
   "execution_count": 51,
   "id": "74f4a329",
   "metadata": {},
   "outputs": [
    {
     "name": "stdout",
     "output_type": "stream",
     "text": [
      "8\n",
      "10\n",
      "12\n",
      "14\n",
      "16\n",
      "18\n"
     ]
    }
   ],
   "source": [
    "x=(1,2,3,4,5,6) #튜플 선언\n",
    "y=(7,8,9,10,11,12) #튜플 선언\n",
    "for i in map(lambda x,y:x+y, x,y): # x,y를 인자로 받고 x+y값을 리턴하는 함수를 lambda형식으로 선언\n",
    "    print(i) # 결과 출력"
   ]
  },
  {
   "cell_type": "code",
   "execution_count": 66,
   "id": "077c02d5",
   "metadata": {},
   "outputs": [
    {
     "data": {
      "text/plain": [
       "[1, 2, 5]"
      ]
     },
     "execution_count": 66,
     "metadata": {},
     "output_type": "execute_result"
    }
   ],
   "source": [
    "a=[1,2,3] #리스트 선언\n",
    "b=a #b에 a copy (서로 영향을 준다.)\n",
    "b[2]=5 #2번째 값을 5로 변경, a b 모두 바뀐다\n",
    "a #a 출력"
   ]
  },
  {
   "cell_type": "code",
   "execution_count": 67,
   "id": "f3e2fe83",
   "metadata": {},
   "outputs": [
    {
     "data": {
      "text/plain": [
       "[1, 2, 5]"
      ]
     },
     "execution_count": 67,
     "metadata": {},
     "output_type": "execute_result"
    }
   ],
   "source": [
    "b"
   ]
  },
  {
   "cell_type": "code",
   "execution_count": 60,
   "id": "9c36cf68",
   "metadata": {},
   "outputs": [],
   "source": [
    "a=[1,2,3] #리스트 선언"
   ]
  },
  {
   "cell_type": "code",
   "execution_count": 61,
   "id": "0807a7dc",
   "metadata": {},
   "outputs": [],
   "source": [
    "b=a[:] #옅은 복사 "
   ]
  },
  {
   "cell_type": "code",
   "execution_count": 62,
   "id": "80648ad6",
   "metadata": {},
   "outputs": [],
   "source": [
    "b[2]=5 #b의 2에 5대입"
   ]
  },
  {
   "cell_type": "code",
   "execution_count": 63,
   "id": "61e5c20a",
   "metadata": {},
   "outputs": [
    {
     "data": {
      "text/plain": [
       "[1, 2, 3]"
      ]
     },
     "execution_count": 63,
     "metadata": {},
     "output_type": "execute_result"
    }
   ],
   "source": [
    "a #a출력"
   ]
  },
  {
   "cell_type": "code",
   "execution_count": 65,
   "id": "22a0c21f",
   "metadata": {},
   "outputs": [
    {
     "data": {
      "text/plain": [
       "[1, 2, 5]"
      ]
     },
     "execution_count": 65,
     "metadata": {},
     "output_type": "execute_result"
    }
   ],
   "source": [
    "b #b출력"
   ]
  },
  {
   "cell_type": "code",
   "execution_count": 68,
   "id": "bb441ef9",
   "metadata": {},
   "outputs": [
    {
     "name": "stdout",
     "output_type": "stream",
     "text": [
      "[1, 2, 3]\n"
     ]
    },
    {
     "data": {
      "text/plain": [
       "[1, 2, 5]"
      ]
     },
     "execution_count": 68,
     "metadata": {},
     "output_type": "execute_result"
    }
   ],
   "source": [
    "a=[1,2,3] #리스트 선언\n",
    "b=a.copy() #b에 a 복사\n",
    "b[2]=5 #b의 2번째 값만 5로 변경\n",
    "print(a);b # a b 출력"
   ]
  },
  {
   "cell_type": "code",
   "execution_count": 69,
   "id": "c59c0013",
   "metadata": {},
   "outputs": [
    {
     "data": {
      "text/plain": [
       "[[1, 2], 3, 4]"
      ]
     },
     "execution_count": 69,
     "metadata": {},
     "output_type": "execute_result"
    }
   ],
   "source": [
    "a=[[1,2],3,4] #리스트 선언\n",
    "b=a.copy() #b에 a 옅은 복사\n",
    "b #b출력"
   ]
  },
  {
   "cell_type": "code",
   "execution_count": 70,
   "id": "27b397ac",
   "metadata": {},
   "outputs": [
    {
     "data": {
      "text/plain": [
       "[[1, 3], 3, 4]"
      ]
     },
     "execution_count": 70,
     "metadata": {},
     "output_type": "execute_result"
    }
   ],
   "source": [
    "b[0][1] = 3 #0번째 배열의 1번째 요소 3으로 변경\n",
    "b #출력"
   ]
  },
  {
   "cell_type": "code",
   "execution_count": 71,
   "id": "193deca9",
   "metadata": {},
   "outputs": [
    {
     "data": {
      "text/plain": [
       "[[1, 3], 3, 4]"
      ]
     },
     "execution_count": 71,
     "metadata": {},
     "output_type": "execute_result"
    }
   ],
   "source": [
    "a #원래는 a의 값이 바뀌면 안된다. 하지만 리스트 안의 리스트는 완전히 복제하지 못해서 같이 변경된다."
   ]
  },
  {
   "cell_type": "code",
   "execution_count": 72,
   "id": "d700c608",
   "metadata": {},
   "outputs": [
    {
     "data": {
      "text/plain": [
       "[[1, 2], 3, 4]"
      ]
     },
     "execution_count": 72,
     "metadata": {},
     "output_type": "execute_result"
    }
   ],
   "source": [
    "a=[[1,2],3,4] #리스트 선언\n",
    "b = a[:] #옅은 복사\n",
    "b #출력"
   ]
  },
  {
   "cell_type": "code",
   "execution_count": 73,
   "id": "311fa212",
   "metadata": {},
   "outputs": [
    {
     "data": {
      "text/plain": [
       "[[1, 3], 3, 4]"
      ]
     },
     "execution_count": 73,
     "metadata": {},
     "output_type": "execute_result"
    }
   ],
   "source": [
    "b[0][1] =3 #b의 값을 변경, 옅은 복사\n",
    "a #a 출력, 원래는 a의 값이 바뀌면 안된다. 하지만 리스트 안의 리스트는 완전히 복제하지 못해서 같이 변경된다."
   ]
  },
  {
   "cell_type": "code",
   "execution_count": 74,
   "id": "473f5151",
   "metadata": {},
   "outputs": [
    {
     "name": "stdout",
     "output_type": "stream",
     "text": [
      "[[1, 2], 3, 4] [[1, 3], 3, 4]\n"
     ]
    }
   ],
   "source": [
    "import copy as c #deepcopy를 사용하기 위해 라이브러리 사용\n",
    "\n",
    "a=[[1,2],3,4] #리스트 선언\n",
    "b=c.deepcopy(a) # b를 깊은 복사\n",
    "b[0][1]=3 #b의 0번째 값의 1번째 값을 3으로 변경, a와 b는 독립적\n",
    "print(a,b) #a b 출력"
   ]
  },
  {
   "cell_type": "code",
   "execution_count": null,
   "id": "fee94a7c",
   "metadata": {},
   "outputs": [],
   "source": []
  }
 ],
 "metadata": {
  "kernelspec": {
   "display_name": "Python 3 (ipykernel)",
   "language": "python",
   "name": "python3"
  },
  "language_info": {
   "codemirror_mode": {
    "name": "ipython",
    "version": 3
   },
   "file_extension": ".py",
   "mimetype": "text/x-python",
   "name": "python",
   "nbconvert_exporter": "python",
   "pygments_lexer": "ipython3",
   "version": "3.8.8rc1"
  }
 },
 "nbformat": 4,
 "nbformat_minor": 5
}
