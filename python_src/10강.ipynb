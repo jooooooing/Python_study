{
 "cells": [
  {
   "cell_type": "code",
   "execution_count": 1,
   "id": "7092a87a",
   "metadata": {},
   "outputs": [
    {
     "data": {
      "text/plain": [
       "('a', 'b', 'c', 'd', 'e')"
      ]
     },
     "execution_count": 1,
     "metadata": {},
     "output_type": "execute_result"
    }
   ],
   "source": [
    "a=\"abcde\" # 문자열 지정\n",
    "a[0],a[1],a[2],a[3],a[4] #출력"
   ]
  },
  {
   "cell_type": "code",
   "execution_count": 2,
   "id": "74e58365",
   "metadata": {},
   "outputs": [
    {
     "data": {
      "text/plain": [
       "('e', 'c', 'c', 'b', 'a')"
      ]
     },
     "execution_count": 2,
     "metadata": {},
     "output_type": "execute_result"
    }
   ],
   "source": [
    "a[-1],a[2],a[-3],a[-4],a[-5] #-(마이너스)로 위치 지정"
   ]
  },
  {
   "cell_type": "code",
   "execution_count": 3,
   "id": "4c5e3e74",
   "metadata": {},
   "outputs": [
    {
     "data": {
      "text/plain": [
       "('가', '나', '다', '라', '마')"
      ]
     },
     "execution_count": 3,
     "metadata": {},
     "output_type": "execute_result"
    }
   ],
   "source": [
    "a=\"가나다라마\" # 문자열 지정\n",
    "a[0],a[1],a[2],a[3],a[4] #출력"
   ]
  },
  {
   "cell_type": "code",
   "execution_count": 4,
   "id": "602ddfac",
   "metadata": {},
   "outputs": [
    {
     "data": {
      "text/plain": [
       "'bcde'"
      ]
     },
     "execution_count": 4,
     "metadata": {},
     "output_type": "execute_result"
    }
   ],
   "source": [
    "a=\"abcde\" #a에 문자열 입력\n",
    "a[1:5] # bcde 출력"
   ]
  },
  {
   "cell_type": "code",
   "execution_count": 5,
   "id": "a45f3979",
   "metadata": {},
   "outputs": [
    {
     "data": {
      "text/plain": [
       "'b'"
      ]
     },
     "execution_count": 5,
     "metadata": {},
     "output_type": "execute_result"
    }
   ],
   "source": [
    "a[1:2] #1부터 1까지, b 출력"
   ]
  },
  {
   "cell_type": "code",
   "execution_count": 6,
   "id": "46a4d360",
   "metadata": {},
   "outputs": [
    {
     "data": {
      "text/plain": [
       "'abcde'"
      ]
     },
     "execution_count": 6,
     "metadata": {},
     "output_type": "execute_result"
    }
   ],
   "source": [
    "a[:6] #처음부터 5까지 출력"
   ]
  },
  {
   "cell_type": "code",
   "execution_count": 7,
   "id": "5e998b8b",
   "metadata": {},
   "outputs": [
    {
     "data": {
      "text/plain": [
       "'de'"
      ]
     },
     "execution_count": 7,
     "metadata": {},
     "output_type": "execute_result"
    }
   ],
   "source": [
    "a[3:] # 3번째부터 마지막까지"
   ]
  },
  {
   "cell_type": "code",
   "execution_count": 8,
   "id": "0db61391",
   "metadata": {},
   "outputs": [
    {
     "data": {
      "text/plain": [
       "'c'"
      ]
     },
     "execution_count": 8,
     "metadata": {},
     "output_type": "execute_result"
    }
   ],
   "source": [
    "a[2:-2] #2부터 -2(3)전까지 출력"
   ]
  },
  {
   "cell_type": "code",
   "execution_count": 9,
   "id": "f4f28d35",
   "metadata": {},
   "outputs": [
    {
     "data": {
      "text/plain": [
       "''"
      ]
     },
     "execution_count": 9,
     "metadata": {},
     "output_type": "execute_result"
    }
   ],
   "source": [
    "a[2:-3] #2부터 -3(2)전까지 출력, 빈칸"
   ]
  },
  {
   "cell_type": "code",
   "execution_count": 10,
   "id": "b55e3d13",
   "metadata": {},
   "outputs": [
    {
     "data": {
      "text/plain": [
       "'bcd'"
      ]
     },
     "execution_count": 10,
     "metadata": {},
     "output_type": "execute_result"
    }
   ],
   "source": [
    "a[1:-1] #1부터 4전까지 출력 bcd"
   ]
  },
  {
   "cell_type": "code",
   "execution_count": 11,
   "id": "7879f924",
   "metadata": {},
   "outputs": [
    {
     "data": {
      "text/plain": [
       "5"
      ]
     },
     "execution_count": 11,
     "metadata": {},
     "output_type": "execute_result"
    }
   ],
   "source": [
    "a=\"abcdefghijklmabcdefgh\"\n",
    "a.find(\"f\") #처음 찾은 값의 위치를 반환"
   ]
  },
  {
   "cell_type": "code",
   "execution_count": 12,
   "id": "e92481ee",
   "metadata": {},
   "outputs": [
    {
     "data": {
      "text/plain": [
       "18"
      ]
     },
     "execution_count": 12,
     "metadata": {},
     "output_type": "execute_result"
    }
   ],
   "source": [
    "a.rfind(\"f\") #뒤에서부터 찾고, 처음 찾은 값의 위치"
   ]
  },
  {
   "cell_type": "code",
   "execution_count": 13,
   "id": "3ba83234",
   "metadata": {},
   "outputs": [
    {
     "data": {
      "text/plain": [
       "(8, 8)"
      ]
     },
     "execution_count": 13,
     "metadata": {},
     "output_type": "execute_result"
    }
   ],
   "source": [
    "a.find(\"i\"),a.rfind(\"i\") #앞, 뒤에서부터 검색, 단어가 한개면 똑같다"
   ]
  },
  {
   "cell_type": "code",
   "execution_count": 14,
   "id": "c48b930b",
   "metadata": {},
   "outputs": [
    {
     "data": {
      "text/plain": [
       "(1, 14)"
      ]
     },
     "execution_count": 14,
     "metadata": {},
     "output_type": "execute_result"
    }
   ],
   "source": [
    "a.index(\"b\"),a.rindex(\"b\") #index 함수도 결과는 동일"
   ]
  },
  {
   "cell_type": "code",
   "execution_count": 15,
   "id": "a695a144",
   "metadata": {},
   "outputs": [
    {
     "ename": "ValueError",
     "evalue": "substring not found",
     "output_type": "error",
     "traceback": [
      "\u001b[1;31m---------------------------------------------------------------------------\u001b[0m",
      "\u001b[1;31mValueError\u001b[0m                                Traceback (most recent call last)",
      "Input \u001b[1;32mIn [15]\u001b[0m, in \u001b[0;36m<cell line: 1>\u001b[1;34m()\u001b[0m\n\u001b[1;32m----> 1\u001b[0m \u001b[43ma\u001b[49m\u001b[38;5;241;43m.\u001b[39;49m\u001b[43mrindex\u001b[49m\u001b[43m(\u001b[49m\u001b[38;5;124;43m\"\u001b[39;49m\u001b[38;5;124;43mz\u001b[39;49m\u001b[38;5;124;43m\"\u001b[39;49m\u001b[43m)\u001b[49m\n",
      "\u001b[1;31mValueError\u001b[0m: substring not found"
     ]
    }
   ],
   "source": [
    "a.rindex(\"z\") # 없으면 에러"
   ]
  },
  {
   "cell_type": "code",
   "execution_count": 16,
   "id": "c304e068",
   "metadata": {},
   "outputs": [
    {
     "data": {
      "text/plain": [
       "2"
      ]
     },
     "execution_count": 16,
     "metadata": {},
     "output_type": "execute_result"
    }
   ],
   "source": [
    "a.count(\"f\") #해당문자의 개수를 반환"
   ]
  },
  {
   "cell_type": "code",
   "execution_count": 17,
   "id": "68b1022f",
   "metadata": {},
   "outputs": [
    {
     "data": {
      "text/plain": [
       "13"
      ]
     },
     "execution_count": 17,
     "metadata": {},
     "output_type": "execute_result"
    }
   ],
   "source": [
    "a.rfind(\"abc\") #문자열을 넣어도 된다"
   ]
  },
  {
   "cell_type": "code",
   "execution_count": 18,
   "id": "200eef30",
   "metadata": {},
   "outputs": [
    {
     "name": "stdout",
     "output_type": "stream",
     "text": [
      "a가들어있음\n"
     ]
    }
   ],
   "source": [
    "a=\"abcdfegabcdfeg\" #문자열 선언\n",
    "if a.find(\"f\") > 0: #a에 f가 있다면 (0보다 크다면)\n",
    "    print (\"a가들어있음\") #메세지 출력"
   ]
  },
  {
   "cell_type": "code",
   "execution_count": 19,
   "id": "02e8ea6c",
   "metadata": {},
   "outputs": [
    {
     "name": "stdout",
     "output_type": "stream",
     "text": [
      "a가들어있음\n"
     ]
    }
   ],
   "source": [
    "if \"f\" in a : #f가 a 안에 있다면, 위와 같은 의미\n",
    "    print (\"a가들어있음\")"
   ]
  },
  {
   "cell_type": "code",
   "execution_count": 25,
   "id": "b5d6700e",
   "metadata": {},
   "outputs": [
    {
     "data": {
      "text/plain": [
       "'ABCDEFGH'"
      ]
     },
     "execution_count": 25,
     "metadata": {},
     "output_type": "execute_result"
    }
   ],
   "source": [
    "a=\"abcDefGh\" #문자열 선언\n",
    "a.upper() #a를 대문자로 변경"
   ]
  },
  {
   "cell_type": "code",
   "execution_count": 21,
   "id": "f3ac1d4e",
   "metadata": {},
   "outputs": [
    {
     "data": {
      "text/plain": [
       "'abcdefgh'"
      ]
     },
     "execution_count": 21,
     "metadata": {},
     "output_type": "execute_result"
    }
   ],
   "source": [
    "a=\"abcDefGh\" #문자열 선언\n",
    "a.lower() #a룰 소문자로 변경"
   ]
  },
  {
   "cell_type": "code",
   "execution_count": 22,
   "id": "26a372f7",
   "metadata": {},
   "outputs": [
    {
     "data": {
      "text/plain": [
       "'abc   def    hij     '"
      ]
     },
     "execution_count": 22,
     "metadata": {},
     "output_type": "execute_result"
    }
   ],
   "source": [
    "a=\"   abc   def    hij     \" #문자열 선언\n",
    "a.lstrip() #왼쪽의 여백 삭제"
   ]
  },
  {
   "cell_type": "code",
   "execution_count": 26,
   "id": "1f7e1f92",
   "metadata": {},
   "outputs": [
    {
     "data": {
      "text/plain": [
       "'   abc   def    hij'"
      ]
     },
     "execution_count": 26,
     "metadata": {},
     "output_type": "execute_result"
    }
   ],
   "source": [
    "a=\"   abc   def    hij     \" #문자열 선언\n",
    "a.rstrip() #오른쪽의 여백 삭제"
   ]
  },
  {
   "cell_type": "code",
   "execution_count": 24,
   "id": "b6fcfb0b",
   "metadata": {},
   "outputs": [
    {
     "data": {
      "text/plain": [
       "'abc   def    hij'"
      ]
     },
     "execution_count": 24,
     "metadata": {},
     "output_type": "execute_result"
    }
   ],
   "source": [
    "a=\"   abc   def    hij     \" #문자열 선언\n",
    "a.strip() #양쪽의 여백 삭제"
   ]
  },
  {
   "cell_type": "code",
   "execution_count": 23,
   "id": "a9ec61ec",
   "metadata": {},
   "outputs": [
    {
     "data": {
      "text/plain": [
       "'abcdefhij'"
      ]
     },
     "execution_count": 23,
     "metadata": {},
     "output_type": "execute_result"
    }
   ],
   "source": [
    "a=\"   abc   def    hij     \" #문자열 선언\n",
    "a.replace(\" \",\"\") #모든 여백 삭제"
   ]
  },
  {
   "cell_type": "code",
   "execution_count": 27,
   "id": "7edeef7c",
   "metadata": {},
   "outputs": [
    {
     "name": "stdout",
     "output_type": "stream",
     "text": [
      "==============\n",
      "이름:  홍길동\n",
      "국어:  100\n",
      "영어:  95\n",
      "수학:  88\n",
      "==============\n"
     ]
    }
   ],
   "source": [
    "rec=\"홍길동,100,95,88\" # 문자열 선언\n",
    "#문자열을 콤마를 기준으로 잘라서 리스트로 선언, item에 지정\n",
    "item=rec.split(\",\")\n",
    "print(\"=\"*14) #구분선 출력\n",
    "print(\"이름: \", item[0]) #0번째 값 출력\n",
    "print(\"국어: \", item[1]) #1번째 값 출력\n",
    "print(\"영어: \", item[2]) #2번째 값 출력\n",
    "print(\"수학: \", item[3]) #3번째 값 출력\n",
    "print(\"=\"*14) #구분선 출력"
   ]
  },
  {
   "cell_type": "code",
   "execution_count": 28,
   "id": "d4d2c146",
   "metadata": {},
   "outputs": [
    {
     "name": "stdout",
     "output_type": "stream",
     "text": [
      "==============\n",
      "0 ==> 본\n",
      "1 ==> 예제는\n",
      "2 ==> 빈칸으로\n",
      "3 ==> 구분되어\n",
      "4 ==> 있는\n",
      "5 ==> 한\n",
      "6 ==> 줄의\n",
      "7 ==> 데이터를\n",
      "8 ==> 빈칸을\n",
      "9 ==> \n",
      "10 ==> \n",
      "11 ==> \n",
      "12 ==> \n",
      "13 ==> 구분하여\n",
      "14 ==> 나누어\n",
      "15 ==> 줌\n",
      "==============\n"
     ]
    }
   ],
   "source": [
    "rec=\"본 예제는 빈칸으로 구분되어 있는 한 줄의 데이터를 빈칸을     구분하여 나누어 줌\" #긴 공백 = 공백 5칸\n",
    "item=rec.split(\" \") #공백을 기준으로 자른다.\n",
    "\n",
    "print(\"=\"*14) #구분선 출력\n",
    "i=0 #i선언 카운트 용\n",
    "for s in item: #공백을 기준으로 만든 리스트를 for문으로 돌린다.\n",
    "    print(i,\"==>\", s) #리스트의 모든 값을 출력한다.\n",
    "    i+=1 #카운트 증가\n",
    "print(\"=\"*14) #구분선 출력"
   ]
  },
  {
   "cell_type": "code",
   "execution_count": 31,
   "id": "dc5d76ea",
   "metadata": {},
   "outputs": [
    {
     "name": "stdout",
     "output_type": "stream",
     "text": [
      "[['나연', 100, 90, 100], ['정연', 90, 90, 100], ['모모', 80, 70, 90], ['사나', 90, 90, 80], ['지효', 100, 80, 80], ['미나', 50, 90, 90], ['다현', 80, 60, 100], ['채영', 70, 80, 90], ['쯔위', 100, 90, 90]]\n"
     ]
    }
   ],
   "source": [
    "dili_score=[\"나연,100,90,100\", #리스트 데이터 정의\n",
    "\"정연,90,90,100\",\n",
    "\"모모,80,70,90\",\n",
    "\"사나,90,90,80\",\n",
    "\"지효,100,80,80\",\n",
    "\"미나,50,90,90\",\n",
    "\"다현,80,60,100\",\n",
    "\"채영,70,80,90\",\n",
    "\"쯔위,100,90,90\"]\n",
    "\n",
    "score=[] #score 선언\n",
    "for one_rec in dili_score:\n",
    "    one_score=one_rec.split(\",\")\n",
    "    one_score[1]=int(one_score[1]) #국어점수 숫자형 변환\n",
    "    one_score[2]=int(one_score[2]) #영어점수 숫자형 변환\n",
    "    one_score[3]=int(one_score[3]) #수학점수 숫자형 변환\n",
    "    score.append(one_score.copy()) # copy에 주의할 것..값 복사\n",
    "\n",
    "print(score)"
   ]
  },
  {
   "cell_type": "code",
   "execution_count": 32,
   "id": "308ef2e3",
   "metadata": {},
   "outputs": [
    {
     "name": "stdout",
     "output_type": "stream",
     "text": [
      "case1\n",
      "품목: 오징어땅콩  단가: 1000 원 수량: 10 개 합계: 10000 원\n",
      "case2\n",
      "품목:오징어땅콩 단가:1000원 수량:10개 합계:10000원\n",
      "case3\n",
      "품목:오징어땅콩 단가:1000원 수량:10개 합계:10000원\n",
      "case4\n",
      "품목:오징어땅콩      단가:01000원 수량:0x0a개 합계: 10000.000원\n"
     ]
    }
   ],
   "source": [
    "item=\"오징어땅콩\" #품목\n",
    "unit=1000 #단가\n",
    "qty=10 #수량\n",
    "tot=unit*qty #합계\n",
    "\n",
    "print(\"case1\") #기존의 방식\n",
    "print(\"품목:\",item,\" 단가:\",unit,\"원 수량:\",qty,\"개 합계:\",tot,\"원\")\n",
    "\n",
    "print(\"case2\") #하나의 긴 문자열을 만들어 출력하면 공백없이 출력이 가능\n",
    "print(\"품목:\"+item+\" 단가:\"+str(unit)+\"원 수량:\"+str(qty)+\"개 합계:\"+str(tot)+\"원\")\n",
    "\n",
    "print(\"case3\") #포멧에 맞게 출력문자를 출력한다.\n",
    "print(\"품목:%s 단가:%d원 수량:%d개 합계:%d원\"%(item,unit,qty,tot))\n",
    "\n",
    "print(\"case4\") #포멧팅하여 값을 형식에 맞게 출력\n",
    "print(\"품목:%-10s 단가:%05d원 수량:0x%02x개 합계:%10.3f원\"%(item,unit,qty,tot))"
   ]
  },
  {
   "cell_type": "code",
   "execution_count": 33,
   "id": "a226db72",
   "metadata": {},
   "outputs": [
    {
     "name": "stdout",
     "output_type": "stream",
     "text": [
      "[ 1000][1000 ][01000]\n",
      "[   땅콩][땅콩   ][   땅콩]\n",
      "[1000]=[3e8][0x3e8][1750]\n",
      "[ 1000%]\n",
      "[a][b][c]\n"
     ]
    }
   ],
   "source": [
    "item=\"땅콩\" #문자형 자료\n",
    "unit=1000 #숫자형 자료\n",
    "\n",
    "print(\"[%5d][%-5d][%05d]\"%(unit,unit,unit)) #5칸 오른쪽 정렬, 5칸 왼쪽 정렬, 5칸 오른쪽 정렬(빈칸은 0)\n",
    "print(\"[%5s][%-5s][%05s]\"%(item,item,item)) #5칸 오른쪽 정렬, 5칸 왼쪽 정렬, 5칸 오른쪽 정렬\n",
    "print(\"[%d]=[%x][%#x][%o]\"%(unit,unit,unit,unit))#정수형 출력, 16진수 출력, 0xb 와 같은 형식으로 표현, 8진수 출력, \n",
    "print(\"[%5d%%]\"%unit) #5칸 왼쪽정렬 + %출력\n",
    "\n",
    "#한글은 1byte로 자르면 에러\n",
    "a=\"abcd\" #문자형 자료 str\n",
    "print(\"[%c][%c][%c]\"%(a[0],a[1],a[2])) #%c는 문자 자료형 출력포멧 a b c 출력"
   ]
  },
  {
   "cell_type": "code",
   "execution_count": 34,
   "id": "ef0d1232",
   "metadata": {},
   "outputs": [
    {
     "name": "stdout",
     "output_type": "stream",
     "text": [
      "-1,234,567,890.123\n"
     ]
    }
   ],
   "source": [
    "import locale #locale라이브러리를 임포트 함, 설치는 필요없음\n",
    "locale.setlocale(locale.LC_ALL, \"\") # 시스템 기본 로케일 사용\n",
    "n = -1234567890.123 #숫자 입력\n",
    "s = locale.format_string(\"%.3f\", n, 1) #숫자에 대해 3번째 마다 콤마를 찍어준다.\n",
    "print(s)"
   ]
  },
  {
   "cell_type": "code",
   "execution_count": 35,
   "id": "6ecea797",
   "metadata": {},
   "outputs": [
    {
     "name": "stdout",
     "output_type": "stream",
     "text": [
      "***************************************************\n",
      "총금액:    1,000,000원 \t달러환율: $1,010       \n",
      "지급달러: $988         \n",
      "거스름돈:      5원 \t은행수수료:  1,996원\n",
      "***************************************************\n"
     ]
    }
   ],
   "source": [
    "import locale #라이브러리 임포트\n",
    "locale.setlocale(locale.LC_ALL, \"\")  #시스템 기본 로케일 사용\n",
    "\n",
    "myWon=1000000  #숫자형 자료 지정, 100만원\n",
    "moneyEx=1010.12 #달러환율\n",
    "commission_rate=0.002  #은행 수수료\n",
    "a = moneyEx + moneyEx*commission_rate #1달러당 환율금액, 수수료의 합\n",
    "usd = int (myWon /a) #소수점으로 나오는 부분 버림\n",
    "\n",
    "remain = int(myWon - usd * a) #거스름 돈 계산\n",
    "  \n",
    "commission = usd * moneyEx * commission_rate #환전 수수료총액 계산\n",
    "   \n",
    "if(commission != float(int(commission))) : #수수료가 소수점 이하가 있다면\n",
    "    commission = int(commission) +1 # 올림해라\n",
    "else:\n",
    "    commission = int(commission) #수수료가 소수점 이하가 없다면 정수형으로 바꿔라\n",
    "#총액 출력 구간, 포멧팅에 맞게 값을 출력한다.\n",
    "print(\"***************************************************\")\n",
    "print(\"총금액: %s원 \\t달러환율: $%s\"%( \\\n",
    "    locale.format_string(\"%12d\", myWon, 1), \\\n",
    "    locale.format_string(\"%-12d\", moneyEx, 1)) )\n",
    "#거스름돈 출력 구간, 포멧팅에 맞게 값을 출력한다.\n",
    "print(\"지급달러: $%s\"% locale.format_string(\"%-12d\", usd, 1))\n",
    "print(\"거스름돈: %s원 \\t은행수수료: %s원\"%( \\\n",
    "    locale.format_string(\"%6d\", remain, 1), \\\n",
    "    locale.format_string(\"%6d\", commission, 1)) )\n",
    "print(\"***************************************************\")"
   ]
  },
  {
   "cell_type": "code",
   "execution_count": 36,
   "id": "dc389f0e",
   "metadata": {},
   "outputs": [
    {
     "name": "stdout",
     "output_type": "stream",
     "text": [
      "==================================================\n",
      "이름\t국어\t영어\t수학\t총점\t평균\n",
      "==================================================\n",
      "나연 \t 100 \t 90 \t 100 \t 290 \t 96\n",
      "정연 \t 90 \t 90 \t 100 \t 280 \t 93\n",
      "모모 \t 80 \t 70 \t 90 \t 240 \t 80\n",
      "사나 \t 90 \t 90 \t 80 \t 260 \t 86\n",
      "지효 \t 100 \t 80 \t 80 \t 260 \t 86\n",
      "미나 \t 50 \t 90 \t 90 \t 230 \t 76\n",
      "다현 \t 80 \t 60 \t 100 \t 240 \t 80\n",
      "채영 \t 70 \t 80 \t 90 \t 240 \t 80\n",
      "쯔위 \t 100 \t 90 \t 90 \t 280 \t 93\n",
      "==================================================\n",
      "반총점\t 760 \t 740 \t 820 \t 2320 \t 85.0\n",
      "==================================================\n"
     ]
    }
   ],
   "source": [
    "def titleprint(): #상단부 출력 함수\n",
    "    print(\"=\"*50) #구분선 출력\n",
    "    print(\"이름\\t국어\\t영어\\t수학\\t총점\\t평균\") #항목 출력\n",
    "    print(\"=\"*50) #구분선 출력\n",
    "              \n",
    "def itemprint(name,kor,eng,mat): #4개의 인자를 받는 함수, 성적부분 출력\n",
    "    print(name,\"\\t\",kor,\"\\t\",eng,\"\\t\",mat,\"\\t\",kor+eng+mat,\"\\t\",(kor+eng+mat)//3) #이름,성적,총점, 평균\n",
    "              \n",
    "def tailprint(): #하단부 출력(성적 집계 및 평균)\n",
    "    totkor=0 #숫자형 변수 선언, 국어 성적 합 \n",
    "    toteng=0 #숫자형 변수 선언, 영어 성적 합\n",
    "    totmat=0 #숫자형 변수 선언, 수학 성적 합\n",
    "    for one_student in score: #성적 리스트에서 값을 추출하는 for문\n",
    "        totkor+=one_student[kor] \n",
    "        toteng+=one_student[eng]\n",
    "        totmat+=one_student[mat]\n",
    "    print(\"=\"*50) #구분선 출력\n",
    "    #총점, 평균을 포멧에 맞게 출력한다.\n",
    "    print(\"반총점\\t\",totkor,\"\\t\",toteng,\"\\t\",totmat,\"\\t\"\\\n",
    "        ,(totkor+toteng+totmat),\"\\t\",(totkor+toteng+totmat)/3//9)\n",
    "    print(\"=\"*50) #구분선 출력\n",
    "              \n",
    "#데이터 리스트\n",
    "dili_score=[\"나연,100,90,100\",\n",
    "    \"정연,90,90,100\",\n",
    "    \"모모,80,70,90\",\n",
    "    \"사나,90,90,80\",\n",
    "    \"지효,100,80,80\",\n",
    "    \"미나,50,90,90\",\n",
    "    \"다현,80,60,100\",\n",
    "    \"채영,70,80,90\",\n",
    "    \"쯔위,100,90,90\"]\n",
    "\n",
    "score=[] #추출한 데이터를 담을 리스트 선언\n",
    "for one_rec in dili_score: #2차원리스트에서 값을 하나씩 대입하는 for문\n",
    "    one_score=one_rec.split(\",\") # 콤마 단위로 잘라서 리스트에 대입\n",
    "    one_score[1]=int(one_score[1]) #국어점수 숫자형 변환\n",
    "    one_score[2]=int(one_score[2]) #영어점수 숫자형 변환\n",
    "    one_score[3]=int(one_score[3]) #수학점수 숫자형 변환\n",
    "    score.append(one_score.copy()) # copy에 주의할 것..값 복사\n",
    "\n",
    "# 각 변수들의 리스트에서의 위치\n",
    "name=0;kor=1;eng=2;mat=3\n",
    "\n",
    "#위에서 선언한 함수들을 실행한다.\n",
    "titleprint()\n",
    "for one_student in score:\n",
    "    itemprint(one_student[name],one_student[kor],one_student[eng],one_student[mat])\n",
    "tailprint() "
   ]
  },
  {
   "cell_type": "code",
   "execution_count": null,
   "id": "7fbe95bd",
   "metadata": {},
   "outputs": [],
   "source": []
  }
 ],
 "metadata": {
  "kernelspec": {
   "display_name": "Python 3 (ipykernel)",
   "language": "python",
   "name": "python3"
  },
  "language_info": {
   "codemirror_mode": {
    "name": "ipython",
    "version": 3
   },
   "file_extension": ".py",
   "mimetype": "text/x-python",
   "name": "python",
   "nbconvert_exporter": "python",
   "pygments_lexer": "ipython3",
   "version": "3.8.8rc1"
  }
 },
 "nbformat": 4,
 "nbformat_minor": 5
}
